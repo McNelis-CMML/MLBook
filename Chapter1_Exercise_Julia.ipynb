{
 "cells": [
  {
   "cell_type": "markdown",
   "metadata": {},
   "source": [
    "$\\textbf{Introduction}$\n",
    "\n",
    "We will examine the data set China_Exrates.xlsx, to see how closely the RMB (against the Swiss Franc) following the US Dollar (against the Franc) as well as other currencies.  The Chinese said in 2005 that they are no longer following the USD but using a \"basket indexing\" scheme for managing their exchange rate.  They did not tell us all of the currencies they are watching for their indexing scheme, but they did tell us that they are not using the Swiss Franc and the Australian dollar.  For this reason we use the Swiss Franc as a $\\textit{numeraire}$ currency.  \n",
    "\n",
    "A good follow-up exercise and robustness check for the results we obtain with this notebook would be to use the AUD, Australian dollar, as the $\\textit{numberaire}$.   \n",
    "\n",
    "$\\textbf{Setting Up Julia}$\n",
    "\n",
    "In the following cells we read into our Jupyther notebook the requisite toolboxes or packages we need to import and manage the data for regression analysis."
   ]
  },
  {
   "cell_type": "code",
   "execution_count": 1,
   "metadata": {},
   "outputs": [
    {
     "name": "stderr",
     "output_type": "stream",
     "text": [
      "\u001b[32m\u001b[1m    Updating\u001b[22m\u001b[39m registry at `C:\\Users\\mcnel\\.julia\\registries\\General`\n",
      "\u001b[32m\u001b[1m    Updating\u001b[22m\u001b[39m git-repo `https://github.com/JuliaRegistries/General.git`\n",
      "\u001b[32m\u001b[1m   Resolving\u001b[22m\u001b[39m package versions...\n",
      "\u001b[32m\u001b[1m  No Changes\u001b[22m\u001b[39m to `C:\\Users\\mcnel\\.julia\\environments\\v1.7\\Project.toml`\n",
      "\u001b[32m\u001b[1m  No Changes\u001b[22m\u001b[39m to `C:\\Users\\mcnel\\.julia\\environments\\v1.7\\Manifest.toml`\n"
     ]
    }
   ],
   "source": [
    "using Pkg;\n",
    "Pkg.add(\"DataFrames\")"
   ]
  },
  {
   "cell_type": "code",
   "execution_count": 2,
   "metadata": {},
   "outputs": [],
   "source": [
    "using DataFrames;"
   ]
  },
  {
   "cell_type": "code",
   "execution_count": 3,
   "metadata": {},
   "outputs": [
    {
     "name": "stderr",
     "output_type": "stream",
     "text": [
      "\u001b[32m\u001b[1m   Resolving\u001b[22m\u001b[39m package versions...\n",
      "\u001b[32m\u001b[1m  No Changes\u001b[22m\u001b[39m to `C:\\Users\\mcnel\\.julia\\environments\\v1.7\\Project.toml`\n",
      "\u001b[32m\u001b[1m  No Changes\u001b[22m\u001b[39m to `C:\\Users\\mcnel\\.julia\\environments\\v1.7\\Manifest.toml`\n",
      "\u001b[32m\u001b[1m   Resolving\u001b[22m\u001b[39m package versions...\n",
      "\u001b[32m\u001b[1m  No Changes\u001b[22m\u001b[39m to `C:\\Users\\mcnel\\.julia\\environments\\v1.7\\Project.toml`\n",
      "\u001b[32m\u001b[1m  No Changes\u001b[22m\u001b[39m to `C:\\Users\\mcnel\\.julia\\environments\\v1.7\\Manifest.toml`\n",
      "\u001b[32m\u001b[1m   Resolving\u001b[22m\u001b[39m package versions...\n",
      "\u001b[32m\u001b[1m  No Changes\u001b[22m\u001b[39m to `C:\\Users\\mcnel\\.julia\\environments\\v1.7\\Project.toml`\n",
      "\u001b[32m\u001b[1m  No Changes\u001b[22m\u001b[39m to `C:\\Users\\mcnel\\.julia\\environments\\v1.7\\Manifest.toml`\n",
      "\u001b[32m\u001b[1m   Resolving\u001b[22m\u001b[39m package versions...\n",
      "\u001b[32m\u001b[1m  No Changes\u001b[22m\u001b[39m to `C:\\Users\\mcnel\\.julia\\environments\\v1.7\\Project.toml`\n",
      "\u001b[32m\u001b[1m  No Changes\u001b[22m\u001b[39m to `C:\\Users\\mcnel\\.julia\\environments\\v1.7\\Manifest.toml`\n"
     ]
    }
   ],
   "source": [
    "Pkg.add(\"GLM\")\n",
    "Pkg.add(\"StatsPlots\")\n",
    "Pkg.add(\"MLBase\")\n",
    "Pkg.add(\"XLSX\")\n",
    "import XLSX"
   ]
  },
  {
   "cell_type": "code",
   "execution_count": 4,
   "metadata": {},
   "outputs": [
    {
     "name": "stderr",
     "output_type": "stream",
     "text": [
      "\u001b[32m\u001b[1m   Resolving\u001b[22m\u001b[39m package versions...\n",
      "\u001b[32m\u001b[1m  No Changes\u001b[22m\u001b[39m to `C:\\Users\\mcnel\\.julia\\environments\\v1.7\\Project.toml`\n",
      "\u001b[32m\u001b[1m  No Changes\u001b[22m\u001b[39m to `C:\\Users\\mcnel\\.julia\\environments\\v1.7\\Manifest.toml`\n"
     ]
    }
   ],
   "source": [
    "import Pkg \n",
    "Pkg.add(\"Plots\")"
   ]
  },
  {
   "cell_type": "code",
   "execution_count": 5,
   "metadata": {},
   "outputs": [],
   "source": [
    "using DataFrames\n",
    "using Plots\n",
    "using XLSX\n",
    "using GLM\n",
    "using Statistics\n",
    "using StatsPlots\n",
    "using MLBase"
   ]
  },
  {
   "cell_type": "code",
   "execution_count": 6,
   "metadata": {},
   "outputs": [
    {
     "data": {
      "text/plain": [
       "1000"
      ]
     },
     "execution_count": 6,
     "metadata": {},
     "output_type": "execute_result"
    }
   ],
   "source": [
    "ENV[\"COLUMNS\"] = 1000\n",
    "\n"
   ]
  },
  {
   "cell_type": "markdown",
   "metadata": {},
   "source": [
    "We read in the spreadsheet"
   ]
  },
  {
   "cell_type": "code",
   "execution_count": 7,
   "metadata": {},
   "outputs": [],
   "source": [
    "\n",
    "\n",
    "xf = XLSX.readxlsx(\"China_ExRates.xlsx\")\n",
    "\n",
    "m = xf[1][:];\n",
    "m[1:4,:];\n",
    "\n",
    "\n",
    "df = DataFrame(m[1:end,:],:auto);\n",
    "\n",
    "\n",
    "\n"
   ]
  },
  {
   "cell_type": "markdown",
   "metadata": {},
   "source": [
    "We want to see which data are in which column so that we can extract and label the data for the dependent variable and the regressors."
   ]
  },
  {
   "cell_type": "code",
   "execution_count": 8,
   "metadata": {},
   "outputs": [
    {
     "data": {
      "text/html": [
       "<p>DataFrameRow (69 columns)</p><div class=\"data-frame\"><table class=\"data-frame\"><thead><tr><th></th><th>x1</th><th>x2</th><th>x3</th><th>x4</th><th>x5</th><th>x6</th><th>x7</th><th>x8</th><th>x9</th><th>x10</th><th>x11</th><th>x12</th><th>x13</th><th>x14</th><th>x15</th><th>x16</th><th>x17</th><th>x18</th><th>x19</th><th>x20</th><th>x21</th><th>x22</th><th>x23</th><th>x24</th><th>x25</th><th>x26</th><th>x27</th><th>x28</th><th>x29</th><th>x30</th><th>x31</th><th>x32</th><th>x33</th><th>x34</th><th>x35</th><th>x36</th><th>x37</th><th>x38</th><th>x39</th><th>x40</th><th>x41</th><th>x42</th><th>x43</th><th>x44</th><th>x45</th><th>x46</th><th>x47</th><th>x48</th><th>x49</th><th>x50</th><th>x51</th><th>x52</th><th>x53</th><th>x54</th><th>x55</th><th>x56</th><th>x57</th><th>x58</th><th>x59</th><th>x60</th><th>x61</th><th>x62</th><th>x63</th><th>x64</th><th>x65</th><th>x66</th><th>x67</th><th>x68</th><th>x69</th></tr><tr><th></th><th title=\"Any\">Any</th><th title=\"Any\">Any</th><th title=\"Any\">Any</th><th title=\"Any\">Any</th><th title=\"Any\">Any</th><th title=\"Any\">Any</th><th title=\"Any\">Any</th><th title=\"Any\">Any</th><th title=\"Any\">Any</th><th title=\"Any\">Any</th><th title=\"Any\">Any</th><th title=\"Any\">Any</th><th title=\"Any\">Any</th><th title=\"Any\">Any</th><th title=\"Any\">Any</th><th title=\"Any\">Any</th><th title=\"Any\">Any</th><th title=\"Any\">Any</th><th title=\"Any\">Any</th><th title=\"Any\">Any</th><th title=\"Any\">Any</th><th title=\"Any\">Any</th><th title=\"Any\">Any</th><th title=\"Any\">Any</th><th title=\"Any\">Any</th><th title=\"Any\">Any</th><th title=\"Any\">Any</th><th title=\"Any\">Any</th><th title=\"Any\">Any</th><th title=\"Any\">Any</th><th title=\"Any\">Any</th><th title=\"Any\">Any</th><th title=\"Any\">Any</th><th title=\"Any\">Any</th><th title=\"Any\">Any</th><th title=\"Any\">Any</th><th title=\"Any\">Any</th><th title=\"Any\">Any</th><th title=\"Any\">Any</th><th title=\"Any\">Any</th><th title=\"Any\">Any</th><th title=\"Any\">Any</th><th title=\"Any\">Any</th><th title=\"Any\">Any</th><th title=\"Any\">Any</th><th title=\"Any\">Any</th><th title=\"Any\">Any</th><th title=\"Any\">Any</th><th title=\"Any\">Any</th><th title=\"Any\">Any</th><th title=\"Any\">Any</th><th title=\"Any\">Any</th><th title=\"Any\">Any</th><th title=\"Any\">Any</th><th title=\"Any\">Any</th><th title=\"Any\">Any</th><th title=\"Any\">Any</th><th title=\"Any\">Any</th><th title=\"Any\">Any</th><th title=\"Any\">Any</th><th title=\"Any\">Any</th><th title=\"Any\">Any</th><th title=\"Any\">Any</th><th title=\"Any\">Any</th><th title=\"Any\">Any</th><th title=\"Any\">Any</th><th title=\"Any\">Any</th><th title=\"Any\">Any</th><th title=\"Any\">Any</th></tr></thead><tbody><tr><th>1</th><td>Date</td><td>USD-CHF</td><td>USD-AUD</td><td>RMBI-CHF</td><td>RMBI-AUD</td><td>RMBI-SGD</td><td>RMBI-THB</td><td>RMBI-MYR</td><td>RMBI-RUB</td><td>RMBI-CAD</td><td>YEN-CHF</td><td>YEN-AUD</td><td>GBP-CHF</td><td>GBP-AUD</td><td>EUR-CHF</td><td>EUR-AUD</td><td>KRW-CHF</td><td>KRW-AUD</td><td>THB-CHF</td><td>MYR-CHF</td><td>SGD-CHF</td><td>CAD-CHF</td><td>RUB-CHF</td><td>THB-AUD</td><td>MYR-AUD</td><td>SGD-AUD</td><td>CAD-AUD</td><td>RUB-AUD</td><td><em>missing</em></td><td><em>missing</em></td><td><em>missing</em></td><td>RMB/DOL</td><td><em>missing</em></td><td><em>missing</em></td><td><em>missing</em></td><td><em>missing</em></td><td><em>missing</em></td><td><em>missing</em></td><td><em>missing</em></td><td><em>missing</em></td><td><em>missing</em></td><td><em>missing</em></td><td><em>missing</em></td><td><em>missing</em></td><td><em>missing</em></td><td><em>missing</em></td><td><em>missing</em></td><td><em>missing</em></td><td><em>missing</em></td><td><em>missing</em></td><td><em>missing</em></td><td><em>missing</em></td><td>USD-CHF</td><td>CHF-USD</td><td><em>missing</em></td><td><em>missing</em></td><td><em>missing</em></td><td><em>missing</em></td><td><em>missing</em></td><td><em>missing</em></td><td><em>missing</em></td><td><em>missing</em></td><td><em>missing</em></td><td><em>missing</em></td><td><em>missing</em></td><td><em>missing</em></td><td><em>missing</em></td><td><em>missing</em></td><td><em>missing</em></td></tr></tbody></table></div>"
      ],
      "text/latex": [
       "\\begin{tabular}{r|ccccccccccccccccccccccccccccccccccccccccccccccccccccccccccccccccccccc}\n",
       "\t& x1 & x2 & x3 & x4 & x5 & x6 & x7 & x8 & x9 & x10 & x11 & x12 & x13 & x14 & x15 & x16 & x17 & x18 & x19 & x20 & x21 & x22 & x23 & x24 & x25 & x26 & x27 & x28 & x29 & x30 & x31 & x32 & x33 & x34 & x35 & x36 & x37 & x38 & x39 & x40 & x41 & x42 & x43 & x44 & x45 & x46 & x47 & x48 & x49 & x50 & x51 & x52 & x53 & x54 & x55 & x56 & x57 & x58 & x59 & x60 & x61 & x62 & x63 & x64 & x65 & x66 & x67 & x68 & x69\\\\\n",
       "\t\\hline\n",
       "\t& Any & Any & Any & Any & Any & Any & Any & Any & Any & Any & Any & Any & Any & Any & Any & Any & Any & Any & Any & Any & Any & Any & Any & Any & Any & Any & Any & Any & Any & Any & Any & Any & Any & Any & Any & Any & Any & Any & Any & Any & Any & Any & Any & Any & Any & Any & Any & Any & Any & Any & Any & Any & Any & Any & Any & Any & Any & Any & Any & Any & Any & Any & Any & Any & Any & Any & Any & Any & Any\\\\\n",
       "\t\\hline\n",
       "\t1 & Date & USD-CHF & USD-AUD & RMBI-CHF & RMBI-AUD & RMBI-SGD & RMBI-THB & RMBI-MYR & RMBI-RUB & RMBI-CAD & YEN-CHF & YEN-AUD & GBP-CHF & GBP-AUD & EUR-CHF & EUR-AUD & KRW-CHF & KRW-AUD & THB-CHF & MYR-CHF & SGD-CHF & CAD-CHF & RUB-CHF & THB-AUD & MYR-AUD & SGD-AUD & CAD-AUD & RUB-AUD & \\emph{missing} & \\emph{missing} & \\emph{missing} & RMB/DOL & \\emph{missing} & \\emph{missing} & \\emph{missing} & \\emph{missing} & \\emph{missing} & \\emph{missing} & \\emph{missing} & \\emph{missing} & \\emph{missing} & \\emph{missing} & \\emph{missing} & \\emph{missing} & \\emph{missing} & \\emph{missing} & \\emph{missing} & \\emph{missing} & \\emph{missing} & \\emph{missing} & \\emph{missing} & \\emph{missing} & USD-CHF & CHF-USD & \\emph{missing} & \\emph{missing} & \\emph{missing} & \\emph{missing} & \\emph{missing} & \\emph{missing} & \\emph{missing} & \\emph{missing} & \\emph{missing} & \\emph{missing} & \\emph{missing} & \\emph{missing} & \\emph{missing} & \\emph{missing} & \\emph{missing} \\\\\n",
       "\\end{tabular}\n"
      ],
      "text/plain": [
       "\u001b[1mDataFrameRow\u001b[0m\n",
       "\u001b[1m Row \u001b[0m│\u001b[1m x1   \u001b[0m\u001b[1m x2      \u001b[0m\u001b[1m x3      \u001b[0m\u001b[1m x4       \u001b[0m\u001b[1m x5       \u001b[0m\u001b[1m x6       \u001b[0m\u001b[1m x7       \u001b[0m\u001b[1m x8       \u001b[0m\u001b[1m x9       \u001b[0m\u001b[1m x10      \u001b[0m\u001b[1m x11     \u001b[0m\u001b[1m x12     \u001b[0m\u001b[1m x13     \u001b[0m\u001b[1m x14     \u001b[0m\u001b[1m x15     \u001b[0m\u001b[1m x16     \u001b[0m\u001b[1m x17     \u001b[0m\u001b[1m x18     \u001b[0m\u001b[1m x19     \u001b[0m\u001b[1m x20     \u001b[0m\u001b[1m x21     \u001b[0m\u001b[1m x22     \u001b[0m\u001b[1m x23     \u001b[0m\u001b[1m x24     \u001b[0m\u001b[1m x25     \u001b[0m\u001b[1m x26     \u001b[0m\u001b[1m x27     \u001b[0m\u001b[1m x28     \u001b[0m\u001b[1m x29     \u001b[0m\u001b[1m x30     \u001b[0m\u001b[1m x31     \u001b[0m\u001b[1m x32     \u001b[0m\u001b[1m x33     \u001b[0m\u001b[1m x34     \u001b[0m\u001b[1m x35     \u001b[0m\u001b[1m x36     \u001b[0m\u001b[1m x37     \u001b[0m\u001b[1m x38     \u001b[0m\u001b[1m x39     \u001b[0m\u001b[1m x40     \u001b[0m\u001b[1m x41     \u001b[0m\u001b[1m x42     \u001b[0m\u001b[1m x43     \u001b[0m\u001b[1m x44     \u001b[0m\u001b[1m x45     \u001b[0m\u001b[1m x46     \u001b[0m\u001b[1m x47     \u001b[0m\u001b[1m x48     \u001b[0m\u001b[1m x49     \u001b[0m\u001b[1m x50     \u001b[0m\u001b[1m x51     \u001b[0m\u001b[1m x52     \u001b[0m\u001b[1m x53     \u001b[0m\u001b[1m x54     \u001b[0m\u001b[1m x55     \u001b[0m\u001b[1m x56     \u001b[0m\u001b[1m x57     \u001b[0m\u001b[1m x58     \u001b[0m\u001b[1m x59     \u001b[0m\u001b[1m x60     \u001b[0m\u001b[1m x61     \u001b[0m\u001b[1m x62     \u001b[0m\u001b[1m x63     \u001b[0m\u001b[1m x64     \u001b[0m\u001b[1m x65     \u001b[0m\u001b[1m x66     \u001b[0m\u001b[1m x67     \u001b[0m\u001b[1m x68     \u001b[0m\u001b[1m x69     \u001b[0m\n",
       "\u001b[1m     \u001b[0m│\u001b[90m Any  \u001b[0m\u001b[90m Any     \u001b[0m\u001b[90m Any     \u001b[0m\u001b[90m Any      \u001b[0m\u001b[90m Any      \u001b[0m\u001b[90m Any      \u001b[0m\u001b[90m Any      \u001b[0m\u001b[90m Any      \u001b[0m\u001b[90m Any      \u001b[0m\u001b[90m Any      \u001b[0m\u001b[90m Any     \u001b[0m\u001b[90m Any     \u001b[0m\u001b[90m Any     \u001b[0m\u001b[90m Any     \u001b[0m\u001b[90m Any     \u001b[0m\u001b[90m Any     \u001b[0m\u001b[90m Any     \u001b[0m\u001b[90m Any     \u001b[0m\u001b[90m Any     \u001b[0m\u001b[90m Any     \u001b[0m\u001b[90m Any     \u001b[0m\u001b[90m Any     \u001b[0m\u001b[90m Any     \u001b[0m\u001b[90m Any     \u001b[0m\u001b[90m Any     \u001b[0m\u001b[90m Any     \u001b[0m\u001b[90m Any     \u001b[0m\u001b[90m Any     \u001b[0m\u001b[90m Any     \u001b[0m\u001b[90m Any     \u001b[0m\u001b[90m Any     \u001b[0m\u001b[90m Any     \u001b[0m\u001b[90m Any     \u001b[0m\u001b[90m Any     \u001b[0m\u001b[90m Any     \u001b[0m\u001b[90m Any     \u001b[0m\u001b[90m Any     \u001b[0m\u001b[90m Any     \u001b[0m\u001b[90m Any     \u001b[0m\u001b[90m Any     \u001b[0m\u001b[90m Any     \u001b[0m\u001b[90m Any     \u001b[0m\u001b[90m Any     \u001b[0m\u001b[90m Any     \u001b[0m\u001b[90m Any     \u001b[0m\u001b[90m Any     \u001b[0m\u001b[90m Any     \u001b[0m\u001b[90m Any     \u001b[0m\u001b[90m Any     \u001b[0m\u001b[90m Any     \u001b[0m\u001b[90m Any     \u001b[0m\u001b[90m Any     \u001b[0m\u001b[90m Any     \u001b[0m\u001b[90m Any     \u001b[0m\u001b[90m Any     \u001b[0m\u001b[90m Any     \u001b[0m\u001b[90m Any     \u001b[0m\u001b[90m Any     \u001b[0m\u001b[90m Any     \u001b[0m\u001b[90m Any     \u001b[0m\u001b[90m Any     \u001b[0m\u001b[90m Any     \u001b[0m\u001b[90m Any     \u001b[0m\u001b[90m Any     \u001b[0m\u001b[90m Any     \u001b[0m\u001b[90m Any     \u001b[0m\u001b[90m Any     \u001b[0m\u001b[90m Any     \u001b[0m\u001b[90m Any     \u001b[0m\n",
       "─────┼─────────────────────────────────────────────────────────────────────────────────────────────────────────────────────────────────────────────────────────────────────────────────────────────────────────────────────────────────────────────────────────────────────────────────────────────────────────────────────────────────────────────────────────────────────────────────────────────────────────────────────────────────────────────────────────────────────────────────────────────────────────────────────────────────────────────────────────────────────────────────────────────────────────────────────────────────────────────────\n",
       "   1 │ Date  USD-CHF  USD-AUD  RMBI-CHF  RMBI-AUD  RMBI-SGD  RMBI-THB  RMBI-MYR  RMBI-RUB  RMBI-CAD  YEN-CHF  YEN-AUD  GBP-CHF  GBP-AUD  EUR-CHF  EUR-AUD  KRW-CHF  KRW-AUD  THB-CHF  MYR-CHF  SGD-CHF  CAD-CHF  RUB-CHF  THB-AUD  MYR-AUD  SGD-AUD  CAD-AUD  RUB-AUD \u001b[90m missing \u001b[0m\u001b[90m missing \u001b[0m\u001b[90m missing \u001b[0m RMB/DOL \u001b[90m missing \u001b[0m\u001b[90m missing \u001b[0m\u001b[90m missing \u001b[0m\u001b[90m missing \u001b[0m\u001b[90m missing \u001b[0m\u001b[90m missing \u001b[0m\u001b[90m missing \u001b[0m\u001b[90m missing \u001b[0m\u001b[90m missing \u001b[0m\u001b[90m missing \u001b[0m\u001b[90m missing \u001b[0m\u001b[90m missing \u001b[0m\u001b[90m missing \u001b[0m\u001b[90m missing \u001b[0m\u001b[90m missing \u001b[0m\u001b[90m missing \u001b[0m\u001b[90m missing \u001b[0m\u001b[90m missing \u001b[0m\u001b[90m missing \u001b[0m\u001b[90m missing \u001b[0m USD-CHF  CHF-USD \u001b[90m missing \u001b[0m\u001b[90m missing \u001b[0m\u001b[90m missing \u001b[0m\u001b[90m missing \u001b[0m\u001b[90m missing \u001b[0m\u001b[90m missing \u001b[0m\u001b[90m missing \u001b[0m\u001b[90m missing \u001b[0m\u001b[90m missing \u001b[0m\u001b[90m missing \u001b[0m\u001b[90m missing \u001b[0m\u001b[90m missing \u001b[0m\u001b[90m missing \u001b[0m\u001b[90m missing \u001b[0m\u001b[90m missing \u001b[0m"
      ]
     },
     "execution_count": 8,
     "metadata": {},
     "output_type": "execute_result"
    }
   ],
   "source": [
    "data = df[1,1:end]\n",
    "\n"
   ]
  },
  {
   "cell_type": "code",
   "execution_count": 10,
   "metadata": {},
   "outputs": [],
   "source": [
    "y = df[2:end,4];\n",
    "xus = df[2:end,2];\n",
    "xjp = df[2:end,11];\n",
    "xkor = df[2:end,17];\n",
    "xeur =df[2:end,15];\n",
    "xuk = df[2:end,13];\n",
    "xsin = df[2:end,21];\n",
    "xmal = df[2:end,20];\n",
    "xthai = df[2:end,19];\n"
   ]
  },
  {
   "cell_type": "markdown",
   "metadata": {},
   "source": [
    "We transform the data into percentage changes. We can also take the logs and the first differences of the log values of the data. We also add in a constant term.  We also add in a constant term at then end as a vector of ones.  While I creat the X matrix with eight exchange rates, I exclude the last three for the first regression."
   ]
  },
  {
   "cell_type": "code",
   "execution_count": 11,
   "metadata": {},
   "outputs": [],
   "source": [
    "ydiff = diff(log.(y));\n",
    "X = [xus xjp xkor xeur xuk xsin xmal xthai];\n",
    "X1 = log.(X);\n",
    "size(X1,2)\n",
    "Xdiff = X1[2:end,:]- X1[1:end-1,:];\n",
    "Xdiff = Xdiff[:,1:5];\n",
    "Xdiff1 = [Xdiff ones(size(Xdiff,1),1)];\n",
    "n = size(Xdiff1,1);\n",
    "k = size(Xdiff1,2);\n",
    "dgf = n-k;\n"
   ]
  },
  {
   "cell_type": "markdown",
   "metadata": {},
   "source": [
    "We run the regression and get the coefficients with std deviations and t-statistics.  We also calculate the r-squared."
   ]
  },
  {
   "cell_type": "code",
   "execution_count": 12,
   "metadata": {},
   "outputs": [
    {
     "name": "stderr",
     "output_type": "stream",
     "text": [
      "\u001b[32m\u001b[1m   Resolving\u001b[22m\u001b[39m package versions...\n",
      "\u001b[32m\u001b[1m  No Changes\u001b[22m\u001b[39m to `C:\\Users\\mcnel\\.julia\\environments\\v1.7\\Project.toml`\n",
      "\u001b[32m\u001b[1m  No Changes\u001b[22m\u001b[39m to `C:\\Users\\mcnel\\.julia\\environments\\v1.7\\Manifest.toml`\n"
     ]
    }
   ],
   "source": [
    "Pkg.add(\"LinearAlgebra\");\n",
    "using LinearAlgebra;"
   ]
  },
  {
   "cell_type": "code",
   "execution_count": 17,
   "metadata": {},
   "outputs": [
    {
     "data": {
      "text/plain": [
       "6×3 Matrix{Float64}:\n",
       "  0.66118     0.0138331   47.7968\n",
       "  0.0356146   0.0108214    3.29113\n",
       "  0.0331434   0.00870213   3.80865\n",
       "  0.0959516   0.0200748    4.77971\n",
       "  0.0295769   0.0156803    1.88624\n",
       " -1.81382e-5  7.21624e-5  -0.251352"
      ]
     },
     "execution_count": 17,
     "metadata": {},
     "output_type": "execute_result"
    }
   ],
   "source": [
    "beta = (Xdiff1'*Xdiff1)\\Xdiff1'*ydiff;\n",
    "ehat1 = ydiff - Xdiff1 * beta;\n",
    "ssr = (ehat1'*ehat1)/dgf;\n",
    "ssy = (ydiff'*ydiff)/n;\n",
    "rsq = 1 - ssr/ssy;\n",
    "Sig_beta =  ssr*inv(Xdiff1'*Xdiff1);\n",
    "Sig_beta1 = diag(Sig_beta);\n",
    "Sig_beta2 = Sig_beta1 .^.5;\n",
    "Tbeta = beta./Sig_beta2;\n",
    "Stats =[beta Sig_beta2 Tbeta]\n",
    "\n"
   ]
  },
  {
   "cell_type": "markdown",
   "metadata": {},
   "source": [
    "We see that the coefficient of the US exchange rate change is .66.  The next strongest effect is that of hte Eueo.  This result makes sense, after all the US and Euro markets are the most important export markets for China.  Japan and Korea have small but significant effects. \n",
    "\n",
    "Now lets do a regression with all of the exchange rates in the model, the Sing Dollar Malaysian Ringgit and the Thai Baht.  "
   ]
  },
  {
   "cell_type": "code",
   "execution_count": 18,
   "metadata": {},
   "outputs": [],
   "source": [
    "ydiff = diff(log.(y));\n",
    "X = [xus xjp xkor xeur xuk xsin xmal xthai];\n",
    "X1 = log.(X);\n",
    "size(X1,2)\n",
    "Xdiff2 = X1[2:end,:]- X1[1:end-1,:];\n",
    "Xdiff3= [Xdiff ones(size(Xdiff,1),1)];\n",
    "n = size(Xdiff3,1);\n",
    "k = size(Xdiff3,2);\n",
    "dgf = n-k;\n",
    "\n",
    "\n"
   ]
  },
  {
   "cell_type": "code",
   "execution_count": 19,
   "metadata": {},
   "outputs": [
    {
     "data": {
      "text/plain": [
       "6×3 Matrix{Float64}:\n",
       "  0.66118     0.0138331   47.7968\n",
       "  0.0356146   0.0108214    3.29113\n",
       "  0.0331434   0.00870213   3.80865\n",
       "  0.0959516   0.0200748    4.77971\n",
       "  0.0295769   0.0156803    1.88624\n",
       " -1.81382e-5  7.21624e-5  -0.251352"
      ]
     },
     "execution_count": 19,
     "metadata": {},
     "output_type": "execute_result"
    }
   ],
   "source": [
    "beta2 = (Xdiff3'*Xdiff3)\\Xdiff3'*ydiff;\n",
    "ehat2 = ydiff - Xdiff3 * beta2;\n",
    "ssr2 = (ehat2'*ehat2)/dgf;\n",
    "ssy = (ydiff'*ydiff)/n;\n",
    "rsq2 = 1 - ssr2/ssy;\n",
    "Sig_beta =  ssr2*inv(Xdiff3'*Xdiff3);\n",
    "Sig_beta1 = diag(Sig_beta);\n",
    "Sig_beta2 = Sig_beta1 .^.5;\n",
    "Tbeta = beta./Sig_beta2;\n",
    "Stats =[beta Sig_beta2 Tbeta]"
   ]
  },
  {
   "cell_type": "markdown",
   "metadata": {},
   "source": [
    "$\\textbf{Interpretation of the Regression Results}$\n",
    "\n",
    "We see that the dollar has the strongest effect, with a high T-statistic.  The next strongest is the Euro.  This makes sense since the US and Euro Area markets are the most important ones for Chinese exports.  What is suprising is the relatively low values for the Japanese Yen and Korean Won, giving the proximity of these countries to China and the heavy investment of these countries in China.  But with the expanded data set, the Singapore Dollar also has a strong effect.  Does this make sense?  Hardly.  \n",
    "\n",
    "One of the key variables we examine in regression analysis is the residuals.  We plot the density or frequency distribution of this variable in the plot below.  Is it normal?  One of the key properties of financial data are fat tails and excess kurtosis--meaning the peak at the center of the distribution is too tall."
   ]
  },
  {
   "cell_type": "code",
   "execution_count": 20,
   "metadata": {},
   "outputs": [
    {
     "data": {
      "image/svg+xml": [
       "<?xml version=\"1.0\" encoding=\"utf-8\"?>\n",
       "<svg xmlns=\"http://www.w3.org/2000/svg\" xmlns:xlink=\"http://www.w3.org/1999/xlink\" width=\"600\" height=\"400\" viewBox=\"0 0 2400 1600\">\n",
       "<defs>\n",
       "  <clipPath id=\"clip120\">\n",
       "    <rect x=\"0\" y=\"0\" width=\"2400\" height=\"1600\"/>\n",
       "  </clipPath>\n",
       "</defs>\n",
       "<path clip-path=\"url(#clip120)\" d=\"\n",
       "M0 1600 L2400 1600 L2400 0 L0 0  Z\n",
       "  \" fill=\"#ffffff\" fill-rule=\"evenodd\" fill-opacity=\"1\"/>\n",
       "<defs>\n",
       "  <clipPath id=\"clip121\">\n",
       "    <rect x=\"480\" y=\"0\" width=\"1681\" height=\"1600\"/>\n",
       "  </clipPath>\n",
       "</defs>\n",
       "<path clip-path=\"url(#clip120)\" d=\"\n",
       "M232.389 1423.18 L2352.76 1423.18 L2352.76 123.472 L232.389 123.472  Z\n",
       "  \" fill=\"#ffffff\" fill-rule=\"evenodd\" fill-opacity=\"1\"/>\n",
       "<defs>\n",
       "  <clipPath id=\"clip122\">\n",
       "    <rect x=\"232\" y=\"123\" width=\"2121\" height=\"1301\"/>\n",
       "  </clipPath>\n",
       "</defs>\n",
       "<polyline clip-path=\"url(#clip122)\" style=\"stroke:#000000; stroke-linecap:butt; stroke-linejoin:round; stroke-width:2; stroke-opacity:0.1; fill:none\" points=\"\n",
       "  436.463,1423.18 436.463,123.472 \n",
       "  \"/>\n",
       "<polyline clip-path=\"url(#clip122)\" style=\"stroke:#000000; stroke-linecap:butt; stroke-linejoin:round; stroke-width:2; stroke-opacity:0.1; fill:none\" points=\"\n",
       "  718.773,1423.18 718.773,123.472 \n",
       "  \"/>\n",
       "<polyline clip-path=\"url(#clip122)\" style=\"stroke:#000000; stroke-linecap:butt; stroke-linejoin:round; stroke-width:2; stroke-opacity:0.1; fill:none\" points=\"\n",
       "  1001.08,1423.18 1001.08,123.472 \n",
       "  \"/>\n",
       "<polyline clip-path=\"url(#clip122)\" style=\"stroke:#000000; stroke-linecap:butt; stroke-linejoin:round; stroke-width:2; stroke-opacity:0.1; fill:none\" points=\"\n",
       "  1283.39,1423.18 1283.39,123.472 \n",
       "  \"/>\n",
       "<polyline clip-path=\"url(#clip122)\" style=\"stroke:#000000; stroke-linecap:butt; stroke-linejoin:round; stroke-width:2; stroke-opacity:0.1; fill:none\" points=\"\n",
       "  1565.7,1423.18 1565.7,123.472 \n",
       "  \"/>\n",
       "<polyline clip-path=\"url(#clip122)\" style=\"stroke:#000000; stroke-linecap:butt; stroke-linejoin:round; stroke-width:2; stroke-opacity:0.1; fill:none\" points=\"\n",
       "  1848.01,1423.18 1848.01,123.472 \n",
       "  \"/>\n",
       "<polyline clip-path=\"url(#clip122)\" style=\"stroke:#000000; stroke-linecap:butt; stroke-linejoin:round; stroke-width:2; stroke-opacity:0.1; fill:none\" points=\"\n",
       "  2130.32,1423.18 2130.32,123.472 \n",
       "  \"/>\n",
       "<polyline clip-path=\"url(#clip120)\" style=\"stroke:#000000; stroke-linecap:butt; stroke-linejoin:round; stroke-width:4; stroke-opacity:1; fill:none\" points=\"\n",
       "  232.389,1423.18 2352.76,1423.18 \n",
       "  \"/>\n",
       "<polyline clip-path=\"url(#clip120)\" style=\"stroke:#000000; stroke-linecap:butt; stroke-linejoin:round; stroke-width:4; stroke-opacity:1; fill:none\" points=\"\n",
       "  436.463,1423.18 436.463,1404.28 \n",
       "  \"/>\n",
       "<polyline clip-path=\"url(#clip120)\" style=\"stroke:#000000; stroke-linecap:butt; stroke-linejoin:round; stroke-width:4; stroke-opacity:1; fill:none\" points=\"\n",
       "  718.773,1423.18 718.773,1404.28 \n",
       "  \"/>\n",
       "<polyline clip-path=\"url(#clip120)\" style=\"stroke:#000000; stroke-linecap:butt; stroke-linejoin:round; stroke-width:4; stroke-opacity:1; fill:none\" points=\"\n",
       "  1001.08,1423.18 1001.08,1404.28 \n",
       "  \"/>\n",
       "<polyline clip-path=\"url(#clip120)\" style=\"stroke:#000000; stroke-linecap:butt; stroke-linejoin:round; stroke-width:4; stroke-opacity:1; fill:none\" points=\"\n",
       "  1283.39,1423.18 1283.39,1404.28 \n",
       "  \"/>\n",
       "<polyline clip-path=\"url(#clip120)\" style=\"stroke:#000000; stroke-linecap:butt; stroke-linejoin:round; stroke-width:4; stroke-opacity:1; fill:none\" points=\"\n",
       "  1565.7,1423.18 1565.7,1404.28 \n",
       "  \"/>\n",
       "<polyline clip-path=\"url(#clip120)\" style=\"stroke:#000000; stroke-linecap:butt; stroke-linejoin:round; stroke-width:4; stroke-opacity:1; fill:none\" points=\"\n",
       "  1848.01,1423.18 1848.01,1404.28 \n",
       "  \"/>\n",
       "<polyline clip-path=\"url(#clip120)\" style=\"stroke:#000000; stroke-linecap:butt; stroke-linejoin:round; stroke-width:4; stroke-opacity:1; fill:none\" points=\"\n",
       "  2130.32,1423.18 2130.32,1404.28 \n",
       "  \"/>\n",
       "<path clip-path=\"url(#clip120)\" d=\"M353.327 1468.75 L383.003 1468.75 L383.003 1472.69 L353.327 1472.69 L353.327 1468.75 Z\" fill=\"#000000\" fill-rule=\"evenodd\" fill-opacity=\"1\" /><path clip-path=\"url(#clip120)\" d=\"M403.095 1454.1 Q399.484 1454.1 397.656 1457.66 Q395.85 1461.2 395.85 1468.33 Q395.85 1475.44 397.656 1479.01 Q399.484 1482.55 403.095 1482.55 Q406.73 1482.55 408.535 1479.01 Q410.364 1475.44 410.364 1468.33 Q410.364 1461.2 408.535 1457.66 Q406.73 1454.1 403.095 1454.1 M403.095 1450.39 Q408.906 1450.39 411.961 1455 Q415.04 1459.58 415.04 1468.33 Q415.04 1477.06 411.961 1481.67 Q408.906 1486.25 403.095 1486.25 Q397.285 1486.25 394.207 1481.67 Q391.151 1477.06 391.151 1468.33 Q391.151 1459.58 394.207 1455 Q397.285 1450.39 403.095 1450.39 Z\" fill=\"#000000\" fill-rule=\"evenodd\" fill-opacity=\"1\" /><path clip-path=\"url(#clip120)\" d=\"M423.257 1479.7 L428.142 1479.7 L428.142 1485.58 L423.257 1485.58 L423.257 1479.7 Z\" fill=\"#000000\" fill-rule=\"evenodd\" fill-opacity=\"1\" /><path clip-path=\"url(#clip120)\" d=\"M448.327 1454.1 Q444.716 1454.1 442.887 1457.66 Q441.081 1461.2 441.081 1468.33 Q441.081 1475.44 442.887 1479.01 Q444.716 1482.55 448.327 1482.55 Q451.961 1482.55 453.766 1479.01 Q455.595 1475.44 455.595 1468.33 Q455.595 1461.2 453.766 1457.66 Q451.961 1454.1 448.327 1454.1 M448.327 1450.39 Q454.137 1450.39 457.192 1455 Q460.271 1459.58 460.271 1468.33 Q460.271 1477.06 457.192 1481.67 Q454.137 1486.25 448.327 1486.25 Q442.516 1486.25 439.438 1481.67 Q436.382 1477.06 436.382 1468.33 Q436.382 1459.58 439.438 1455 Q442.516 1450.39 448.327 1450.39 Z\" fill=\"#000000\" fill-rule=\"evenodd\" fill-opacity=\"1\" /><path clip-path=\"url(#clip120)\" d=\"M467.308 1451.02 L489.53 1451.02 L489.53 1453.01 L476.984 1485.58 L472.1 1485.58 L483.905 1454.96 L467.308 1454.96 L467.308 1451.02 Z\" fill=\"#000000\" fill-rule=\"evenodd\" fill-opacity=\"1\" /><path clip-path=\"url(#clip120)\" d=\"M498.697 1451.02 L517.053 1451.02 L517.053 1454.96 L502.979 1454.96 L502.979 1463.43 Q503.998 1463.08 505.016 1462.92 Q506.035 1462.73 507.053 1462.73 Q512.84 1462.73 516.22 1465.9 Q519.599 1469.08 519.599 1474.49 Q519.599 1480.07 516.127 1483.17 Q512.655 1486.25 506.336 1486.25 Q504.16 1486.25 501.891 1485.88 Q499.646 1485.51 497.238 1484.77 L497.238 1480.07 Q499.322 1481.2 501.544 1481.76 Q503.766 1482.32 506.243 1482.32 Q510.248 1482.32 512.586 1480.21 Q514.924 1478.1 514.924 1474.49 Q514.924 1470.88 512.586 1468.77 Q510.248 1466.67 506.243 1466.67 Q504.368 1466.67 502.493 1467.08 Q500.641 1467.5 498.697 1468.38 L498.697 1451.02 Z\" fill=\"#000000\" fill-rule=\"evenodd\" fill-opacity=\"1\" /><path clip-path=\"url(#clip120)\" d=\"M635.14 1468.75 L664.815 1468.75 L664.815 1472.69 L635.14 1472.69 L635.14 1468.75 Z\" fill=\"#000000\" fill-rule=\"evenodd\" fill-opacity=\"1\" /><path clip-path=\"url(#clip120)\" d=\"M684.908 1454.1 Q681.297 1454.1 679.468 1457.66 Q677.663 1461.2 677.663 1468.33 Q677.663 1475.44 679.468 1479.01 Q681.297 1482.55 684.908 1482.55 Q688.542 1482.55 690.348 1479.01 Q692.176 1475.44 692.176 1468.33 Q692.176 1461.2 690.348 1457.66 Q688.542 1454.1 684.908 1454.1 M684.908 1450.39 Q690.718 1450.39 693.774 1455 Q696.852 1459.58 696.852 1468.33 Q696.852 1477.06 693.774 1481.67 Q690.718 1486.25 684.908 1486.25 Q679.098 1486.25 676.019 1481.67 Q672.964 1477.06 672.964 1468.33 Q672.964 1459.58 676.019 1455 Q679.098 1450.39 684.908 1450.39 Z\" fill=\"#000000\" fill-rule=\"evenodd\" fill-opacity=\"1\" /><path clip-path=\"url(#clip120)\" d=\"M705.07 1479.7 L709.954 1479.7 L709.954 1485.58 L705.07 1485.58 L705.07 1479.7 Z\" fill=\"#000000\" fill-rule=\"evenodd\" fill-opacity=\"1\" /><path clip-path=\"url(#clip120)\" d=\"M730.139 1454.1 Q726.528 1454.1 724.699 1457.66 Q722.894 1461.2 722.894 1468.33 Q722.894 1475.44 724.699 1479.01 Q726.528 1482.55 730.139 1482.55 Q733.773 1482.55 735.579 1479.01 Q737.408 1475.44 737.408 1468.33 Q737.408 1461.2 735.579 1457.66 Q733.773 1454.1 730.139 1454.1 M730.139 1450.39 Q735.949 1450.39 739.005 1455 Q742.084 1459.58 742.084 1468.33 Q742.084 1477.06 739.005 1481.67 Q735.949 1486.25 730.139 1486.25 Q724.329 1486.25 721.25 1481.67 Q718.195 1477.06 718.195 1468.33 Q718.195 1459.58 721.25 1455 Q724.329 1450.39 730.139 1450.39 Z\" fill=\"#000000\" fill-rule=\"evenodd\" fill-opacity=\"1\" /><path clip-path=\"url(#clip120)\" d=\"M750.347 1451.02 L768.704 1451.02 L768.704 1454.96 L754.63 1454.96 L754.63 1463.43 Q755.648 1463.08 756.667 1462.92 Q757.685 1462.73 758.704 1462.73 Q764.491 1462.73 767.87 1465.9 Q771.25 1469.08 771.25 1474.49 Q771.25 1480.07 767.778 1483.17 Q764.306 1486.25 757.986 1486.25 Q755.81 1486.25 753.542 1485.88 Q751.296 1485.51 748.889 1484.77 L748.889 1480.07 Q750.972 1481.2 753.195 1481.76 Q755.417 1482.32 757.894 1482.32 Q761.898 1482.32 764.236 1480.21 Q766.574 1478.1 766.574 1474.49 Q766.574 1470.88 764.236 1468.77 Q761.898 1466.67 757.894 1466.67 Q756.019 1466.67 754.144 1467.08 Q752.292 1467.5 750.347 1468.38 L750.347 1451.02 Z\" fill=\"#000000\" fill-rule=\"evenodd\" fill-opacity=\"1\" /><path clip-path=\"url(#clip120)\" d=\"M790.463 1454.1 Q786.852 1454.1 785.023 1457.66 Q783.218 1461.2 783.218 1468.33 Q783.218 1475.44 785.023 1479.01 Q786.852 1482.55 790.463 1482.55 Q794.097 1482.55 795.903 1479.01 Q797.731 1475.44 797.731 1468.33 Q797.731 1461.2 795.903 1457.66 Q794.097 1454.1 790.463 1454.1 M790.463 1450.39 Q796.273 1450.39 799.329 1455 Q802.407 1459.58 802.407 1468.33 Q802.407 1477.06 799.329 1481.67 Q796.273 1486.25 790.463 1486.25 Q784.653 1486.25 781.574 1481.67 Q778.518 1477.06 778.518 1468.33 Q778.518 1459.58 781.574 1455 Q784.653 1450.39 790.463 1450.39 Z\" fill=\"#000000\" fill-rule=\"evenodd\" fill-opacity=\"1\" /><path clip-path=\"url(#clip120)\" d=\"M917.947 1468.75 L947.623 1468.75 L947.623 1472.69 L917.947 1472.69 L917.947 1468.75 Z\" fill=\"#000000\" fill-rule=\"evenodd\" fill-opacity=\"1\" /><path clip-path=\"url(#clip120)\" d=\"M967.716 1454.1 Q964.105 1454.1 962.276 1457.66 Q960.47 1461.2 960.47 1468.33 Q960.47 1475.44 962.276 1479.01 Q964.105 1482.55 967.716 1482.55 Q971.35 1482.55 973.156 1479.01 Q974.984 1475.44 974.984 1468.33 Q974.984 1461.2 973.156 1457.66 Q971.35 1454.1 967.716 1454.1 M967.716 1450.39 Q973.526 1450.39 976.581 1455 Q979.66 1459.58 979.66 1468.33 Q979.66 1477.06 976.581 1481.67 Q973.526 1486.25 967.716 1486.25 Q961.906 1486.25 958.827 1481.67 Q955.771 1477.06 955.771 1468.33 Q955.771 1459.58 958.827 1455 Q961.906 1450.39 967.716 1450.39 Z\" fill=\"#000000\" fill-rule=\"evenodd\" fill-opacity=\"1\" /><path clip-path=\"url(#clip120)\" d=\"M987.878 1479.7 L992.762 1479.7 L992.762 1485.58 L987.878 1485.58 L987.878 1479.7 Z\" fill=\"#000000\" fill-rule=\"evenodd\" fill-opacity=\"1\" /><path clip-path=\"url(#clip120)\" d=\"M1012.95 1454.1 Q1009.34 1454.1 1007.51 1457.66 Q1005.7 1461.2 1005.7 1468.33 Q1005.7 1475.44 1007.51 1479.01 Q1009.34 1482.55 1012.95 1482.55 Q1016.58 1482.55 1018.39 1479.01 Q1020.22 1475.44 1020.22 1468.33 Q1020.22 1461.2 1018.39 1457.66 Q1016.58 1454.1 1012.95 1454.1 M1012.95 1450.39 Q1018.76 1450.39 1021.81 1455 Q1024.89 1459.58 1024.89 1468.33 Q1024.89 1477.06 1021.81 1481.67 Q1018.76 1486.25 1012.95 1486.25 Q1007.14 1486.25 1004.06 1481.67 Q1001 1477.06 1001 1468.33 Q1001 1459.58 1004.06 1455 Q1007.14 1450.39 1012.95 1450.39 Z\" fill=\"#000000\" fill-rule=\"evenodd\" fill-opacity=\"1\" /><path clip-path=\"url(#clip120)\" d=\"M1037.14 1481.64 L1053.46 1481.64 L1053.46 1485.58 L1031.51 1485.58 L1031.51 1481.64 Q1034.17 1478.89 1038.76 1474.26 Q1043.36 1469.61 1044.54 1468.27 Q1046.79 1465.74 1047.67 1464.01 Q1048.57 1462.25 1048.57 1460.56 Q1048.57 1457.8 1046.63 1456.07 Q1044.71 1454.33 1041.6 1454.33 Q1039.41 1454.33 1036.95 1455.09 Q1034.52 1455.86 1031.74 1457.41 L1031.74 1452.69 Q1034.57 1451.55 1037.02 1450.97 Q1039.47 1450.39 1041.51 1450.39 Q1046.88 1450.39 1050.08 1453.08 Q1053.27 1455.77 1053.27 1460.26 Q1053.27 1462.39 1052.46 1464.31 Q1051.67 1466.2 1049.57 1468.8 Q1048.99 1469.47 1045.89 1472.69 Q1042.78 1475.88 1037.14 1481.64 Z\" fill=\"#000000\" fill-rule=\"evenodd\" fill-opacity=\"1\" /><path clip-path=\"url(#clip120)\" d=\"M1063.32 1451.02 L1081.67 1451.02 L1081.67 1454.96 L1067.6 1454.96 L1067.6 1463.43 Q1068.62 1463.08 1069.64 1462.92 Q1070.65 1462.73 1071.67 1462.73 Q1077.46 1462.73 1080.84 1465.9 Q1084.22 1469.08 1084.22 1474.49 Q1084.22 1480.07 1080.75 1483.17 Q1077.28 1486.25 1070.96 1486.25 Q1068.78 1486.25 1066.51 1485.88 Q1064.27 1485.51 1061.86 1484.77 L1061.86 1480.07 Q1063.94 1481.2 1066.16 1481.76 Q1068.39 1482.32 1070.86 1482.32 Q1074.87 1482.32 1077.21 1480.21 Q1079.54 1478.1 1079.54 1474.49 Q1079.54 1470.88 1077.21 1468.77 Q1074.87 1466.67 1070.86 1466.67 Q1068.99 1466.67 1067.11 1467.08 Q1065.26 1467.5 1063.32 1468.38 L1063.32 1451.02 Z\" fill=\"#000000\" fill-rule=\"evenodd\" fill-opacity=\"1\" /><path clip-path=\"url(#clip120)\" d=\"M1230.62 1454.1 Q1227.01 1454.1 1225.18 1457.66 Q1223.37 1461.2 1223.37 1468.33 Q1223.37 1475.44 1225.18 1479.01 Q1227.01 1482.55 1230.62 1482.55 Q1234.25 1482.55 1236.06 1479.01 Q1237.88 1475.44 1237.88 1468.33 Q1237.88 1461.2 1236.06 1457.66 Q1234.25 1454.1 1230.62 1454.1 M1230.62 1450.39 Q1236.43 1450.39 1239.48 1455 Q1242.56 1459.58 1242.56 1468.33 Q1242.56 1477.06 1239.48 1481.67 Q1236.43 1486.25 1230.62 1486.25 Q1224.81 1486.25 1221.73 1481.67 Q1218.67 1477.06 1218.67 1468.33 Q1218.67 1459.58 1221.73 1455 Q1224.81 1450.39 1230.62 1450.39 Z\" fill=\"#000000\" fill-rule=\"evenodd\" fill-opacity=\"1\" /><path clip-path=\"url(#clip120)\" d=\"M1250.78 1479.7 L1255.66 1479.7 L1255.66 1485.58 L1250.78 1485.58 L1250.78 1479.7 Z\" fill=\"#000000\" fill-rule=\"evenodd\" fill-opacity=\"1\" /><path clip-path=\"url(#clip120)\" d=\"M1275.85 1454.1 Q1272.24 1454.1 1270.41 1457.66 Q1268.6 1461.2 1268.6 1468.33 Q1268.6 1475.44 1270.41 1479.01 Q1272.24 1482.55 1275.85 1482.55 Q1279.48 1482.55 1281.29 1479.01 Q1283.12 1475.44 1283.12 1468.33 Q1283.12 1461.2 1281.29 1457.66 Q1279.48 1454.1 1275.85 1454.1 M1275.85 1450.39 Q1281.66 1450.39 1284.71 1455 Q1287.79 1459.58 1287.79 1468.33 Q1287.79 1477.06 1284.71 1481.67 Q1281.66 1486.25 1275.85 1486.25 Q1270.04 1486.25 1266.96 1481.67 Q1263.9 1477.06 1263.9 1468.33 Q1263.9 1459.58 1266.96 1455 Q1270.04 1450.39 1275.85 1450.39 Z\" fill=\"#000000\" fill-rule=\"evenodd\" fill-opacity=\"1\" /><path clip-path=\"url(#clip120)\" d=\"M1306.01 1454.1 Q1302.4 1454.1 1300.57 1457.66 Q1298.76 1461.2 1298.76 1468.33 Q1298.76 1475.44 1300.57 1479.01 Q1302.4 1482.55 1306.01 1482.55 Q1309.64 1482.55 1311.45 1479.01 Q1313.28 1475.44 1313.28 1468.33 Q1313.28 1461.2 1311.45 1457.66 Q1309.64 1454.1 1306.01 1454.1 M1306.01 1450.39 Q1311.82 1450.39 1314.88 1455 Q1317.95 1459.58 1317.95 1468.33 Q1317.95 1477.06 1314.88 1481.67 Q1311.82 1486.25 1306.01 1486.25 Q1300.2 1486.25 1297.12 1481.67 Q1294.07 1477.06 1294.07 1468.33 Q1294.07 1459.58 1297.12 1455 Q1300.2 1450.39 1306.01 1450.39 Z\" fill=\"#000000\" fill-rule=\"evenodd\" fill-opacity=\"1\" /><path clip-path=\"url(#clip120)\" d=\"M1336.17 1454.1 Q1332.56 1454.1 1330.73 1457.66 Q1328.93 1461.2 1328.93 1468.33 Q1328.93 1475.44 1330.73 1479.01 Q1332.56 1482.55 1336.17 1482.55 Q1339.81 1482.55 1341.61 1479.01 Q1343.44 1475.44 1343.44 1468.33 Q1343.44 1461.2 1341.61 1457.66 Q1339.81 1454.1 1336.17 1454.1 M1336.17 1450.39 Q1341.98 1450.39 1345.04 1455 Q1348.12 1459.58 1348.12 1468.33 Q1348.12 1477.06 1345.04 1481.67 Q1341.98 1486.25 1336.17 1486.25 Q1330.36 1486.25 1327.28 1481.67 Q1324.23 1477.06 1324.23 1468.33 Q1324.23 1459.58 1327.28 1455 Q1330.36 1450.39 1336.17 1450.39 Z\" fill=\"#000000\" fill-rule=\"evenodd\" fill-opacity=\"1\" /><path clip-path=\"url(#clip120)\" d=\"M1513.42 1454.1 Q1509.81 1454.1 1507.98 1457.66 Q1506.18 1461.2 1506.18 1468.33 Q1506.18 1475.44 1507.98 1479.01 Q1509.81 1482.55 1513.42 1482.55 Q1517.06 1482.55 1518.86 1479.01 Q1520.69 1475.44 1520.69 1468.33 Q1520.69 1461.2 1518.86 1457.66 Q1517.06 1454.1 1513.42 1454.1 M1513.42 1450.39 Q1519.23 1450.39 1522.29 1455 Q1525.37 1459.58 1525.37 1468.33 Q1525.37 1477.06 1522.29 1481.67 Q1519.23 1486.25 1513.42 1486.25 Q1507.61 1486.25 1504.54 1481.67 Q1501.48 1477.06 1501.48 1468.33 Q1501.48 1459.58 1504.54 1455 Q1507.61 1450.39 1513.42 1450.39 Z\" fill=\"#000000\" fill-rule=\"evenodd\" fill-opacity=\"1\" /><path clip-path=\"url(#clip120)\" d=\"M1533.59 1479.7 L1538.47 1479.7 L1538.47 1485.58 L1533.59 1485.58 L1533.59 1479.7 Z\" fill=\"#000000\" fill-rule=\"evenodd\" fill-opacity=\"1\" /><path clip-path=\"url(#clip120)\" d=\"M1558.66 1454.1 Q1555.04 1454.1 1553.22 1457.66 Q1551.41 1461.2 1551.41 1468.33 Q1551.41 1475.44 1553.22 1479.01 Q1555.04 1482.55 1558.66 1482.55 Q1562.29 1482.55 1564.1 1479.01 Q1565.92 1475.44 1565.92 1468.33 Q1565.92 1461.2 1564.1 1457.66 Q1562.29 1454.1 1558.66 1454.1 M1558.66 1450.39 Q1564.47 1450.39 1567.52 1455 Q1570.6 1459.58 1570.6 1468.33 Q1570.6 1477.06 1567.52 1481.67 Q1564.47 1486.25 1558.66 1486.25 Q1552.85 1486.25 1549.77 1481.67 Q1546.71 1477.06 1546.71 1468.33 Q1546.71 1459.58 1549.77 1455 Q1552.85 1450.39 1558.66 1450.39 Z\" fill=\"#000000\" fill-rule=\"evenodd\" fill-opacity=\"1\" /><path clip-path=\"url(#clip120)\" d=\"M1582.85 1481.64 L1599.16 1481.64 L1599.16 1485.58 L1577.22 1485.58 L1577.22 1481.64 Q1579.88 1478.89 1584.47 1474.26 Q1589.07 1469.61 1590.25 1468.27 Q1592.5 1465.74 1593.38 1464.01 Q1594.28 1462.25 1594.28 1460.56 Q1594.28 1457.8 1592.34 1456.07 Q1590.41 1454.33 1587.31 1454.33 Q1585.11 1454.33 1582.66 1455.09 Q1580.23 1455.86 1577.45 1457.41 L1577.45 1452.69 Q1580.28 1451.55 1582.73 1450.97 Q1585.18 1450.39 1587.22 1450.39 Q1592.59 1450.39 1595.78 1453.08 Q1598.98 1455.77 1598.98 1460.26 Q1598.98 1462.39 1598.17 1464.31 Q1597.38 1466.2 1595.28 1468.8 Q1594.7 1469.47 1591.59 1472.69 Q1588.49 1475.88 1582.85 1481.64 Z\" fill=\"#000000\" fill-rule=\"evenodd\" fill-opacity=\"1\" /><path clip-path=\"url(#clip120)\" d=\"M1609.03 1451.02 L1627.38 1451.02 L1627.38 1454.96 L1613.31 1454.96 L1613.31 1463.43 Q1614.33 1463.08 1615.34 1462.92 Q1616.36 1462.73 1617.38 1462.73 Q1623.17 1462.73 1626.55 1465.9 Q1629.93 1469.08 1629.93 1474.49 Q1629.93 1480.07 1626.46 1483.17 Q1622.98 1486.25 1616.66 1486.25 Q1614.49 1486.25 1612.22 1485.88 Q1609.97 1485.51 1607.57 1484.77 L1607.57 1480.07 Q1609.65 1481.2 1611.87 1481.76 Q1614.09 1482.32 1616.57 1482.32 Q1620.58 1482.32 1622.91 1480.21 Q1625.25 1478.1 1625.25 1474.49 Q1625.25 1470.88 1622.91 1468.77 Q1620.58 1466.67 1616.57 1466.67 Q1614.7 1466.67 1612.82 1467.08 Q1610.97 1467.5 1609.03 1468.38 L1609.03 1451.02 Z\" fill=\"#000000\" fill-rule=\"evenodd\" fill-opacity=\"1\" /><path clip-path=\"url(#clip120)\" d=\"M1795.24 1454.1 Q1791.63 1454.1 1789.8 1457.66 Q1787.99 1461.2 1787.99 1468.33 Q1787.99 1475.44 1789.8 1479.01 Q1791.63 1482.55 1795.24 1482.55 Q1798.87 1482.55 1800.68 1479.01 Q1802.51 1475.44 1802.51 1468.33 Q1802.51 1461.2 1800.68 1457.66 Q1798.87 1454.1 1795.24 1454.1 M1795.24 1450.39 Q1801.05 1450.39 1804.1 1455 Q1807.18 1459.58 1807.18 1468.33 Q1807.18 1477.06 1804.1 1481.67 Q1801.05 1486.25 1795.24 1486.25 Q1789.43 1486.25 1786.35 1481.67 Q1783.29 1477.06 1783.29 1468.33 Q1783.29 1459.58 1786.35 1455 Q1789.43 1450.39 1795.24 1450.39 Z\" fill=\"#000000\" fill-rule=\"evenodd\" fill-opacity=\"1\" /><path clip-path=\"url(#clip120)\" d=\"M1815.4 1479.7 L1820.28 1479.7 L1820.28 1485.58 L1815.4 1485.58 L1815.4 1479.7 Z\" fill=\"#000000\" fill-rule=\"evenodd\" fill-opacity=\"1\" /><path clip-path=\"url(#clip120)\" d=\"M1840.47 1454.1 Q1836.86 1454.1 1835.03 1457.66 Q1833.22 1461.2 1833.22 1468.33 Q1833.22 1475.44 1835.03 1479.01 Q1836.86 1482.55 1840.47 1482.55 Q1844.1 1482.55 1845.91 1479.01 Q1847.74 1475.44 1847.74 1468.33 Q1847.74 1461.2 1845.91 1457.66 Q1844.1 1454.1 1840.47 1454.1 M1840.47 1450.39 Q1846.28 1450.39 1849.33 1455 Q1852.41 1459.58 1852.41 1468.33 Q1852.41 1477.06 1849.33 1481.67 Q1846.28 1486.25 1840.47 1486.25 Q1834.66 1486.25 1831.58 1481.67 Q1828.52 1477.06 1828.52 1468.33 Q1828.52 1459.58 1831.58 1455 Q1834.66 1450.39 1840.47 1450.39 Z\" fill=\"#000000\" fill-rule=\"evenodd\" fill-opacity=\"1\" /><path clip-path=\"url(#clip120)\" d=\"M1860.68 1451.02 L1879.03 1451.02 L1879.03 1454.96 L1864.96 1454.96 L1864.96 1463.43 Q1865.98 1463.08 1867 1462.92 Q1868.01 1462.73 1869.03 1462.73 Q1874.82 1462.73 1878.2 1465.9 Q1881.58 1469.08 1881.58 1474.49 Q1881.58 1480.07 1878.11 1483.17 Q1874.63 1486.25 1868.31 1486.25 Q1866.14 1486.25 1863.87 1485.88 Q1861.63 1485.51 1859.22 1484.77 L1859.22 1480.07 Q1861.3 1481.2 1863.52 1481.76 Q1865.75 1482.32 1868.22 1482.32 Q1872.23 1482.32 1874.56 1480.21 Q1876.9 1478.1 1876.9 1474.49 Q1876.9 1470.88 1874.56 1468.77 Q1872.23 1466.67 1868.22 1466.67 Q1866.35 1466.67 1864.47 1467.08 Q1862.62 1467.5 1860.68 1468.38 L1860.68 1451.02 Z\" fill=\"#000000\" fill-rule=\"evenodd\" fill-opacity=\"1\" /><path clip-path=\"url(#clip120)\" d=\"M1900.79 1454.1 Q1897.18 1454.1 1895.35 1457.66 Q1893.55 1461.2 1893.55 1468.33 Q1893.55 1475.44 1895.35 1479.01 Q1897.18 1482.55 1900.79 1482.55 Q1904.43 1482.55 1906.23 1479.01 Q1908.06 1475.44 1908.06 1468.33 Q1908.06 1461.2 1906.23 1457.66 Q1904.43 1454.1 1900.79 1454.1 M1900.79 1450.39 Q1906.6 1450.39 1909.66 1455 Q1912.74 1459.58 1912.74 1468.33 Q1912.74 1477.06 1909.66 1481.67 Q1906.6 1486.25 1900.79 1486.25 Q1894.98 1486.25 1891.9 1481.67 Q1888.85 1477.06 1888.85 1468.33 Q1888.85 1459.58 1891.9 1455 Q1894.98 1450.39 1900.79 1450.39 Z\" fill=\"#000000\" fill-rule=\"evenodd\" fill-opacity=\"1\" /><path clip-path=\"url(#clip120)\" d=\"M2078.04 1454.1 Q2074.43 1454.1 2072.6 1457.66 Q2070.8 1461.2 2070.8 1468.33 Q2070.8 1475.44 2072.6 1479.01 Q2074.43 1482.55 2078.04 1482.55 Q2081.68 1482.55 2083.48 1479.01 Q2085.31 1475.44 2085.31 1468.33 Q2085.31 1461.2 2083.48 1457.66 Q2081.68 1454.1 2078.04 1454.1 M2078.04 1450.39 Q2083.85 1450.39 2086.91 1455 Q2089.99 1459.58 2089.99 1468.33 Q2089.99 1477.06 2086.91 1481.67 Q2083.85 1486.25 2078.04 1486.25 Q2072.23 1486.25 2069.16 1481.67 Q2066.1 1477.06 2066.1 1468.33 Q2066.1 1459.58 2069.16 1455 Q2072.23 1450.39 2078.04 1450.39 Z\" fill=\"#000000\" fill-rule=\"evenodd\" fill-opacity=\"1\" /><path clip-path=\"url(#clip120)\" d=\"M2098.21 1479.7 L2103.09 1479.7 L2103.09 1485.58 L2098.21 1485.58 L2098.21 1479.7 Z\" fill=\"#000000\" fill-rule=\"evenodd\" fill-opacity=\"1\" /><path clip-path=\"url(#clip120)\" d=\"M2123.28 1454.1 Q2119.66 1454.1 2117.84 1457.66 Q2116.03 1461.2 2116.03 1468.33 Q2116.03 1475.44 2117.84 1479.01 Q2119.66 1482.55 2123.28 1482.55 Q2126.91 1482.55 2128.72 1479.01 Q2130.54 1475.44 2130.54 1468.33 Q2130.54 1461.2 2128.72 1457.66 Q2126.91 1454.1 2123.28 1454.1 M2123.28 1450.39 Q2129.09 1450.39 2132.14 1455 Q2135.22 1459.58 2135.22 1468.33 Q2135.22 1477.06 2132.14 1481.67 Q2129.09 1486.25 2123.28 1486.25 Q2117.47 1486.25 2114.39 1481.67 Q2111.33 1477.06 2111.33 1468.33 Q2111.33 1459.58 2114.39 1455 Q2117.47 1450.39 2123.28 1450.39 Z\" fill=\"#000000\" fill-rule=\"evenodd\" fill-opacity=\"1\" /><path clip-path=\"url(#clip120)\" d=\"M2142.26 1451.02 L2164.48 1451.02 L2164.48 1453.01 L2151.93 1485.58 L2147.05 1485.58 L2158.85 1454.96 L2142.26 1454.96 L2142.26 1451.02 Z\" fill=\"#000000\" fill-rule=\"evenodd\" fill-opacity=\"1\" /><path clip-path=\"url(#clip120)\" d=\"M2173.65 1451.02 L2192 1451.02 L2192 1454.96 L2177.93 1454.96 L2177.93 1463.43 Q2178.95 1463.08 2179.97 1462.92 Q2180.98 1462.73 2182 1462.73 Q2187.79 1462.73 2191.17 1465.9 Q2194.55 1469.08 2194.55 1474.49 Q2194.55 1480.07 2191.08 1483.17 Q2187.6 1486.25 2181.28 1486.25 Q2179.11 1486.25 2176.84 1485.88 Q2174.59 1485.51 2172.19 1484.77 L2172.19 1480.07 Q2174.27 1481.2 2176.49 1481.76 Q2178.72 1482.32 2181.19 1482.32 Q2185.2 1482.32 2187.53 1480.21 Q2189.87 1478.1 2189.87 1474.49 Q2189.87 1470.88 2187.53 1468.77 Q2185.2 1466.67 2181.19 1466.67 Q2179.32 1466.67 2177.44 1467.08 Q2175.59 1467.5 2173.65 1468.38 L2173.65 1451.02 Z\" fill=\"#000000\" fill-rule=\"evenodd\" fill-opacity=\"1\" /><path clip-path=\"url(#clip120)\" d=\"M1165.27 1545.76 Q1167.34 1546.46 1169.28 1548.76 Q1171.26 1551.05 1173.23 1555.06 L1179.76 1568.04 L1172.85 1568.04 L1166.77 1555.85 Q1164.42 1551.08 1162.19 1549.52 Q1159.99 1547.96 1156.17 1547.96 L1149.17 1547.96 L1149.17 1568.04 L1142.74 1568.04 L1142.74 1520.52 L1157.25 1520.52 Q1165.4 1520.52 1169.41 1523.93 Q1173.42 1527.34 1173.42 1534.21 Q1173.42 1538.7 1171.32 1541.66 Q1169.25 1544.62 1165.27 1545.76 M1149.17 1525.81 L1149.17 1542.68 L1157.25 1542.68 Q1161.9 1542.68 1164.26 1540.54 Q1166.64 1538.38 1166.64 1534.21 Q1166.64 1530.04 1164.26 1527.94 Q1161.9 1525.81 1157.25 1525.81 L1149.17 1525.81 Z\" fill=\"#000000\" fill-rule=\"evenodd\" fill-opacity=\"1\" /><path clip-path=\"url(#clip120)\" d=\"M1215.34 1548.76 L1215.34 1551.62 L1188.41 1551.62 Q1188.8 1557.67 1192.04 1560.85 Q1195.32 1564 1201.15 1564 Q1204.52 1564 1207.67 1563.17 Q1210.85 1562.35 1213.97 1560.69 L1213.97 1566.23 Q1210.82 1567.57 1207.51 1568.27 Q1204.2 1568.97 1200.8 1568.97 Q1192.27 1568.97 1187.27 1564 Q1182.3 1559.04 1182.3 1550.57 Q1182.3 1541.82 1187.01 1536.69 Q1191.76 1531.54 1199.78 1531.54 Q1206.97 1531.54 1211.14 1536.18 Q1215.34 1540.8 1215.34 1548.76 M1209.48 1547.04 Q1209.42 1542.23 1206.78 1539.37 Q1204.17 1536.5 1199.84 1536.5 Q1194.94 1536.5 1191.98 1539.27 Q1189.05 1542.04 1188.6 1547.07 L1209.48 1547.04 Z\" fill=\"#000000\" fill-rule=\"evenodd\" fill-opacity=\"1\" /><path clip-path=\"url(#clip120)\" d=\"M1247.68 1533.45 L1247.68 1538.98 Q1245.2 1537.71 1242.52 1537.07 Q1239.85 1536.44 1236.98 1536.44 Q1232.62 1536.44 1230.43 1537.77 Q1228.26 1539.11 1228.26 1541.79 Q1228.26 1543.82 1229.82 1545 Q1231.38 1546.15 1236.09 1547.2 L1238.1 1547.64 Q1244.34 1548.98 1246.95 1551.43 Q1249.59 1553.85 1249.59 1558.21 Q1249.59 1563.17 1245.64 1566.07 Q1241.73 1568.97 1234.85 1568.97 Q1231.99 1568.97 1228.87 1568.39 Q1225.78 1567.85 1222.34 1566.74 L1222.34 1560.69 Q1225.59 1562.38 1228.74 1563.24 Q1231.89 1564.07 1234.98 1564.07 Q1239.12 1564.07 1241.34 1562.66 Q1243.57 1561.23 1243.57 1558.65 Q1243.57 1556.27 1241.95 1554.99 Q1240.36 1553.72 1234.92 1552.54 L1232.88 1552.07 Q1227.44 1550.92 1225.02 1548.56 Q1222.6 1546.18 1222.6 1542.04 Q1222.6 1537.01 1226.16 1534.27 Q1229.73 1531.54 1236.28 1531.54 Q1239.53 1531.54 1242.39 1532.01 Q1245.26 1532.49 1247.68 1533.45 Z\" fill=\"#000000\" fill-rule=\"evenodd\" fill-opacity=\"1\" /><path clip-path=\"url(#clip120)\" d=\"M1258.91 1532.4 L1264.77 1532.4 L1264.77 1568.04 L1258.91 1568.04 L1258.91 1532.4 M1258.91 1518.52 L1264.77 1518.52 L1264.77 1525.93 L1258.91 1525.93 L1258.91 1518.52 Z\" fill=\"#000000\" fill-rule=\"evenodd\" fill-opacity=\"1\" /><path clip-path=\"url(#clip120)\" d=\"M1300.48 1537.81 L1300.48 1518.52 L1306.34 1518.52 L1306.34 1568.04 L1300.48 1568.04 L1300.48 1562.7 Q1298.64 1565.88 1295.8 1567.44 Q1293 1568.97 1289.06 1568.97 Q1282.59 1568.97 1278.52 1563.81 Q1274.48 1558.65 1274.48 1550.25 Q1274.48 1541.85 1278.52 1536.69 Q1282.59 1531.54 1289.06 1531.54 Q1293 1531.54 1295.8 1533.1 Q1298.64 1534.62 1300.48 1537.81 M1280.53 1550.25 Q1280.53 1556.71 1283.17 1560.4 Q1285.84 1564.07 1290.49 1564.07 Q1295.13 1564.07 1297.81 1560.4 Q1300.48 1556.71 1300.48 1550.25 Q1300.48 1543.79 1297.81 1540.13 Q1295.13 1536.44 1290.49 1536.44 Q1285.84 1536.44 1283.17 1540.13 Q1280.53 1543.79 1280.53 1550.25 Z\" fill=\"#000000\" fill-rule=\"evenodd\" fill-opacity=\"1\" /><path clip-path=\"url(#clip120)\" d=\"M1317.8 1553.98 L1317.8 1532.4 L1323.65 1532.4 L1323.65 1553.75 Q1323.65 1558.81 1325.63 1561.36 Q1327.6 1563.87 1331.55 1563.87 Q1336.29 1563.87 1339.03 1560.85 Q1341.8 1557.83 1341.8 1552.61 L1341.8 1532.4 L1347.65 1532.4 L1347.65 1568.04 L1341.8 1568.04 L1341.8 1562.57 Q1339.66 1565.82 1336.83 1567.41 Q1334.03 1568.97 1330.31 1568.97 Q1324.16 1568.97 1320.98 1565.15 Q1317.8 1561.33 1317.8 1553.98 M1332.53 1531.54 L1332.53 1531.54 Z\" fill=\"#000000\" fill-rule=\"evenodd\" fill-opacity=\"1\" /><path clip-path=\"url(#clip120)\" d=\"M1375.92 1550.12 Q1368.82 1550.12 1366.08 1551.75 Q1363.34 1553.37 1363.34 1557.29 Q1363.34 1560.4 1365.38 1562.25 Q1367.45 1564.07 1370.98 1564.07 Q1375.85 1564.07 1378.78 1560.63 Q1381.74 1557.16 1381.74 1551.43 L1381.74 1550.12 L1375.92 1550.12 M1387.6 1547.71 L1387.6 1568.04 L1381.74 1568.04 L1381.74 1562.63 Q1379.74 1565.88 1376.74 1567.44 Q1373.75 1568.97 1369.42 1568.97 Q1363.95 1568.97 1360.7 1565.91 Q1357.49 1562.82 1357.49 1557.67 Q1357.49 1551.65 1361.5 1548.6 Q1365.54 1545.54 1373.53 1545.54 L1381.74 1545.54 L1381.74 1544.97 Q1381.74 1540.93 1379.07 1538.73 Q1376.42 1536.5 1371.62 1536.5 Q1368.56 1536.5 1365.67 1537.23 Q1362.77 1537.97 1360.1 1539.43 L1360.1 1534.02 Q1363.31 1532.78 1366.34 1532.17 Q1369.36 1531.54 1372.22 1531.54 Q1379.96 1531.54 1383.78 1535.55 Q1387.6 1539.56 1387.6 1547.71 Z\" fill=\"#000000\" fill-rule=\"evenodd\" fill-opacity=\"1\" /><path clip-path=\"url(#clip120)\" d=\"M1399.66 1518.52 L1405.52 1518.52 L1405.52 1568.04 L1399.66 1568.04 L1399.66 1518.52 Z\" fill=\"#000000\" fill-rule=\"evenodd\" fill-opacity=\"1\" /><path clip-path=\"url(#clip120)\" d=\"M1440.5 1533.45 L1440.5 1538.98 Q1438.01 1537.71 1435.34 1537.07 Q1432.67 1536.44 1429.8 1536.44 Q1425.44 1536.44 1423.24 1537.77 Q1421.08 1539.11 1421.08 1541.79 Q1421.08 1543.82 1422.64 1545 Q1424.2 1546.15 1428.91 1547.2 L1430.92 1547.64 Q1437.15 1548.98 1439.76 1551.43 Q1442.41 1553.85 1442.41 1558.21 Q1442.41 1563.17 1438.46 1566.07 Q1434.54 1568.97 1427.67 1568.97 Q1424.8 1568.97 1421.69 1568.39 Q1418.6 1567.85 1415.16 1566.74 L1415.16 1560.69 Q1418.41 1562.38 1421.56 1563.24 Q1424.71 1564.07 1427.8 1564.07 Q1431.93 1564.07 1434.16 1562.66 Q1436.39 1561.23 1436.39 1558.65 Q1436.39 1556.27 1434.77 1554.99 Q1433.18 1553.72 1427.73 1552.54 L1425.7 1552.07 Q1420.25 1550.92 1417.83 1548.56 Q1415.41 1546.18 1415.41 1542.04 Q1415.41 1537.01 1418.98 1534.27 Q1422.54 1531.54 1429.1 1531.54 Q1432.35 1531.54 1435.21 1532.01 Q1438.08 1532.49 1440.5 1533.45 Z\" fill=\"#000000\" fill-rule=\"evenodd\" fill-opacity=\"1\" /><polyline clip-path=\"url(#clip122)\" style=\"stroke:#000000; stroke-linecap:butt; stroke-linejoin:round; stroke-width:2; stroke-opacity:0.1; fill:none\" points=\"\n",
       "  232.389,1386.4 2352.76,1386.4 \n",
       "  \"/>\n",
       "<polyline clip-path=\"url(#clip122)\" style=\"stroke:#000000; stroke-linecap:butt; stroke-linejoin:round; stroke-width:2; stroke-opacity:0.1; fill:none\" points=\"\n",
       "  232.389,1108.48 2352.76,1108.48 \n",
       "  \"/>\n",
       "<polyline clip-path=\"url(#clip122)\" style=\"stroke:#000000; stroke-linecap:butt; stroke-linejoin:round; stroke-width:2; stroke-opacity:0.1; fill:none\" points=\"\n",
       "  232.389,830.571 2352.76,830.571 \n",
       "  \"/>\n",
       "<polyline clip-path=\"url(#clip122)\" style=\"stroke:#000000; stroke-linecap:butt; stroke-linejoin:round; stroke-width:2; stroke-opacity:0.1; fill:none\" points=\"\n",
       "  232.389,552.658 2352.76,552.658 \n",
       "  \"/>\n",
       "<polyline clip-path=\"url(#clip122)\" style=\"stroke:#000000; stroke-linecap:butt; stroke-linejoin:round; stroke-width:2; stroke-opacity:0.1; fill:none\" points=\"\n",
       "  232.389,274.746 2352.76,274.746 \n",
       "  \"/>\n",
       "<polyline clip-path=\"url(#clip120)\" style=\"stroke:#000000; stroke-linecap:butt; stroke-linejoin:round; stroke-width:4; stroke-opacity:1; fill:none\" points=\"\n",
       "  232.389,1423.18 232.389,123.472 \n",
       "  \"/>\n",
       "<polyline clip-path=\"url(#clip120)\" style=\"stroke:#000000; stroke-linecap:butt; stroke-linejoin:round; stroke-width:4; stroke-opacity:1; fill:none\" points=\"\n",
       "  232.389,1386.4 251.287,1386.4 \n",
       "  \"/>\n",
       "<polyline clip-path=\"url(#clip120)\" style=\"stroke:#000000; stroke-linecap:butt; stroke-linejoin:round; stroke-width:4; stroke-opacity:1; fill:none\" points=\"\n",
       "  232.389,1108.48 251.287,1108.48 \n",
       "  \"/>\n",
       "<polyline clip-path=\"url(#clip120)\" style=\"stroke:#000000; stroke-linecap:butt; stroke-linejoin:round; stroke-width:4; stroke-opacity:1; fill:none\" points=\"\n",
       "  232.389,830.571 251.287,830.571 \n",
       "  \"/>\n",
       "<polyline clip-path=\"url(#clip120)\" style=\"stroke:#000000; stroke-linecap:butt; stroke-linejoin:round; stroke-width:4; stroke-opacity:1; fill:none\" points=\"\n",
       "  232.389,552.658 251.287,552.658 \n",
       "  \"/>\n",
       "<polyline clip-path=\"url(#clip120)\" style=\"stroke:#000000; stroke-linecap:butt; stroke-linejoin:round; stroke-width:4; stroke-opacity:1; fill:none\" points=\"\n",
       "  232.389,274.746 251.287,274.746 \n",
       "  \"/>\n",
       "<path clip-path=\"url(#clip120)\" d=\"M184.445 1372.19 Q180.834 1372.19 179.005 1375.76 Q177.2 1379.3 177.2 1386.43 Q177.2 1393.54 179.005 1397.1 Q180.834 1400.64 184.445 1400.64 Q188.079 1400.64 189.885 1397.1 Q191.713 1393.54 191.713 1386.43 Q191.713 1379.3 189.885 1375.76 Q188.079 1372.19 184.445 1372.19 M184.445 1368.49 Q190.255 1368.49 193.311 1373.1 Q196.389 1377.68 196.389 1386.43 Q196.389 1395.16 193.311 1399.76 Q190.255 1404.35 184.445 1404.35 Q178.635 1404.35 175.556 1399.76 Q172.501 1395.16 172.501 1386.43 Q172.501 1377.68 175.556 1373.1 Q178.635 1368.49 184.445 1368.49 Z\" fill=\"#000000\" fill-rule=\"evenodd\" fill-opacity=\"1\" /><path clip-path=\"url(#clip120)\" d=\"M149.306 1121.83 L165.626 1121.83 L165.626 1125.76 L143.681 1125.76 L143.681 1121.83 Q146.343 1119.07 150.927 1114.44 Q155.533 1109.79 156.714 1108.45 Q158.959 1105.93 159.839 1104.19 Q160.741 1102.43 160.741 1100.74 Q160.741 1097.99 158.797 1096.25 Q156.876 1094.51 153.774 1094.51 Q151.575 1094.51 149.121 1095.28 Q146.691 1096.04 143.913 1097.59 L143.913 1092.87 Q146.737 1091.74 149.191 1091.16 Q151.644 1090.58 153.681 1090.58 Q159.052 1090.58 162.246 1093.26 Q165.44 1095.95 165.44 1100.44 Q165.44 1102.57 164.63 1104.49 Q163.843 1106.39 161.737 1108.98 Q161.158 1109.65 158.056 1112.87 Q154.954 1116.06 149.306 1121.83 Z\" fill=\"#000000\" fill-rule=\"evenodd\" fill-opacity=\"1\" /><path clip-path=\"url(#clip120)\" d=\"M175.487 1091.2 L193.843 1091.2 L193.843 1095.14 L179.769 1095.14 L179.769 1103.61 Q180.788 1103.26 181.806 1103.1 Q182.825 1102.92 183.843 1102.92 Q189.63 1102.92 193.01 1106.09 Q196.389 1109.26 196.389 1114.68 Q196.389 1120.25 192.917 1123.36 Q189.445 1126.43 183.126 1126.43 Q180.95 1126.43 178.681 1126.06 Q176.436 1125.69 174.028 1124.95 L174.028 1120.25 Q176.112 1121.39 178.334 1121.94 Q180.556 1122.5 183.033 1122.5 Q187.038 1122.5 189.375 1120.39 Q191.713 1118.29 191.713 1114.68 Q191.713 1111.06 189.375 1108.96 Q187.038 1106.85 183.033 1106.85 Q181.158 1106.85 179.283 1107.27 Q177.431 1107.68 175.487 1108.56 L175.487 1091.2 Z\" fill=\"#000000\" fill-rule=\"evenodd\" fill-opacity=\"1\" /><path clip-path=\"url(#clip120)\" d=\"M144.329 813.291 L162.686 813.291 L162.686 817.226 L148.612 817.226 L148.612 825.698 Q149.63 825.351 150.649 825.189 Q151.667 825.004 152.686 825.004 Q158.473 825.004 161.852 828.175 Q165.232 831.346 165.232 836.763 Q165.232 842.341 161.76 845.443 Q158.288 848.522 151.968 848.522 Q149.792 848.522 147.524 848.152 Q145.279 847.781 142.871 847.04 L142.871 842.341 Q144.954 843.476 147.177 844.031 Q149.399 844.587 151.876 844.587 Q155.88 844.587 158.218 842.48 Q160.556 840.374 160.556 836.763 Q160.556 833.152 158.218 831.045 Q155.88 828.939 151.876 828.939 Q150.001 828.939 148.126 829.355 Q146.274 829.772 144.329 830.652 L144.329 813.291 Z\" fill=\"#000000\" fill-rule=\"evenodd\" fill-opacity=\"1\" /><path clip-path=\"url(#clip120)\" d=\"M184.445 816.369 Q180.834 816.369 179.005 819.934 Q177.2 823.476 177.2 830.605 Q177.2 837.712 179.005 841.277 Q180.834 844.818 184.445 844.818 Q188.079 844.818 189.885 841.277 Q191.713 837.712 191.713 830.605 Q191.713 823.476 189.885 819.934 Q188.079 816.369 184.445 816.369 M184.445 812.666 Q190.255 812.666 193.311 817.272 Q196.389 821.855 196.389 830.605 Q196.389 839.332 193.311 843.939 Q190.255 848.522 184.445 848.522 Q178.635 848.522 175.556 843.939 Q172.501 839.332 172.501 830.605 Q172.501 821.855 175.556 817.272 Q178.635 812.666 184.445 812.666 Z\" fill=\"#000000\" fill-rule=\"evenodd\" fill-opacity=\"1\" /><path clip-path=\"url(#clip120)\" d=\"M144.098 535.378 L166.32 535.378 L166.32 537.369 L153.774 569.938 L148.89 569.938 L160.695 539.313 L144.098 539.313 L144.098 535.378 Z\" fill=\"#000000\" fill-rule=\"evenodd\" fill-opacity=\"1\" /><path clip-path=\"url(#clip120)\" d=\"M175.487 535.378 L193.843 535.378 L193.843 539.313 L179.769 539.313 L179.769 547.786 Q180.788 547.438 181.806 547.276 Q182.825 547.091 183.843 547.091 Q189.63 547.091 193.01 550.262 Q196.389 553.434 196.389 558.85 Q196.389 564.429 192.917 567.531 Q189.445 570.609 183.126 570.609 Q180.95 570.609 178.681 570.239 Q176.436 569.869 174.028 569.128 L174.028 564.429 Q176.112 565.563 178.334 566.119 Q180.556 566.674 183.033 566.674 Q187.038 566.674 189.375 564.568 Q191.713 562.461 191.713 558.85 Q191.713 555.239 189.375 553.133 Q187.038 551.026 183.033 551.026 Q181.158 551.026 179.283 551.443 Q177.431 551.86 175.487 552.739 L175.487 535.378 Z\" fill=\"#000000\" fill-rule=\"evenodd\" fill-opacity=\"1\" /><path clip-path=\"url(#clip120)\" d=\"M114.931 288.091 L122.57 288.091 L122.57 261.725 L114.26 263.392 L114.26 259.132 L122.524 257.466 L127.2 257.466 L127.2 288.091 L134.839 288.091 L134.839 292.026 L114.931 292.026 L114.931 288.091 Z\" fill=\"#000000\" fill-rule=\"evenodd\" fill-opacity=\"1\" /><path clip-path=\"url(#clip120)\" d=\"M154.283 260.544 Q150.672 260.544 148.843 264.109 Q147.038 267.651 147.038 274.78 Q147.038 281.887 148.843 285.452 Q150.672 288.993 154.283 288.993 Q157.917 288.993 159.723 285.452 Q161.552 281.887 161.552 274.78 Q161.552 267.651 159.723 264.109 Q157.917 260.544 154.283 260.544 M154.283 256.841 Q160.093 256.841 163.149 261.447 Q166.227 266.03 166.227 274.78 Q166.227 283.507 163.149 288.114 Q160.093 292.697 154.283 292.697 Q148.473 292.697 145.394 288.114 Q142.339 283.507 142.339 274.78 Q142.339 266.03 145.394 261.447 Q148.473 256.841 154.283 256.841 Z\" fill=\"#000000\" fill-rule=\"evenodd\" fill-opacity=\"1\" /><path clip-path=\"url(#clip120)\" d=\"M184.445 260.544 Q180.834 260.544 179.005 264.109 Q177.2 267.651 177.2 274.78 Q177.2 281.887 179.005 285.452 Q180.834 288.993 184.445 288.993 Q188.079 288.993 189.885 285.452 Q191.713 281.887 191.713 274.78 Q191.713 267.651 189.885 264.109 Q188.079 260.544 184.445 260.544 M184.445 256.841 Q190.255 256.841 193.311 261.447 Q196.389 266.03 196.389 274.78 Q196.389 283.507 193.311 288.114 Q190.255 292.697 184.445 292.697 Q178.635 292.697 175.556 288.114 Q172.501 283.507 172.501 274.78 Q172.501 266.03 175.556 261.447 Q178.635 256.841 184.445 256.841 Z\" fill=\"#000000\" fill-rule=\"evenodd\" fill-opacity=\"1\" /><path clip-path=\"url(#clip120)\" d=\"M16.4842 937.529 L16.4842 910.221 L21.895 910.221 L21.895 931.1 L35.8996 931.1 L35.8996 912.258 L41.3104 912.258 L41.3104 931.1 L64.0042 931.1 L64.0042 937.529 L16.4842 937.529 Z\" fill=\"#000000\" fill-rule=\"evenodd\" fill-opacity=\"1\" /><path clip-path=\"url(#clip120)\" d=\"M33.8307 884.376 Q33.2578 885.362 33.0032 886.54 Q32.7167 887.686 32.7167 889.086 Q32.7167 894.052 35.9632 896.725 Q39.1779 899.367 45.2253 899.367 L64.0042 899.367 L64.0042 905.255 L28.3562 905.255 L28.3562 899.367 L33.8944 899.367 Q30.6479 897.521 29.0883 894.561 Q27.4968 891.601 27.4968 887.368 Q27.4968 886.763 27.5923 886.031 Q27.656 885.299 27.8151 884.408 L33.8307 884.376 Z\" fill=\"#000000\" fill-rule=\"evenodd\" fill-opacity=\"1\" /><path clip-path=\"url(#clip120)\" d=\"M44.7161 849.173 L47.5806 849.173 L47.5806 876.1 Q53.6281 875.718 56.8109 872.472 Q59.9619 869.194 59.9619 863.369 Q59.9619 859.995 59.1344 856.844 Q58.3069 853.661 56.6518 850.542 L62.1899 850.542 Q63.5267 853.693 64.227 857.003 Q64.9272 860.313 64.9272 863.719 Q64.9272 872.249 59.9619 877.246 Q54.9967 882.211 46.5303 882.211 Q37.7774 882.211 32.6531 877.501 Q27.4968 872.758 27.4968 864.738 Q27.4968 857.544 32.1438 853.375 Q36.7589 849.173 44.7161 849.173 M42.9973 855.03 Q38.1912 855.093 35.3266 857.735 Q32.4621 860.345 32.4621 864.674 Q32.4621 869.575 35.2312 872.536 Q38.0002 875.464 43.0292 875.909 L42.9973 855.03 Z\" fill=\"#000000\" fill-rule=\"evenodd\" fill-opacity=\"1\" /><path clip-path=\"url(#clip120)\" d=\"M46.212 836.06 Q52.6732 836.06 56.3653 833.418 Q60.0256 830.745 60.0256 826.098 Q60.0256 821.451 56.3653 818.777 Q52.6732 816.104 46.212 816.104 Q39.7508 816.104 36.0905 818.777 Q32.3984 821.451 32.3984 826.098 Q32.3984 830.745 36.0905 833.418 Q39.7508 836.06 46.212 836.06 M58.657 816.104 Q61.8398 817.95 63.3994 820.782 Q64.9272 823.583 64.9272 827.53 Q64.9272 833.991 59.771 838.065 Q54.6147 842.107 46.212 842.107 Q37.8093 842.107 32.6531 838.065 Q27.4968 833.991 27.4968 827.53 Q27.4968 823.583 29.0564 820.782 Q30.5842 817.95 33.7671 816.104 L28.3562 816.104 L28.3562 810.247 L77.5631 810.247 L77.5631 816.104 L58.657 816.104 Z\" fill=\"#000000\" fill-rule=\"evenodd\" fill-opacity=\"1\" /><path clip-path=\"url(#clip120)\" d=\"M49.9359 798.789 L28.3562 798.789 L28.3562 792.932 L49.7131 792.932 Q54.7739 792.932 57.3202 790.959 Q59.8346 788.986 59.8346 785.039 Q59.8346 780.296 56.8109 777.559 Q53.7872 774.79 48.5673 774.79 L28.3562 774.79 L28.3562 768.934 L64.0042 768.934 L64.0042 774.79 L58.5296 774.79 Q61.7762 776.923 63.3676 779.755 Q64.9272 782.556 64.9272 786.28 Q64.9272 792.423 61.1078 795.606 Q57.2883 798.789 49.9359 798.789 M27.4968 784.052 L27.4968 784.052 Z\" fill=\"#000000\" fill-rule=\"evenodd\" fill-opacity=\"1\" /><path clip-path=\"url(#clip120)\" d=\"M44.7161 726.379 L47.5806 726.379 L47.5806 753.306 Q53.6281 752.924 56.8109 749.677 Q59.9619 746.399 59.9619 740.574 Q59.9619 737.201 59.1344 734.05 Q58.3069 730.867 56.6518 727.748 L62.1899 727.748 Q63.5267 730.899 64.227 734.209 Q64.9272 737.519 64.9272 740.925 Q64.9272 749.455 59.9619 754.452 Q54.9967 759.417 46.5303 759.417 Q37.7774 759.417 32.6531 754.706 Q27.4968 749.964 27.4968 741.943 Q27.4968 734.75 32.1438 730.58 Q36.7589 726.379 44.7161 726.379 M42.9973 732.235 Q38.1912 732.299 35.3266 734.941 Q32.4621 737.551 32.4621 741.879 Q32.4621 746.781 35.2312 749.741 Q38.0002 752.669 43.0292 753.115 L42.9973 732.235 Z\" fill=\"#000000\" fill-rule=\"evenodd\" fill-opacity=\"1\" /><path clip-path=\"url(#clip120)\" d=\"M42.4881 687.134 L64.0042 687.134 L64.0042 692.991 L42.679 692.991 Q37.6183 692.991 35.1038 694.964 Q32.5894 696.938 32.5894 700.884 Q32.5894 705.627 35.6131 708.364 Q38.6368 711.101 43.8567 711.101 L64.0042 711.101 L64.0042 716.989 L28.3562 716.989 L28.3562 711.101 L33.8944 711.101 Q30.6797 709.001 29.0883 706.168 Q27.4968 703.303 27.4968 699.579 Q27.4968 693.436 31.3163 690.285 Q35.1038 687.134 42.4881 687.134 Z\" fill=\"#000000\" fill-rule=\"evenodd\" fill-opacity=\"1\" /><path clip-path=\"url(#clip120)\" d=\"M29.7248 649.799 L35.1993 649.799 Q33.8307 652.282 33.1623 654.797 Q32.4621 657.279 32.4621 659.825 Q32.4621 665.523 36.0905 668.674 Q39.6872 671.825 46.212 671.825 Q52.7369 671.825 56.3653 668.674 Q59.9619 665.523 59.9619 659.825 Q59.9619 657.279 59.2935 654.797 Q58.5933 652.282 57.2247 649.799 L62.6355 649.799 Q63.7814 652.25 64.3543 654.892 Q64.9272 657.502 64.9272 660.462 Q64.9272 668.515 59.8664 673.257 Q54.8057 678 46.212 678 Q37.491 678 32.4939 673.225 Q27.4968 668.419 27.4968 660.08 Q27.4968 657.375 28.0697 654.797 Q28.6108 652.218 29.7248 649.799 Z\" fill=\"#000000\" fill-rule=\"evenodd\" fill-opacity=\"1\" /><path clip-path=\"url(#clip120)\" d=\"M67.3143 624.782 Q73.68 627.265 75.6216 629.62 Q77.5631 631.975 77.5631 635.922 L77.5631 640.601 L72.6615 640.601 L72.6615 637.164 Q72.6615 634.745 71.5157 633.408 Q70.3699 632.071 66.1048 630.448 L63.4312 629.397 L28.3562 643.816 L28.3562 637.609 L56.238 626.469 L28.3562 615.329 L28.3562 609.123 L67.3143 624.782 Z\" fill=\"#000000\" fill-rule=\"evenodd\" fill-opacity=\"1\" /><path clip-path=\"url(#clip120)\" d=\"M819.65 18.8205 L819.65 65.8515 L829.534 65.8515 Q842.051 65.8515 847.844 60.1802 Q853.677 54.509 853.677 42.2752 Q853.677 30.1225 847.844 24.4918 Q842.051 18.8205 829.534 18.8205 L819.65 18.8205 M811.467 12.096 L828.278 12.096 Q845.859 12.096 854.082 19.4281 Q862.306 26.7198 862.306 42.2752 Q862.306 57.9117 854.042 65.2439 Q845.778 72.576 828.278 72.576 L811.467 72.576 L811.467 12.096 Z\" fill=\"#000000\" fill-rule=\"evenodd\" fill-opacity=\"1\" /><path clip-path=\"url(#clip120)\" d=\"M913.833 48.0275 L913.833 51.6733 L879.563 51.6733 Q880.049 59.3701 884.181 63.421 Q888.353 67.4314 895.766 67.4314 Q900.06 67.4314 904.071 66.3781 Q908.122 65.3249 912.091 63.2184 L912.091 70.267 Q908.081 71.9684 903.868 72.8596 Q899.655 73.7508 895.321 73.7508 Q884.464 73.7508 878.104 67.4314 Q871.785 61.1119 871.785 50.3365 Q871.785 39.1965 877.78 32.6746 Q883.816 26.1121 894.024 26.1121 Q903.179 26.1121 908.486 32.0264 Q913.833 37.9003 913.833 48.0275 M906.38 45.84 Q906.299 39.7232 902.936 36.0774 Q899.615 32.4315 894.105 32.4315 Q887.867 32.4315 884.1 35.9558 Q880.373 39.4801 879.806 45.8805 L906.38 45.84 Z\" fill=\"#000000\" fill-rule=\"evenodd\" fill-opacity=\"1\" /><path clip-path=\"url(#clip120)\" d=\"M963.781 45.1919 L963.781 72.576 L956.327 72.576 L956.327 45.4349 Q956.327 38.994 953.816 35.7938 Q951.304 32.5936 946.281 32.5936 Q940.245 32.5936 936.761 36.4419 Q933.278 40.2903 933.278 46.9338 L933.278 72.576 L925.784 72.576 L925.784 27.2059 L933.278 27.2059 L933.278 34.2544 Q935.951 30.163 939.557 28.1376 Q943.202 26.1121 947.942 26.1121 Q955.76 26.1121 959.771 30.9732 Q963.781 35.7938 963.781 45.1919 Z\" fill=\"#000000\" fill-rule=\"evenodd\" fill-opacity=\"1\" /><path clip-path=\"url(#clip120)\" d=\"M1007.57 28.5427 L1007.57 35.5912 Q1004.41 33.9709 1001.01 33.1607 Q997.606 32.3505 993.96 32.3505 Q988.41 32.3505 985.615 34.0519 Q982.861 35.7533 982.861 39.156 Q982.861 41.7486 984.846 43.2475 Q986.831 44.7058 992.826 46.0426 L995.378 46.6097 Q1003.32 48.3111 1006.64 51.4303 Q1010 54.509 1010 60.0587 Q1010 66.3781 1004.98 70.0644 Q999.996 73.7508 991.246 73.7508 Q987.6 73.7508 983.63 73.0216 Q979.701 72.3329 975.326 70.9151 L975.326 63.2184 Q979.458 65.3654 983.468 66.4591 Q987.479 67.5124 991.408 67.5124 Q996.674 67.5124 999.51 65.73 Q1002.35 63.9071 1002.35 60.6258 Q1002.35 57.5877 1000.28 55.9673 Q998.254 54.3469 991.327 52.8481 L988.735 52.2405 Q981.808 50.7821 978.729 47.7845 Q975.65 44.7463 975.65 39.4801 Q975.65 33.0797 980.187 29.5959 Q984.724 26.1121 993.069 26.1121 Q997.201 26.1121 1000.85 26.7198 Q1004.49 27.3274 1007.57 28.5427 Z\" fill=\"#000000\" fill-rule=\"evenodd\" fill-opacity=\"1\" /><path clip-path=\"url(#clip120)\" d=\"M1021.87 27.2059 L1029.32 27.2059 L1029.32 72.576 L1021.87 72.576 L1021.87 27.2059 M1021.87 9.54393 L1029.32 9.54393 L1029.32 18.9825 L1021.87 18.9825 L1021.87 9.54393 Z\" fill=\"#000000\" fill-rule=\"evenodd\" fill-opacity=\"1\" /><path clip-path=\"url(#clip120)\" d=\"M1052.29 14.324 L1052.29 27.2059 L1067.65 27.2059 L1067.65 32.9987 L1052.29 32.9987 L1052.29 57.6282 Q1052.29 63.1779 1053.79 64.7578 Q1055.33 66.3376 1059.99 66.3376 L1067.65 66.3376 L1067.65 72.576 L1059.99 72.576 Q1051.36 72.576 1048.08 69.3758 Q1044.8 66.1351 1044.8 57.6282 L1044.8 32.9987 L1039.33 32.9987 L1039.33 27.2059 L1044.8 27.2059 L1044.8 14.324 L1052.29 14.324 Z\" fill=\"#000000\" fill-rule=\"evenodd\" fill-opacity=\"1\" /><path clip-path=\"url(#clip120)\" d=\"M1096.33 76.7889 Q1093.17 84.8907 1090.17 87.3618 Q1087.17 89.8329 1082.15 89.8329 L1076.19 89.8329 L1076.19 83.5945 L1080.57 83.5945 Q1083.65 83.5945 1085.35 82.1361 Q1087.05 80.6778 1089.12 75.2496 L1090.45 71.8468 L1072.1 27.2059 L1080 27.2059 L1094.18 62.6918 L1108.36 27.2059 L1116.26 27.2059 L1096.33 76.7889 Z\" fill=\"#000000\" fill-rule=\"evenodd\" fill-opacity=\"1\" /><path clip-path=\"url(#clip120)\" d=\"M1161.42 18.8205 L1161.42 41.5461 L1171.71 41.5461 Q1177.43 41.5461 1180.54 38.5889 Q1183.66 35.6318 1183.66 30.163 Q1183.66 24.7348 1180.54 21.7777 Q1177.43 18.8205 1171.71 18.8205 L1161.42 18.8205 M1153.24 12.096 L1171.71 12.096 Q1181.88 12.096 1187.07 16.714 Q1192.29 21.2916 1192.29 30.163 Q1192.29 39.1155 1187.07 43.6931 Q1181.88 48.2706 1171.71 48.2706 L1161.42 48.2706 L1161.42 72.576 L1153.24 72.576 L1153.24 12.096 Z\" fill=\"#000000\" fill-rule=\"evenodd\" fill-opacity=\"1\" /><path clip-path=\"url(#clip120)\" d=\"M1202.95 9.54393 L1210.4 9.54393 L1210.4 72.576 L1202.95 72.576 L1202.95 9.54393 Z\" fill=\"#000000\" fill-rule=\"evenodd\" fill-opacity=\"1\" /><path clip-path=\"url(#clip120)\" d=\"M1243.58 32.4315 Q1237.58 32.4315 1234.1 37.1306 Q1230.61 41.7891 1230.61 49.9314 Q1230.61 58.0738 1234.06 62.7728 Q1237.54 67.4314 1243.58 67.4314 Q1249.53 67.4314 1253.02 62.7323 Q1256.5 58.0333 1256.5 49.9314 Q1256.5 41.8701 1253.02 37.1711 Q1249.53 32.4315 1243.58 32.4315 M1243.58 26.1121 Q1253.3 26.1121 1258.85 32.4315 Q1264.4 38.7509 1264.4 49.9314 Q1264.4 61.0714 1258.85 67.4314 Q1253.3 73.7508 1243.58 73.7508 Q1233.81 73.7508 1228.26 67.4314 Q1222.76 61.0714 1222.76 49.9314 Q1222.76 38.7509 1228.26 32.4315 Q1233.81 26.1121 1243.58 26.1121 Z\" fill=\"#000000\" fill-rule=\"evenodd\" fill-opacity=\"1\" /><path clip-path=\"url(#clip120)\" d=\"M1284.13 14.324 L1284.13 27.2059 L1299.48 27.2059 L1299.48 32.9987 L1284.13 32.9987 L1284.13 57.6282 Q1284.13 63.1779 1285.63 64.7578 Q1287.16 66.3376 1291.82 66.3376 L1299.48 66.3376 L1299.48 72.576 L1291.82 72.576 Q1283.19 72.576 1279.91 69.3758 Q1276.63 66.1351 1276.63 57.6282 L1276.63 32.9987 L1271.16 32.9987 L1271.16 27.2059 L1276.63 27.2059 L1276.63 14.324 L1284.13 14.324 Z\" fill=\"#000000\" fill-rule=\"evenodd\" fill-opacity=\"1\" /><path clip-path=\"url(#clip120)\" d=\"M1331.89 46.5287 L1353.72 46.5287 L1353.72 53.1722 L1331.89 53.1722 L1331.89 46.5287 Z\" fill=\"#000000\" fill-rule=\"evenodd\" fill-opacity=\"1\" /><path clip-path=\"url(#clip120)\" d=\"M1420.97 44.2197 Q1423.6 45.1109 1426.07 48.0275 Q1428.58 50.9442 1431.09 56.0483 L1439.4 72.576 L1430.61 72.576 L1422.87 57.061 Q1419.87 50.9847 1417.04 48.9997 Q1414.24 47.0148 1409.38 47.0148 L1400.47 47.0148 L1400.47 72.576 L1392.29 72.576 L1392.29 12.096 L1410.76 12.096 Q1421.13 12.096 1426.23 16.4305 Q1431.34 20.7649 1431.34 29.5149 Q1431.34 35.2267 1428.66 38.994 Q1426.03 42.7613 1420.97 44.2197 M1400.47 18.8205 L1400.47 40.2903 L1410.76 40.2903 Q1416.67 40.2903 1419.67 37.5762 Q1422.71 34.8216 1422.71 29.5149 Q1422.71 24.2082 1419.67 21.5346 Q1416.67 18.8205 1410.76 18.8205 L1400.47 18.8205 Z\" fill=\"#000000\" fill-rule=\"evenodd\" fill-opacity=\"1\" /><path clip-path=\"url(#clip120)\" d=\"M1484.69 48.0275 L1484.69 51.6733 L1450.42 51.6733 Q1450.9 59.3701 1455.03 63.421 Q1459.21 67.4314 1466.62 67.4314 Q1470.91 67.4314 1474.92 66.3781 Q1478.97 65.3249 1482.94 63.2184 L1482.94 70.267 Q1478.93 71.9684 1474.72 72.8596 Q1470.51 73.7508 1466.17 73.7508 Q1455.32 73.7508 1448.96 67.4314 Q1442.64 61.1119 1442.64 50.3365 Q1442.64 39.1965 1448.63 32.6746 Q1454.67 26.1121 1464.88 26.1121 Q1474.03 26.1121 1479.34 32.0264 Q1484.69 37.9003 1484.69 48.0275 M1477.23 45.84 Q1477.15 39.7232 1473.79 36.0774 Q1470.47 32.4315 1464.96 32.4315 Q1458.72 32.4315 1454.95 35.9558 Q1451.23 39.4801 1450.66 45.8805 L1477.23 45.84 Z\" fill=\"#000000\" fill-rule=\"evenodd\" fill-opacity=\"1\" /><path clip-path=\"url(#clip120)\" d=\"M1525.84 28.5427 L1525.84 35.5912 Q1522.68 33.9709 1519.28 33.1607 Q1515.88 32.3505 1512.23 32.3505 Q1506.68 32.3505 1503.89 34.0519 Q1501.13 35.7533 1501.13 39.156 Q1501.13 41.7486 1503.12 43.2475 Q1505.1 44.7058 1511.1 46.0426 L1513.65 46.6097 Q1521.59 48.3111 1524.91 51.4303 Q1528.27 54.509 1528.27 60.0587 Q1528.27 66.3781 1523.25 70.0644 Q1518.27 73.7508 1509.52 73.7508 Q1505.87 73.7508 1501.9 73.0216 Q1497.97 72.3329 1493.6 70.9151 L1493.6 63.2184 Q1497.73 65.3654 1501.74 66.4591 Q1505.75 67.5124 1509.68 67.5124 Q1514.95 67.5124 1517.78 65.73 Q1520.62 63.9071 1520.62 60.6258 Q1520.62 57.5877 1518.55 55.9673 Q1516.53 54.3469 1509.6 52.8481 L1507.01 52.2405 Q1500.08 50.7821 1497 47.7845 Q1493.92 44.7463 1493.92 39.4801 Q1493.92 33.0797 1498.46 29.5959 Q1503 26.1121 1511.34 26.1121 Q1515.47 26.1121 1519.12 26.7198 Q1522.77 27.3274 1525.84 28.5427 Z\" fill=\"#000000\" fill-rule=\"evenodd\" fill-opacity=\"1\" /><path clip-path=\"url(#clip120)\" d=\"M1540.14 27.2059 L1547.6 27.2059 L1547.6 72.576 L1540.14 72.576 L1540.14 27.2059 M1540.14 9.54393 L1547.6 9.54393 L1547.6 18.9825 L1540.14 18.9825 L1540.14 9.54393 Z\" fill=\"#000000\" fill-rule=\"evenodd\" fill-opacity=\"1\" /><path clip-path=\"url(#clip120)\" d=\"M1593.05 34.0924 L1593.05 9.54393 L1600.5 9.54393 L1600.5 72.576 L1593.05 72.576 L1593.05 65.7705 Q1590.7 69.8214 1587.09 71.8063 Q1583.53 73.7508 1578.51 73.7508 Q1570.28 73.7508 1565.1 67.1883 Q1559.95 60.6258 1559.95 49.9314 Q1559.95 39.2371 1565.1 32.6746 Q1570.28 26.1121 1578.51 26.1121 Q1583.53 26.1121 1587.09 28.0971 Q1590.7 30.0415 1593.05 34.0924 M1567.65 49.9314 Q1567.65 58.1548 1571.01 62.8538 Q1574.41 67.5124 1580.33 67.5124 Q1586.24 67.5124 1589.65 62.8538 Q1593.05 58.1548 1593.05 49.9314 Q1593.05 41.7081 1589.65 37.0496 Q1586.24 32.3505 1580.33 32.3505 Q1574.41 32.3505 1571.01 37.0496 Q1567.65 41.7081 1567.65 49.9314 Z\" fill=\"#000000\" fill-rule=\"evenodd\" fill-opacity=\"1\" /><path clip-path=\"url(#clip120)\" d=\"M1615.09 54.671 L1615.09 27.2059 L1622.54 27.2059 L1622.54 54.3874 Q1622.54 60.8284 1625.05 64.0691 Q1627.56 67.2693 1632.59 67.2693 Q1638.62 67.2693 1642.1 63.421 Q1645.63 59.5726 1645.63 52.9291 L1645.63 27.2059 L1653.08 27.2059 L1653.08 72.576 L1645.63 72.576 L1645.63 65.6084 Q1642.92 69.7404 1639.31 71.7658 Q1635.74 73.7508 1631.01 73.7508 Q1623.19 73.7508 1619.14 68.8897 Q1615.09 64.0286 1615.09 54.671 M1633.84 26.1121 L1633.84 26.1121 Z\" fill=\"#000000\" fill-rule=\"evenodd\" fill-opacity=\"1\" /><path clip-path=\"url(#clip120)\" d=\"M1689.05 49.7694 Q1680.02 49.7694 1676.54 51.8354 Q1673.05 53.9013 1673.05 58.8839 Q1673.05 62.8538 1675.65 65.2034 Q1678.28 67.5124 1682.78 67.5124 Q1688.97 67.5124 1692.7 63.1374 Q1696.47 58.7219 1696.47 51.4303 L1696.47 49.7694 L1689.05 49.7694 M1703.92 46.6907 L1703.92 72.576 L1696.47 72.576 L1696.47 65.6895 Q1693.92 69.8214 1690.11 71.8063 Q1686.3 73.7508 1680.79 73.7508 Q1673.82 73.7508 1669.69 69.8619 Q1665.6 65.9325 1665.6 59.3701 Q1665.6 51.7138 1670.7 47.825 Q1675.85 43.9361 1686.02 43.9361 L1696.47 43.9361 L1696.47 43.2069 Q1696.47 38.0623 1693.07 35.2672 Q1689.7 32.4315 1683.59 32.4315 Q1679.7 32.4315 1676.01 33.3632 Q1672.32 34.295 1668.92 36.1584 L1668.92 29.2718 Q1673.01 27.692 1676.86 26.9223 Q1680.71 26.1121 1684.36 26.1121 Q1694.2 26.1121 1699.06 31.2163 Q1703.92 36.3204 1703.92 46.6907 Z\" fill=\"#000000\" fill-rule=\"evenodd\" fill-opacity=\"1\" /><path clip-path=\"url(#clip120)\" d=\"M1719.27 9.54393 L1726.73 9.54393 L1726.73 72.576 L1719.27 72.576 L1719.27 9.54393 Z\" fill=\"#000000\" fill-rule=\"evenodd\" fill-opacity=\"1\" /><path clip-path=\"url(#clip120)\" d=\"M1771.25 28.5427 L1771.25 35.5912 Q1768.09 33.9709 1764.69 33.1607 Q1761.28 32.3505 1757.64 32.3505 Q1752.09 32.3505 1749.29 34.0519 Q1746.54 35.7533 1746.54 39.156 Q1746.54 41.7486 1748.52 43.2475 Q1750.51 44.7058 1756.5 46.0426 L1759.05 46.6097 Q1766.99 48.3111 1770.32 51.4303 Q1773.68 54.509 1773.68 60.0587 Q1773.68 66.3781 1768.66 70.0644 Q1763.67 73.7508 1754.92 73.7508 Q1751.28 73.7508 1747.31 73.0216 Q1743.38 72.3329 1739 70.9151 L1739 63.2184 Q1743.13 65.3654 1747.14 66.4591 Q1751.16 67.5124 1755.08 67.5124 Q1760.35 67.5124 1763.19 65.73 Q1766.02 63.9071 1766.02 60.6258 Q1766.02 57.5877 1763.96 55.9673 Q1761.93 54.3469 1755 52.8481 L1752.41 52.2405 Q1745.48 50.7821 1742.41 47.7845 Q1739.33 44.7463 1739.33 39.4801 Q1739.33 33.0797 1743.86 29.5959 Q1748.4 26.1121 1756.75 26.1121 Q1760.88 26.1121 1764.52 26.7198 Q1768.17 27.3274 1771.25 28.5427 Z\" fill=\"#000000\" fill-rule=\"evenodd\" fill-opacity=\"1\" /><polyline clip-path=\"url(#clip122)\" style=\"stroke:#009af9; stroke-linecap:butt; stroke-linejoin:round; stroke-width:4; stroke-opacity:1; fill:none\" points=\"\n",
       "  292.4,1386.39 302.452,1386.28 312.504,1385.7 322.556,1385.23 332.608,1385.99 342.66,1386.39 352.712,1386.39 362.764,1386.4 372.816,1386.39 382.868,1386.4 \n",
       "  392.92,1386.4 402.972,1386.4 413.024,1386.4 423.076,1386.39 433.128,1386.4 443.18,1386.39 453.232,1386.4 463.284,1386.39 473.336,1386.4 483.388,1386.39 \n",
       "  493.44,1386.4 503.491,1386.39 513.543,1386.4 523.595,1386.39 533.647,1386.4 543.699,1386.39 553.751,1386.4 563.803,1386.39 573.855,1386.4 583.907,1386.39 \n",
       "  593.959,1386.4 604.011,1386.39 614.063,1386.4 624.115,1386.39 634.167,1386.4 644.219,1386.39 654.271,1386.4 664.323,1386.39 674.375,1386.4 684.427,1386.39 \n",
       "  694.479,1386.4 704.531,1386.39 714.583,1386.4 724.635,1386.39 734.687,1386.4 744.739,1386.39 754.791,1386.4 764.843,1386.39 774.895,1386.4 784.947,1386.39 \n",
       "  794.999,1386.4 805.051,1386.39 815.103,1386.4 825.155,1386.39 835.207,1386.4 845.259,1386.39 855.311,1386.4 865.363,1386.39 875.415,1386.4 885.467,1386.39 \n",
       "  895.519,1386.4 905.571,1386.39 915.623,1386.4 925.675,1386.18 935.727,1385.56 945.779,1385.07 955.831,1385.1 965.883,1385.5 975.935,1386.17 985.987,1386.25 \n",
       "  996.039,1385.71 1006.09,1384.8 1016.14,1384.67 1026.19,1383.98 1036.25,1382.02 1046.3,1382.22 1056.35,1383.17 1066.4,1383.17 1076.45,1381.24 1086.51,1377.07 \n",
       "  1096.56,1374.89 1106.61,1373.4 1116.66,1367.88 1126.71,1359.71 1136.77,1344.1 1146.82,1326.37 1156.87,1318.1 1166.92,1311.29 1176.97,1287.39 1187.03,1246.05 \n",
       "  1197.08,1202.55 1207.13,1146.55 1217.18,1061.65 1227.23,953.815 1237.29,818.874 1247.34,697.704 1257.39,540.076 1267.44,352.377 1277.49,201.061 1287.55,160.256 \n",
       "  1297.6,253.439 1307.65,456.192 1317.7,650.726 1327.75,824.627 1337.81,984.879 1347.86,1076.12 1357.91,1133.8 1367.96,1189.48 1378.01,1238.51 1388.07,1271.72 \n",
       "  1398.12,1296.07 1408.17,1318.49 1418.22,1341.09 1428.27,1355.76 1438.33,1362.81 1448.38,1363.05 1458.43,1364.12 1468.48,1367.88 1478.53,1375.38 1488.59,1378.76 \n",
       "  1498.64,1379.14 1508.69,1382.86 1518.74,1384.24 1528.79,1382.6 1538.85,1382.04 1548.9,1383.14 1558.95,1384.16 1569,1384.67 1579.05,1384.88 1589.11,1384.22 \n",
       "  1599.16,1384.93 1609.21,1386.08 1619.26,1386.38 1629.31,1386.4 1639.37,1386.4 1649.42,1386.39 1659.47,1386.4 1669.52,1386.39 1679.57,1386.4 1689.63,1386.39 \n",
       "  1699.68,1386.4 1709.73,1386.39 1719.78,1386.4 1729.83,1386.39 1739.89,1386.4 1749.94,1386.39 1759.99,1386.4 1770.04,1386.39 1780.09,1386.4 1790.15,1386.39 \n",
       "  1800.2,1386.4 1810.25,1386.39 1820.3,1386.4 1830.35,1386.39 1840.41,1386.4 1850.46,1386.39 1860.51,1386.4 1870.56,1386.39 1880.61,1386.4 1890.67,1386.39 \n",
       "  1900.72,1386.4 1910.77,1386.39 1920.82,1386.4 1930.87,1386.39 1940.93,1386.4 1950.98,1386.39 1961.03,1386.4 1971.08,1386.39 1981.13,1386.4 1991.19,1386.39 \n",
       "  2001.24,1386.4 2011.29,1386.39 2021.34,1386.4 2031.39,1386.39 2041.45,1386.4 2051.5,1386.39 2061.55,1386.4 2071.6,1386.39 2081.65,1386.4 2091.71,1386.39 \n",
       "  2101.76,1386.4 2111.81,1386.39 2121.86,1386.4 2131.91,1386.39 2141.97,1386.4 2152.02,1386.39 2162.07,1386.4 2172.12,1386.39 2182.17,1386.4 2192.23,1386.39 \n",
       "  2202.28,1386.4 2212.33,1386.39 2222.38,1386.4 2232.43,1386.39 2242.49,1386.39 2252.54,1385.98 2262.59,1385.23 2272.64,1385.7 2282.69,1386.28 2292.75,1386.39 \n",
       "  \n",
       "  \"/>\n",
       "</svg>\n"
      ]
     },
     "execution_count": 20,
     "metadata": {},
     "output_type": "execute_result"
    }
   ],
   "source": [
    "density(ehat1, title = \"Density Plot - Residuals\", ylabel = \"Frequency\", xlabel = \"Residuals\", legend = false)"
   ]
  },
  {
   "cell_type": "markdown",
   "metadata": {},
   "source": [
    "We can do a hypothesis test on the \"normality\" of the regression residuals based on the Jarque-Bera test.  We add in the package needed for this and then invoke it."
   ]
  },
  {
   "cell_type": "code",
   "execution_count": 21,
   "metadata": {},
   "outputs": [
    {
     "name": "stderr",
     "output_type": "stream",
     "text": [
      "\u001b[32m\u001b[1m   Resolving\u001b[22m\u001b[39m package versions...\n",
      "\u001b[32m\u001b[1m  No Changes\u001b[22m\u001b[39m to `C:\\Users\\mcnel\\.julia\\environments\\v1.7\\Project.toml`\n",
      "\u001b[32m\u001b[1m  No Changes\u001b[22m\u001b[39m to `C:\\Users\\mcnel\\.julia\\environments\\v1.7\\Manifest.toml`\n"
     ]
    }
   ],
   "source": [
    "Pkg.add(\"HypothesisTests\");\n",
    "using HypothesisTests;"
   ]
  },
  {
   "cell_type": "code",
   "execution_count": 22,
   "metadata": {},
   "outputs": [
    {
     "data": {
      "text/plain": [
       "Jarque-Bera normality test\n",
       "--------------------------\n",
       "Population details:\n",
       "    parameter of interest:   skewness and kurtosis\n",
       "    value under h_0:         \"0 and 3\"\n",
       "    point estimate:          \"0.09280632182522355 and 33.759191574272776\"\n",
       "\n",
       "Test summary:\n",
       "    outcome with 95% confidence: reject h_0\n",
       "    one-sided p-value:           <1e-99\n",
       "\n",
       "Details:\n",
       "    number of observations:         5196\n",
       "    JB statistic:                   2.04844e5\n"
      ]
     },
     "execution_count": 22,
     "metadata": {},
     "output_type": "execute_result"
    }
   ],
   "source": [
    "jbstat = JarqueBeraTest(ehat1);\n",
    "jbstat"
   ]
  },
  {
   "cell_type": "markdown",
   "metadata": {},
   "source": [
    "$\\textbf{Expanded Set of Regressors}$\n",
    "\n",
    "Now let's add in the Sing dollar, Malaysian Ringgit and the Thai baht into the regression to see if these variables have added explanatory value."
   ]
  },
  {
   "cell_type": "code",
   "execution_count": null,
   "metadata": {},
   "outputs": [],
   "source": []
  },
  {
   "cell_type": "markdown",
   "metadata": {},
   "source": [
    "$\\textbf{Nonsense Results}$\n",
    "\n",
    "We see that the Sing dollar has a coefficient value of .31 while the effect of the US dollar is reduced to .48.  But is this a meaningful result?  Should one go to the currency division of an investment bank and advise the staff to start watching the Sing Dollar, that it is almost as important as the US dollar for predicting movements in the RMB against the Swiss Franc?\n",
    "I think not.  The point is that one should know one's data.  Singapore also have an indexed currency system against the US dollar.  So the effect of the Sing dollar is just a proxy for the US dollar.  \n",
    "\n",
    "To make this point more clearly, let's make the dependent variable the Sing Dollar, not the RMB, against the Swiss Fran and see what results we obtain.  "
   ]
  },
  {
   "cell_type": "code",
   "execution_count": 24,
   "metadata": {},
   "outputs": [],
   "source": [
    "X = [xus xjp xkor xeur xuk xsin xmal xthai];\n",
    "X1 = log.(X);\n",
    "Xdiff = X1[2:end,:]- X1[1:end-1,:];\n",
    "y2 = Xdiff[:,6];\n",
    "Xdiff4= [Xdiff[:,1:5] ones(size(Xdiff,1),1)];\n",
    "k = size(Xdiff4,2);\n",
    "dgf = n-k;\n",
    "beta = (Xdiff4'*Xdiff4)\\Xdiff4'*y2;\n",
    "\n",
    "\n",
    "\n"
   ]
  },
  {
   "cell_type": "code",
   "execution_count": 26,
   "metadata": {},
   "outputs": [
    {
     "data": {
      "text/plain": [
       "6×3 Matrix{Float64}:\n",
       "  0.498763    0.0127171   39.2199\n",
       "  0.0210623   0.00994831   2.11718\n",
       " -0.0302135   0.00800004  -3.77667\n",
       "  0.263435    0.0184551   14.2743\n",
       "  0.109247    0.0144152    7.5786\n",
       " -3.11351e-5  6.63403e-5  -0.469325"
      ]
     },
     "execution_count": 26,
     "metadata": {},
     "output_type": "execute_result"
    }
   ],
   "source": [
    "ehat2 = y2 - Xdiff4*beta\n",
    "ssr = (ehat2'*ehat2)/dgf;\n",
    "ssy = (y2'*y2)/n;\n",
    "rsq = 1 - ssr/ssy;\n",
    "Sig_beta =  ssr*inv(Xdiff4'*Xdiff4);\n",
    "Sig_beta1 = diag(Sig_beta);\n",
    "Sig_beta2 = Sig_beta1 .^.5;\n",
    "Tbeta = beta./Sig_beta2;\n",
    "Stats =[beta Sig_beta2 Tbeta]"
   ]
  },
  {
   "cell_type": "markdown",
   "metadata": {},
   "source": [
    "We see that that strongest determinats of the Sing Dollar against the Frank are the US Dollar and the Euro, both are significant.   Very similar results to what we found for China. Lets look at the frequency distribution of the residuals.\n",
    "Again we see that can should reject the null hypothesis of a normal or Gaussian distribution for the regression residuals."
   ]
  },
  {
   "cell_type": "code",
   "execution_count": 27,
   "metadata": {},
   "outputs": [
    {
     "data": {
      "image/svg+xml": [
       "<?xml version=\"1.0\" encoding=\"utf-8\"?>\n",
       "<svg xmlns=\"http://www.w3.org/2000/svg\" xmlns:xlink=\"http://www.w3.org/1999/xlink\" width=\"600\" height=\"400\" viewBox=\"0 0 2400 1600\">\n",
       "<defs>\n",
       "  <clipPath id=\"clip160\">\n",
       "    <rect x=\"0\" y=\"0\" width=\"2400\" height=\"1600\"/>\n",
       "  </clipPath>\n",
       "</defs>\n",
       "<path clip-path=\"url(#clip160)\" d=\"\n",
       "M0 1600 L2400 1600 L2400 0 L0 0  Z\n",
       "  \" fill=\"#ffffff\" fill-rule=\"evenodd\" fill-opacity=\"1\"/>\n",
       "<defs>\n",
       "  <clipPath id=\"clip161\">\n",
       "    <rect x=\"480\" y=\"0\" width=\"1681\" height=\"1600\"/>\n",
       "  </clipPath>\n",
       "</defs>\n",
       "<path clip-path=\"url(#clip160)\" d=\"\n",
       "M232.389 1423.18 L2352.76 1423.18 L2352.76 123.472 L232.389 123.472  Z\n",
       "  \" fill=\"#ffffff\" fill-rule=\"evenodd\" fill-opacity=\"1\"/>\n",
       "<defs>\n",
       "  <clipPath id=\"clip162\">\n",
       "    <rect x=\"232\" y=\"123\" width=\"2121\" height=\"1301\"/>\n",
       "  </clipPath>\n",
       "</defs>\n",
       "<polyline clip-path=\"url(#clip162)\" style=\"stroke:#000000; stroke-linecap:butt; stroke-linejoin:round; stroke-width:2; stroke-opacity:0.1; fill:none\" points=\"\n",
       "  477.843,1423.18 477.843,123.472 \n",
       "  \"/>\n",
       "<polyline clip-path=\"url(#clip162)\" style=\"stroke:#000000; stroke-linecap:butt; stroke-linejoin:round; stroke-width:2; stroke-opacity:0.1; fill:none\" points=\"\n",
       "  723.481,1423.18 723.481,123.472 \n",
       "  \"/>\n",
       "<polyline clip-path=\"url(#clip162)\" style=\"stroke:#000000; stroke-linecap:butt; stroke-linejoin:round; stroke-width:2; stroke-opacity:0.1; fill:none\" points=\"\n",
       "  969.119,1423.18 969.119,123.472 \n",
       "  \"/>\n",
       "<polyline clip-path=\"url(#clip162)\" style=\"stroke:#000000; stroke-linecap:butt; stroke-linejoin:round; stroke-width:2; stroke-opacity:0.1; fill:none\" points=\"\n",
       "  1214.76,1423.18 1214.76,123.472 \n",
       "  \"/>\n",
       "<polyline clip-path=\"url(#clip162)\" style=\"stroke:#000000; stroke-linecap:butt; stroke-linejoin:round; stroke-width:2; stroke-opacity:0.1; fill:none\" points=\"\n",
       "  1460.4,1423.18 1460.4,123.472 \n",
       "  \"/>\n",
       "<polyline clip-path=\"url(#clip162)\" style=\"stroke:#000000; stroke-linecap:butt; stroke-linejoin:round; stroke-width:2; stroke-opacity:0.1; fill:none\" points=\"\n",
       "  1706.03,1423.18 1706.03,123.472 \n",
       "  \"/>\n",
       "<polyline clip-path=\"url(#clip162)\" style=\"stroke:#000000; stroke-linecap:butt; stroke-linejoin:round; stroke-width:2; stroke-opacity:0.1; fill:none\" points=\"\n",
       "  1951.67,1423.18 1951.67,123.472 \n",
       "  \"/>\n",
       "<polyline clip-path=\"url(#clip162)\" style=\"stroke:#000000; stroke-linecap:butt; stroke-linejoin:round; stroke-width:2; stroke-opacity:0.1; fill:none\" points=\"\n",
       "  2197.31,1423.18 2197.31,123.472 \n",
       "  \"/>\n",
       "<polyline clip-path=\"url(#clip160)\" style=\"stroke:#000000; stroke-linecap:butt; stroke-linejoin:round; stroke-width:4; stroke-opacity:1; fill:none\" points=\"\n",
       "  232.389,1423.18 2352.76,1423.18 \n",
       "  \"/>\n",
       "<polyline clip-path=\"url(#clip160)\" style=\"stroke:#000000; stroke-linecap:butt; stroke-linejoin:round; stroke-width:4; stroke-opacity:1; fill:none\" points=\"\n",
       "  477.843,1423.18 477.843,1404.28 \n",
       "  \"/>\n",
       "<polyline clip-path=\"url(#clip160)\" style=\"stroke:#000000; stroke-linecap:butt; stroke-linejoin:round; stroke-width:4; stroke-opacity:1; fill:none\" points=\"\n",
       "  723.481,1423.18 723.481,1404.28 \n",
       "  \"/>\n",
       "<polyline clip-path=\"url(#clip160)\" style=\"stroke:#000000; stroke-linecap:butt; stroke-linejoin:round; stroke-width:4; stroke-opacity:1; fill:none\" points=\"\n",
       "  969.119,1423.18 969.119,1404.28 \n",
       "  \"/>\n",
       "<polyline clip-path=\"url(#clip160)\" style=\"stroke:#000000; stroke-linecap:butt; stroke-linejoin:round; stroke-width:4; stroke-opacity:1; fill:none\" points=\"\n",
       "  1214.76,1423.18 1214.76,1404.28 \n",
       "  \"/>\n",
       "<polyline clip-path=\"url(#clip160)\" style=\"stroke:#000000; stroke-linecap:butt; stroke-linejoin:round; stroke-width:4; stroke-opacity:1; fill:none\" points=\"\n",
       "  1460.4,1423.18 1460.4,1404.28 \n",
       "  \"/>\n",
       "<polyline clip-path=\"url(#clip160)\" style=\"stroke:#000000; stroke-linecap:butt; stroke-linejoin:round; stroke-width:4; stroke-opacity:1; fill:none\" points=\"\n",
       "  1706.03,1423.18 1706.03,1404.28 \n",
       "  \"/>\n",
       "<polyline clip-path=\"url(#clip160)\" style=\"stroke:#000000; stroke-linecap:butt; stroke-linejoin:round; stroke-width:4; stroke-opacity:1; fill:none\" points=\"\n",
       "  1951.67,1423.18 1951.67,1404.28 \n",
       "  \"/>\n",
       "<polyline clip-path=\"url(#clip160)\" style=\"stroke:#000000; stroke-linecap:butt; stroke-linejoin:round; stroke-width:4; stroke-opacity:1; fill:none\" points=\"\n",
       "  2197.31,1423.18 2197.31,1404.28 \n",
       "  \"/>\n",
       "<path clip-path=\"url(#clip160)\" d=\"M409.209 1468.75 L438.884 1468.75 L438.884 1472.69 L409.209 1472.69 L409.209 1468.75 Z\" fill=\"#000000\" fill-rule=\"evenodd\" fill-opacity=\"1\" /><path clip-path=\"url(#clip160)\" d=\"M458.977 1454.1 Q455.366 1454.1 453.537 1457.66 Q451.732 1461.2 451.732 1468.33 Q451.732 1475.44 453.537 1479.01 Q455.366 1482.55 458.977 1482.55 Q462.611 1482.55 464.417 1479.01 Q466.245 1475.44 466.245 1468.33 Q466.245 1461.2 464.417 1457.66 Q462.611 1454.1 458.977 1454.1 M458.977 1450.39 Q464.787 1450.39 467.843 1455 Q470.921 1459.58 470.921 1468.33 Q470.921 1477.06 467.843 1481.67 Q464.787 1486.25 458.977 1486.25 Q453.167 1486.25 450.088 1481.67 Q447.032 1477.06 447.032 1468.33 Q447.032 1459.58 450.088 1455 Q453.167 1450.39 458.977 1450.39 Z\" fill=\"#000000\" fill-rule=\"evenodd\" fill-opacity=\"1\" /><path clip-path=\"url(#clip160)\" d=\"M479.139 1479.7 L484.023 1479.7 L484.023 1485.58 L479.139 1485.58 L479.139 1479.7 Z\" fill=\"#000000\" fill-rule=\"evenodd\" fill-opacity=\"1\" /><path clip-path=\"url(#clip160)\" d=\"M504.208 1454.1 Q500.597 1454.1 498.768 1457.66 Q496.963 1461.2 496.963 1468.33 Q496.963 1475.44 498.768 1479.01 Q500.597 1482.55 504.208 1482.55 Q507.842 1482.55 509.648 1479.01 Q511.477 1475.44 511.477 1468.33 Q511.477 1461.2 509.648 1457.66 Q507.842 1454.1 504.208 1454.1 M504.208 1450.39 Q510.018 1450.39 513.074 1455 Q516.152 1459.58 516.152 1468.33 Q516.152 1477.06 513.074 1481.67 Q510.018 1486.25 504.208 1486.25 Q498.398 1486.25 495.319 1481.67 Q492.264 1477.06 492.264 1468.33 Q492.264 1459.58 495.319 1455 Q498.398 1450.39 504.208 1450.39 Z\" fill=\"#000000\" fill-rule=\"evenodd\" fill-opacity=\"1\" /><path clip-path=\"url(#clip160)\" d=\"M534.949 1466.44 Q531.801 1466.44 529.949 1468.59 Q528.12 1470.74 528.12 1474.49 Q528.12 1478.22 529.949 1480.39 Q531.801 1482.55 534.949 1482.55 Q538.097 1482.55 539.926 1480.39 Q541.777 1478.22 541.777 1474.49 Q541.777 1470.74 539.926 1468.59 Q538.097 1466.44 534.949 1466.44 M544.231 1451.78 L544.231 1456.04 Q542.472 1455.21 540.666 1454.77 Q538.884 1454.33 537.125 1454.33 Q532.495 1454.33 530.041 1457.45 Q527.611 1460.58 527.264 1466.9 Q528.629 1464.89 530.689 1463.82 Q532.75 1462.73 535.226 1462.73 Q540.435 1462.73 543.444 1465.9 Q546.476 1469.05 546.476 1474.49 Q546.476 1479.82 543.328 1483.03 Q540.18 1486.25 534.949 1486.25 Q528.953 1486.25 525.782 1481.67 Q522.611 1477.06 522.611 1468.33 Q522.611 1460.14 526.5 1455.28 Q530.389 1450.39 536.939 1450.39 Q538.699 1450.39 540.481 1450.74 Q542.287 1451.09 544.231 1451.78 Z\" fill=\"#000000\" fill-rule=\"evenodd\" fill-opacity=\"1\" /><path clip-path=\"url(#clip160)\" d=\"M654.685 1468.75 L684.36 1468.75 L684.36 1472.69 L654.685 1472.69 L654.685 1468.75 Z\" fill=\"#000000\" fill-rule=\"evenodd\" fill-opacity=\"1\" /><path clip-path=\"url(#clip160)\" d=\"M704.453 1454.1 Q700.842 1454.1 699.013 1457.66 Q697.208 1461.2 697.208 1468.33 Q697.208 1475.44 699.013 1479.01 Q700.842 1482.55 704.453 1482.55 Q708.087 1482.55 709.893 1479.01 Q711.721 1475.44 711.721 1468.33 Q711.721 1461.2 709.893 1457.66 Q708.087 1454.1 704.453 1454.1 M704.453 1450.39 Q710.263 1450.39 713.319 1455 Q716.397 1459.58 716.397 1468.33 Q716.397 1477.06 713.319 1481.67 Q710.263 1486.25 704.453 1486.25 Q698.643 1486.25 695.564 1481.67 Q692.509 1477.06 692.509 1468.33 Q692.509 1459.58 695.564 1455 Q698.643 1450.39 704.453 1450.39 Z\" fill=\"#000000\" fill-rule=\"evenodd\" fill-opacity=\"1\" /><path clip-path=\"url(#clip160)\" d=\"M724.615 1479.7 L729.499 1479.7 L729.499 1485.58 L724.615 1485.58 L724.615 1479.7 Z\" fill=\"#000000\" fill-rule=\"evenodd\" fill-opacity=\"1\" /><path clip-path=\"url(#clip160)\" d=\"M749.684 1454.1 Q746.073 1454.1 744.244 1457.66 Q742.439 1461.2 742.439 1468.33 Q742.439 1475.44 744.244 1479.01 Q746.073 1482.55 749.684 1482.55 Q753.318 1482.55 755.124 1479.01 Q756.953 1475.44 756.953 1468.33 Q756.953 1461.2 755.124 1457.66 Q753.318 1454.1 749.684 1454.1 M749.684 1450.39 Q755.494 1450.39 758.55 1455 Q761.629 1459.58 761.629 1468.33 Q761.629 1477.06 758.55 1481.67 Q755.494 1486.25 749.684 1486.25 Q743.874 1486.25 740.795 1481.67 Q737.74 1477.06 737.74 1468.33 Q737.74 1459.58 740.795 1455 Q743.874 1450.39 749.684 1450.39 Z\" fill=\"#000000\" fill-rule=\"evenodd\" fill-opacity=\"1\" /><path clip-path=\"url(#clip160)\" d=\"M782.693 1455.09 L770.888 1473.54 L782.693 1473.54 L782.693 1455.09 M781.466 1451.02 L787.346 1451.02 L787.346 1473.54 L792.277 1473.54 L792.277 1477.43 L787.346 1477.43 L787.346 1485.58 L782.693 1485.58 L782.693 1477.43 L767.092 1477.43 L767.092 1472.92 L781.466 1451.02 Z\" fill=\"#000000\" fill-rule=\"evenodd\" fill-opacity=\"1\" /><path clip-path=\"url(#clip160)\" d=\"M901.364 1468.75 L931.04 1468.75 L931.04 1472.69 L901.364 1472.69 L901.364 1468.75 Z\" fill=\"#000000\" fill-rule=\"evenodd\" fill-opacity=\"1\" /><path clip-path=\"url(#clip160)\" d=\"M951.133 1454.1 Q947.522 1454.1 945.693 1457.66 Q943.887 1461.2 943.887 1468.33 Q943.887 1475.44 945.693 1479.01 Q947.522 1482.55 951.133 1482.55 Q954.767 1482.55 956.573 1479.01 Q958.401 1475.44 958.401 1468.33 Q958.401 1461.2 956.573 1457.66 Q954.767 1454.1 951.133 1454.1 M951.133 1450.39 Q956.943 1450.39 959.998 1455 Q963.077 1459.58 963.077 1468.33 Q963.077 1477.06 959.998 1481.67 Q956.943 1486.25 951.133 1486.25 Q945.323 1486.25 942.244 1481.67 Q939.188 1477.06 939.188 1468.33 Q939.188 1459.58 942.244 1455 Q945.323 1450.39 951.133 1450.39 Z\" fill=\"#000000\" fill-rule=\"evenodd\" fill-opacity=\"1\" /><path clip-path=\"url(#clip160)\" d=\"M971.295 1479.7 L976.179 1479.7 L976.179 1485.58 L971.295 1485.58 L971.295 1479.7 Z\" fill=\"#000000\" fill-rule=\"evenodd\" fill-opacity=\"1\" /><path clip-path=\"url(#clip160)\" d=\"M996.364 1454.1 Q992.753 1454.1 990.924 1457.66 Q989.119 1461.2 989.119 1468.33 Q989.119 1475.44 990.924 1479.01 Q992.753 1482.55 996.364 1482.55 Q999.998 1482.55 1001.8 1479.01 Q1003.63 1475.44 1003.63 1468.33 Q1003.63 1461.2 1001.8 1457.66 Q999.998 1454.1 996.364 1454.1 M996.364 1450.39 Q1002.17 1450.39 1005.23 1455 Q1008.31 1459.58 1008.31 1468.33 Q1008.31 1477.06 1005.23 1481.67 Q1002.17 1486.25 996.364 1486.25 Q990.554 1486.25 987.475 1481.67 Q984.42 1477.06 984.42 1468.33 Q984.42 1459.58 987.475 1455 Q990.554 1450.39 996.364 1450.39 Z\" fill=\"#000000\" fill-rule=\"evenodd\" fill-opacity=\"1\" /><path clip-path=\"url(#clip160)\" d=\"M1020.55 1481.64 L1036.87 1481.64 L1036.87 1485.58 L1014.93 1485.58 L1014.93 1481.64 Q1017.59 1478.89 1022.17 1474.26 Q1026.78 1469.61 1027.96 1468.27 Q1030.21 1465.74 1031.09 1464.01 Q1031.99 1462.25 1031.99 1460.56 Q1031.99 1457.8 1030.04 1456.07 Q1028.12 1454.33 1025.02 1454.33 Q1022.82 1454.33 1020.37 1455.09 Q1017.94 1455.86 1015.16 1457.41 L1015.16 1452.69 Q1017.98 1451.55 1020.44 1450.97 Q1022.89 1450.39 1024.93 1450.39 Q1030.3 1450.39 1033.49 1453.08 Q1036.69 1455.77 1036.69 1460.26 Q1036.69 1462.39 1035.88 1464.31 Q1035.09 1466.2 1032.98 1468.8 Q1032.41 1469.47 1029.3 1472.69 Q1026.2 1475.88 1020.55 1481.64 Z\" fill=\"#000000\" fill-rule=\"evenodd\" fill-opacity=\"1\" /><path clip-path=\"url(#clip160)\" d=\"M1177.06 1454.1 Q1173.45 1454.1 1171.62 1457.66 Q1169.81 1461.2 1169.81 1468.33 Q1169.81 1475.44 1171.62 1479.01 Q1173.45 1482.55 1177.06 1482.55 Q1180.69 1482.55 1182.5 1479.01 Q1184.33 1475.44 1184.33 1468.33 Q1184.33 1461.2 1182.5 1457.66 Q1180.69 1454.1 1177.06 1454.1 M1177.06 1450.39 Q1182.87 1450.39 1185.93 1455 Q1189 1459.58 1189 1468.33 Q1189 1477.06 1185.93 1481.67 Q1182.87 1486.25 1177.06 1486.25 Q1171.25 1486.25 1168.17 1481.67 Q1165.12 1477.06 1165.12 1468.33 Q1165.12 1459.58 1168.17 1455 Q1171.25 1450.39 1177.06 1450.39 Z\" fill=\"#000000\" fill-rule=\"evenodd\" fill-opacity=\"1\" /><path clip-path=\"url(#clip160)\" d=\"M1197.22 1479.7 L1202.11 1479.7 L1202.11 1485.58 L1197.22 1485.58 L1197.22 1479.7 Z\" fill=\"#000000\" fill-rule=\"evenodd\" fill-opacity=\"1\" /><path clip-path=\"url(#clip160)\" d=\"M1222.29 1454.1 Q1218.68 1454.1 1216.85 1457.66 Q1215.05 1461.2 1215.05 1468.33 Q1215.05 1475.44 1216.85 1479.01 Q1218.68 1482.55 1222.29 1482.55 Q1225.93 1482.55 1227.73 1479.01 Q1229.56 1475.44 1229.56 1468.33 Q1229.56 1461.2 1227.73 1457.66 Q1225.93 1454.1 1222.29 1454.1 M1222.29 1450.39 Q1228.1 1450.39 1231.16 1455 Q1234.24 1459.58 1234.24 1468.33 Q1234.24 1477.06 1231.16 1481.67 Q1228.1 1486.25 1222.29 1486.25 Q1216.48 1486.25 1213.4 1481.67 Q1210.35 1477.06 1210.35 1468.33 Q1210.35 1459.58 1213.4 1455 Q1216.48 1450.39 1222.29 1450.39 Z\" fill=\"#000000\" fill-rule=\"evenodd\" fill-opacity=\"1\" /><path clip-path=\"url(#clip160)\" d=\"M1252.45 1454.1 Q1248.84 1454.1 1247.01 1457.66 Q1245.21 1461.2 1245.21 1468.33 Q1245.21 1475.44 1247.01 1479.01 Q1248.84 1482.55 1252.45 1482.55 Q1256.09 1482.55 1257.89 1479.01 Q1259.72 1475.44 1259.72 1468.33 Q1259.72 1461.2 1257.89 1457.66 Q1256.09 1454.1 1252.45 1454.1 M1252.45 1450.39 Q1258.26 1450.39 1261.32 1455 Q1264.4 1459.58 1264.4 1468.33 Q1264.4 1477.06 1261.32 1481.67 Q1258.26 1486.25 1252.45 1486.25 Q1246.64 1486.25 1243.56 1481.67 Q1240.51 1477.06 1240.51 1468.33 Q1240.51 1459.58 1243.56 1455 Q1246.64 1450.39 1252.45 1450.39 Z\" fill=\"#000000\" fill-rule=\"evenodd\" fill-opacity=\"1\" /><path clip-path=\"url(#clip160)\" d=\"M1423.5 1454.1 Q1419.89 1454.1 1418.06 1457.66 Q1416.25 1461.2 1416.25 1468.33 Q1416.25 1475.44 1418.06 1479.01 Q1419.89 1482.55 1423.5 1482.55 Q1427.13 1482.55 1428.94 1479.01 Q1430.77 1475.44 1430.77 1468.33 Q1430.77 1461.2 1428.94 1457.66 Q1427.13 1454.1 1423.5 1454.1 M1423.5 1450.39 Q1429.31 1450.39 1432.36 1455 Q1435.44 1459.58 1435.44 1468.33 Q1435.44 1477.06 1432.36 1481.67 Q1429.31 1486.25 1423.5 1486.25 Q1417.69 1486.25 1414.61 1481.67 Q1411.55 1477.06 1411.55 1468.33 Q1411.55 1459.58 1414.61 1455 Q1417.69 1450.39 1423.5 1450.39 Z\" fill=\"#000000\" fill-rule=\"evenodd\" fill-opacity=\"1\" /><path clip-path=\"url(#clip160)\" d=\"M1443.66 1479.7 L1448.54 1479.7 L1448.54 1485.58 L1443.66 1485.58 L1443.66 1479.7 Z\" fill=\"#000000\" fill-rule=\"evenodd\" fill-opacity=\"1\" /><path clip-path=\"url(#clip160)\" d=\"M1468.73 1454.1 Q1465.12 1454.1 1463.29 1457.66 Q1461.48 1461.2 1461.48 1468.33 Q1461.48 1475.44 1463.29 1479.01 Q1465.12 1482.55 1468.73 1482.55 Q1472.36 1482.55 1474.17 1479.01 Q1476 1475.44 1476 1468.33 Q1476 1461.2 1474.17 1457.66 Q1472.36 1454.1 1468.73 1454.1 M1468.73 1450.39 Q1474.54 1450.39 1477.59 1455 Q1480.67 1459.58 1480.67 1468.33 Q1480.67 1477.06 1477.59 1481.67 Q1474.54 1486.25 1468.73 1486.25 Q1462.92 1486.25 1459.84 1481.67 Q1456.78 1477.06 1456.78 1468.33 Q1456.78 1459.58 1459.84 1455 Q1462.92 1450.39 1468.73 1450.39 Z\" fill=\"#000000\" fill-rule=\"evenodd\" fill-opacity=\"1\" /><path clip-path=\"url(#clip160)\" d=\"M1492.92 1481.64 L1509.24 1481.64 L1509.24 1485.58 L1487.29 1485.58 L1487.29 1481.64 Q1489.96 1478.89 1494.54 1474.26 Q1499.14 1469.61 1500.33 1468.27 Q1502.57 1465.74 1503.45 1464.01 Q1504.35 1462.25 1504.35 1460.56 Q1504.35 1457.8 1502.41 1456.07 Q1500.49 1454.33 1497.39 1454.33 Q1495.19 1454.33 1492.73 1455.09 Q1490.3 1455.86 1487.52 1457.41 L1487.52 1452.69 Q1490.35 1451.55 1492.8 1450.97 Q1495.26 1450.39 1497.29 1450.39 Q1502.66 1450.39 1505.86 1453.08 Q1509.05 1455.77 1509.05 1460.26 Q1509.05 1462.39 1508.24 1464.31 Q1507.45 1466.2 1505.35 1468.8 Q1504.77 1469.47 1501.67 1472.69 Q1498.57 1475.88 1492.92 1481.64 Z\" fill=\"#000000\" fill-rule=\"evenodd\" fill-opacity=\"1\" /><path clip-path=\"url(#clip160)\" d=\"M1668.09 1454.1 Q1664.48 1454.1 1662.65 1457.66 Q1660.85 1461.2 1660.85 1468.33 Q1660.85 1475.44 1662.65 1479.01 Q1664.48 1482.55 1668.09 1482.55 Q1671.73 1482.55 1673.53 1479.01 Q1675.36 1475.44 1675.36 1468.33 Q1675.36 1461.2 1673.53 1457.66 Q1671.73 1454.1 1668.09 1454.1 M1668.09 1450.39 Q1673.9 1450.39 1676.96 1455 Q1680.04 1459.58 1680.04 1468.33 Q1680.04 1477.06 1676.96 1481.67 Q1673.9 1486.25 1668.09 1486.25 Q1662.28 1486.25 1659.2 1481.67 Q1656.15 1477.06 1656.15 1468.33 Q1656.15 1459.58 1659.2 1455 Q1662.28 1450.39 1668.09 1450.39 Z\" fill=\"#000000\" fill-rule=\"evenodd\" fill-opacity=\"1\" /><path clip-path=\"url(#clip160)\" d=\"M1688.26 1479.7 L1693.14 1479.7 L1693.14 1485.58 L1688.26 1485.58 L1688.26 1479.7 Z\" fill=\"#000000\" fill-rule=\"evenodd\" fill-opacity=\"1\" /><path clip-path=\"url(#clip160)\" d=\"M1713.32 1454.1 Q1709.71 1454.1 1707.88 1457.66 Q1706.08 1461.2 1706.08 1468.33 Q1706.08 1475.44 1707.88 1479.01 Q1709.71 1482.55 1713.32 1482.55 Q1716.96 1482.55 1718.76 1479.01 Q1720.59 1475.44 1720.59 1468.33 Q1720.59 1461.2 1718.76 1457.66 Q1716.96 1454.1 1713.32 1454.1 M1713.32 1450.39 Q1719.13 1450.39 1722.19 1455 Q1725.27 1459.58 1725.27 1468.33 Q1725.27 1477.06 1722.19 1481.67 Q1719.13 1486.25 1713.32 1486.25 Q1707.51 1486.25 1704.44 1481.67 Q1701.38 1477.06 1701.38 1468.33 Q1701.38 1459.58 1704.44 1455 Q1707.51 1450.39 1713.32 1450.39 Z\" fill=\"#000000\" fill-rule=\"evenodd\" fill-opacity=\"1\" /><path clip-path=\"url(#clip160)\" d=\"M1746.33 1455.09 L1734.53 1473.54 L1746.33 1473.54 L1746.33 1455.09 M1745.11 1451.02 L1750.99 1451.02 L1750.99 1473.54 L1755.92 1473.54 L1755.92 1477.43 L1750.99 1477.43 L1750.99 1485.58 L1746.33 1485.58 L1746.33 1477.43 L1730.73 1477.43 L1730.73 1472.92 L1745.11 1451.02 Z\" fill=\"#000000\" fill-rule=\"evenodd\" fill-opacity=\"1\" /><path clip-path=\"url(#clip160)\" d=\"M1913.89 1454.1 Q1910.28 1454.1 1908.45 1457.66 Q1906.65 1461.2 1906.65 1468.33 Q1906.65 1475.44 1908.45 1479.01 Q1910.28 1482.55 1913.89 1482.55 Q1917.53 1482.55 1919.33 1479.01 Q1921.16 1475.44 1921.16 1468.33 Q1921.16 1461.2 1919.33 1457.66 Q1917.53 1454.1 1913.89 1454.1 M1913.89 1450.39 Q1919.7 1450.39 1922.76 1455 Q1925.84 1459.58 1925.84 1468.33 Q1925.84 1477.06 1922.76 1481.67 Q1919.7 1486.25 1913.89 1486.25 Q1908.08 1486.25 1905 1481.67 Q1901.95 1477.06 1901.95 1468.33 Q1901.95 1459.58 1905 1455 Q1908.08 1450.39 1913.89 1450.39 Z\" fill=\"#000000\" fill-rule=\"evenodd\" fill-opacity=\"1\" /><path clip-path=\"url(#clip160)\" d=\"M1934.06 1479.7 L1938.94 1479.7 L1938.94 1485.58 L1934.06 1485.58 L1934.06 1479.7 Z\" fill=\"#000000\" fill-rule=\"evenodd\" fill-opacity=\"1\" /><path clip-path=\"url(#clip160)\" d=\"M1959.12 1454.1 Q1955.51 1454.1 1953.69 1457.66 Q1951.88 1461.2 1951.88 1468.33 Q1951.88 1475.44 1953.69 1479.01 Q1955.51 1482.55 1959.12 1482.55 Q1962.76 1482.55 1964.56 1479.01 Q1966.39 1475.44 1966.39 1468.33 Q1966.39 1461.2 1964.56 1457.66 Q1962.76 1454.1 1959.12 1454.1 M1959.12 1450.39 Q1964.94 1450.39 1967.99 1455 Q1971.07 1459.58 1971.07 1468.33 Q1971.07 1477.06 1967.99 1481.67 Q1964.94 1486.25 1959.12 1486.25 Q1953.31 1486.25 1950.24 1481.67 Q1947.18 1477.06 1947.18 1468.33 Q1947.18 1459.58 1950.24 1455 Q1953.31 1450.39 1959.12 1450.39 Z\" fill=\"#000000\" fill-rule=\"evenodd\" fill-opacity=\"1\" /><path clip-path=\"url(#clip160)\" d=\"M1989.87 1466.44 Q1986.72 1466.44 1984.87 1468.59 Q1983.04 1470.74 1983.04 1474.49 Q1983.04 1478.22 1984.87 1480.39 Q1986.72 1482.55 1989.87 1482.55 Q1993.01 1482.55 1994.84 1480.39 Q1996.69 1478.22 1996.69 1474.49 Q1996.69 1470.74 1994.84 1468.59 Q1993.01 1466.44 1989.87 1466.44 M1999.15 1451.78 L1999.15 1456.04 Q1997.39 1455.21 1995.58 1454.77 Q1993.8 1454.33 1992.04 1454.33 Q1987.41 1454.33 1984.96 1457.45 Q1982.53 1460.58 1982.18 1466.9 Q1983.55 1464.89 1985.61 1463.82 Q1987.67 1462.73 1990.14 1462.73 Q1995.35 1462.73 1998.36 1465.9 Q2001.39 1469.05 2001.39 1474.49 Q2001.39 1479.82 1998.25 1483.03 Q1995.1 1486.25 1989.87 1486.25 Q1983.87 1486.25 1980.7 1481.67 Q1977.53 1477.06 1977.53 1468.33 Q1977.53 1460.14 1981.42 1455.28 Q1985.31 1450.39 1991.86 1450.39 Q1993.62 1450.39 1995.4 1450.74 Q1997.2 1451.09 1999.15 1451.78 Z\" fill=\"#000000\" fill-rule=\"evenodd\" fill-opacity=\"1\" /><path clip-path=\"url(#clip160)\" d=\"M2159.66 1454.1 Q2156.05 1454.1 2154.22 1457.66 Q2152.41 1461.2 2152.41 1468.33 Q2152.41 1475.44 2154.22 1479.01 Q2156.05 1482.55 2159.66 1482.55 Q2163.29 1482.55 2165.1 1479.01 Q2166.93 1475.44 2166.93 1468.33 Q2166.93 1461.2 2165.1 1457.66 Q2163.29 1454.1 2159.66 1454.1 M2159.66 1450.39 Q2165.47 1450.39 2168.52 1455 Q2171.6 1459.58 2171.6 1468.33 Q2171.6 1477.06 2168.52 1481.67 Q2165.47 1486.25 2159.66 1486.25 Q2153.85 1486.25 2150.77 1481.67 Q2147.71 1477.06 2147.71 1468.33 Q2147.71 1459.58 2150.77 1455 Q2153.85 1450.39 2159.66 1450.39 Z\" fill=\"#000000\" fill-rule=\"evenodd\" fill-opacity=\"1\" /><path clip-path=\"url(#clip160)\" d=\"M2179.82 1479.7 L2184.71 1479.7 L2184.71 1485.58 L2179.82 1485.58 L2179.82 1479.7 Z\" fill=\"#000000\" fill-rule=\"evenodd\" fill-opacity=\"1\" /><path clip-path=\"url(#clip160)\" d=\"M2204.89 1454.1 Q2201.28 1454.1 2199.45 1457.66 Q2197.65 1461.2 2197.65 1468.33 Q2197.65 1475.44 2199.45 1479.01 Q2201.28 1482.55 2204.89 1482.55 Q2208.52 1482.55 2210.33 1479.01 Q2212.16 1475.44 2212.16 1468.33 Q2212.16 1461.2 2210.33 1457.66 Q2208.52 1454.1 2204.89 1454.1 M2204.89 1450.39 Q2210.7 1450.39 2213.76 1455 Q2216.83 1459.58 2216.83 1468.33 Q2216.83 1477.06 2213.76 1481.67 Q2210.7 1486.25 2204.89 1486.25 Q2199.08 1486.25 2196 1481.67 Q2192.95 1477.06 2192.95 1468.33 Q2192.95 1459.58 2196 1455 Q2199.08 1450.39 2204.89 1450.39 Z\" fill=\"#000000\" fill-rule=\"evenodd\" fill-opacity=\"1\" /><path clip-path=\"url(#clip160)\" d=\"M2235.05 1469.17 Q2231.72 1469.17 2229.8 1470.95 Q2227.9 1472.73 2227.9 1475.86 Q2227.9 1478.98 2229.8 1480.77 Q2231.72 1482.55 2235.05 1482.55 Q2238.39 1482.55 2240.31 1480.77 Q2242.23 1478.96 2242.23 1475.86 Q2242.23 1472.73 2240.31 1470.95 Q2238.41 1469.17 2235.05 1469.17 M2230.38 1467.18 Q2227.37 1466.44 2225.68 1464.38 Q2224.01 1462.32 2224.01 1459.35 Q2224.01 1455.21 2226.95 1452.8 Q2229.91 1450.39 2235.05 1450.39 Q2240.21 1450.39 2243.15 1452.8 Q2246.09 1455.21 2246.09 1459.35 Q2246.09 1462.32 2244.4 1464.38 Q2242.74 1466.44 2239.75 1467.18 Q2243.13 1467.96 2245.01 1470.26 Q2246.9 1472.55 2246.9 1475.86 Q2246.9 1480.88 2243.83 1483.57 Q2240.77 1486.25 2235.05 1486.25 Q2229.33 1486.25 2226.26 1483.57 Q2223.2 1480.88 2223.2 1475.86 Q2223.2 1472.55 2225.1 1470.26 Q2227 1467.96 2230.38 1467.18 M2228.66 1459.79 Q2228.66 1462.48 2230.33 1463.98 Q2232.02 1465.49 2235.05 1465.49 Q2238.06 1465.49 2239.75 1463.98 Q2241.46 1462.48 2241.46 1459.79 Q2241.46 1457.11 2239.75 1455.6 Q2238.06 1454.1 2235.05 1454.1 Q2232.02 1454.1 2230.33 1455.6 Q2228.66 1457.11 2228.66 1459.79 Z\" fill=\"#000000\" fill-rule=\"evenodd\" fill-opacity=\"1\" /><path clip-path=\"url(#clip160)\" d=\"M1165.27 1545.76 Q1167.34 1546.46 1169.28 1548.76 Q1171.26 1551.05 1173.23 1555.06 L1179.76 1568.04 L1172.85 1568.04 L1166.77 1555.85 Q1164.42 1551.08 1162.19 1549.52 Q1159.99 1547.96 1156.17 1547.96 L1149.17 1547.96 L1149.17 1568.04 L1142.74 1568.04 L1142.74 1520.52 L1157.25 1520.52 Q1165.4 1520.52 1169.41 1523.93 Q1173.42 1527.34 1173.42 1534.21 Q1173.42 1538.7 1171.32 1541.66 Q1169.25 1544.62 1165.27 1545.76 M1149.17 1525.81 L1149.17 1542.68 L1157.25 1542.68 Q1161.9 1542.68 1164.26 1540.54 Q1166.64 1538.38 1166.64 1534.21 Q1166.64 1530.04 1164.26 1527.94 Q1161.9 1525.81 1157.25 1525.81 L1149.17 1525.81 Z\" fill=\"#000000\" fill-rule=\"evenodd\" fill-opacity=\"1\" /><path clip-path=\"url(#clip160)\" d=\"M1215.34 1548.76 L1215.34 1551.62 L1188.41 1551.62 Q1188.8 1557.67 1192.04 1560.85 Q1195.32 1564 1201.15 1564 Q1204.52 1564 1207.67 1563.17 Q1210.85 1562.35 1213.97 1560.69 L1213.97 1566.23 Q1210.82 1567.57 1207.51 1568.27 Q1204.2 1568.97 1200.8 1568.97 Q1192.27 1568.97 1187.27 1564 Q1182.3 1559.04 1182.3 1550.57 Q1182.3 1541.82 1187.01 1536.69 Q1191.76 1531.54 1199.78 1531.54 Q1206.97 1531.54 1211.14 1536.18 Q1215.34 1540.8 1215.34 1548.76 M1209.48 1547.04 Q1209.42 1542.23 1206.78 1539.37 Q1204.17 1536.5 1199.84 1536.5 Q1194.94 1536.5 1191.98 1539.27 Q1189.05 1542.04 1188.6 1547.07 L1209.48 1547.04 Z\" fill=\"#000000\" fill-rule=\"evenodd\" fill-opacity=\"1\" /><path clip-path=\"url(#clip160)\" d=\"M1247.68 1533.45 L1247.68 1538.98 Q1245.2 1537.71 1242.52 1537.07 Q1239.85 1536.44 1236.98 1536.44 Q1232.62 1536.44 1230.43 1537.77 Q1228.26 1539.11 1228.26 1541.79 Q1228.26 1543.82 1229.82 1545 Q1231.38 1546.15 1236.09 1547.2 L1238.1 1547.64 Q1244.34 1548.98 1246.95 1551.43 Q1249.59 1553.85 1249.59 1558.21 Q1249.59 1563.17 1245.64 1566.07 Q1241.73 1568.97 1234.85 1568.97 Q1231.99 1568.97 1228.87 1568.39 Q1225.78 1567.85 1222.34 1566.74 L1222.34 1560.69 Q1225.59 1562.38 1228.74 1563.24 Q1231.89 1564.07 1234.98 1564.07 Q1239.12 1564.07 1241.34 1562.66 Q1243.57 1561.23 1243.57 1558.65 Q1243.57 1556.27 1241.95 1554.99 Q1240.36 1553.72 1234.92 1552.54 L1232.88 1552.07 Q1227.44 1550.92 1225.02 1548.56 Q1222.6 1546.18 1222.6 1542.04 Q1222.6 1537.01 1226.16 1534.27 Q1229.73 1531.54 1236.28 1531.54 Q1239.53 1531.54 1242.39 1532.01 Q1245.26 1532.49 1247.68 1533.45 Z\" fill=\"#000000\" fill-rule=\"evenodd\" fill-opacity=\"1\" /><path clip-path=\"url(#clip160)\" d=\"M1258.91 1532.4 L1264.77 1532.4 L1264.77 1568.04 L1258.91 1568.04 L1258.91 1532.4 M1258.91 1518.52 L1264.77 1518.52 L1264.77 1525.93 L1258.91 1525.93 L1258.91 1518.52 Z\" fill=\"#000000\" fill-rule=\"evenodd\" fill-opacity=\"1\" /><path clip-path=\"url(#clip160)\" d=\"M1300.48 1537.81 L1300.48 1518.52 L1306.34 1518.52 L1306.34 1568.04 L1300.48 1568.04 L1300.48 1562.7 Q1298.64 1565.88 1295.8 1567.44 Q1293 1568.97 1289.06 1568.97 Q1282.59 1568.97 1278.52 1563.81 Q1274.48 1558.65 1274.48 1550.25 Q1274.48 1541.85 1278.52 1536.69 Q1282.59 1531.54 1289.06 1531.54 Q1293 1531.54 1295.8 1533.1 Q1298.64 1534.62 1300.48 1537.81 M1280.53 1550.25 Q1280.53 1556.71 1283.17 1560.4 Q1285.84 1564.07 1290.49 1564.07 Q1295.13 1564.07 1297.81 1560.4 Q1300.48 1556.71 1300.48 1550.25 Q1300.48 1543.79 1297.81 1540.13 Q1295.13 1536.44 1290.49 1536.44 Q1285.84 1536.44 1283.17 1540.13 Q1280.53 1543.79 1280.53 1550.25 Z\" fill=\"#000000\" fill-rule=\"evenodd\" fill-opacity=\"1\" /><path clip-path=\"url(#clip160)\" d=\"M1317.8 1553.98 L1317.8 1532.4 L1323.65 1532.4 L1323.65 1553.75 Q1323.65 1558.81 1325.63 1561.36 Q1327.6 1563.87 1331.55 1563.87 Q1336.29 1563.87 1339.03 1560.85 Q1341.8 1557.83 1341.8 1552.61 L1341.8 1532.4 L1347.65 1532.4 L1347.65 1568.04 L1341.8 1568.04 L1341.8 1562.57 Q1339.66 1565.82 1336.83 1567.41 Q1334.03 1568.97 1330.31 1568.97 Q1324.16 1568.97 1320.98 1565.15 Q1317.8 1561.33 1317.8 1553.98 M1332.53 1531.54 L1332.53 1531.54 Z\" fill=\"#000000\" fill-rule=\"evenodd\" fill-opacity=\"1\" /><path clip-path=\"url(#clip160)\" d=\"M1375.92 1550.12 Q1368.82 1550.12 1366.08 1551.75 Q1363.34 1553.37 1363.34 1557.29 Q1363.34 1560.4 1365.38 1562.25 Q1367.45 1564.07 1370.98 1564.07 Q1375.85 1564.07 1378.78 1560.63 Q1381.74 1557.16 1381.74 1551.43 L1381.74 1550.12 L1375.92 1550.12 M1387.6 1547.71 L1387.6 1568.04 L1381.74 1568.04 L1381.74 1562.63 Q1379.74 1565.88 1376.74 1567.44 Q1373.75 1568.97 1369.42 1568.97 Q1363.95 1568.97 1360.7 1565.91 Q1357.49 1562.82 1357.49 1557.67 Q1357.49 1551.65 1361.5 1548.6 Q1365.54 1545.54 1373.53 1545.54 L1381.74 1545.54 L1381.74 1544.97 Q1381.74 1540.93 1379.07 1538.73 Q1376.42 1536.5 1371.62 1536.5 Q1368.56 1536.5 1365.67 1537.23 Q1362.77 1537.97 1360.1 1539.43 L1360.1 1534.02 Q1363.31 1532.78 1366.34 1532.17 Q1369.36 1531.54 1372.22 1531.54 Q1379.96 1531.54 1383.78 1535.55 Q1387.6 1539.56 1387.6 1547.71 Z\" fill=\"#000000\" fill-rule=\"evenodd\" fill-opacity=\"1\" /><path clip-path=\"url(#clip160)\" d=\"M1399.66 1518.52 L1405.52 1518.52 L1405.52 1568.04 L1399.66 1568.04 L1399.66 1518.52 Z\" fill=\"#000000\" fill-rule=\"evenodd\" fill-opacity=\"1\" /><path clip-path=\"url(#clip160)\" d=\"M1440.5 1533.45 L1440.5 1538.98 Q1438.01 1537.71 1435.34 1537.07 Q1432.67 1536.44 1429.8 1536.44 Q1425.44 1536.44 1423.24 1537.77 Q1421.08 1539.11 1421.08 1541.79 Q1421.08 1543.82 1422.64 1545 Q1424.2 1546.15 1428.91 1547.2 L1430.92 1547.64 Q1437.15 1548.98 1439.76 1551.43 Q1442.41 1553.85 1442.41 1558.21 Q1442.41 1563.17 1438.46 1566.07 Q1434.54 1568.97 1427.67 1568.97 Q1424.8 1568.97 1421.69 1568.39 Q1418.6 1567.85 1415.16 1566.74 L1415.16 1560.69 Q1418.41 1562.38 1421.56 1563.24 Q1424.71 1564.07 1427.8 1564.07 Q1431.93 1564.07 1434.16 1562.66 Q1436.39 1561.23 1436.39 1558.65 Q1436.39 1556.27 1434.77 1554.99 Q1433.18 1553.72 1427.73 1552.54 L1425.7 1552.07 Q1420.25 1550.92 1417.83 1548.56 Q1415.41 1546.18 1415.41 1542.04 Q1415.41 1537.01 1418.98 1534.27 Q1422.54 1531.54 1429.1 1531.54 Q1432.35 1531.54 1435.21 1532.01 Q1438.08 1532.49 1440.5 1533.45 Z\" fill=\"#000000\" fill-rule=\"evenodd\" fill-opacity=\"1\" /><polyline clip-path=\"url(#clip162)\" style=\"stroke:#000000; stroke-linecap:butt; stroke-linejoin:round; stroke-width:2; stroke-opacity:0.1; fill:none\" points=\"\n",
       "  232.389,1386.4 2352.76,1386.4 \n",
       "  \"/>\n",
       "<polyline clip-path=\"url(#clip162)\" style=\"stroke:#000000; stroke-linecap:butt; stroke-linejoin:round; stroke-width:2; stroke-opacity:0.1; fill:none\" points=\"\n",
       "  232.389,1190.77 2352.76,1190.77 \n",
       "  \"/>\n",
       "<polyline clip-path=\"url(#clip162)\" style=\"stroke:#000000; stroke-linecap:butt; stroke-linejoin:round; stroke-width:2; stroke-opacity:0.1; fill:none\" points=\"\n",
       "  232.389,995.153 2352.76,995.153 \n",
       "  \"/>\n",
       "<polyline clip-path=\"url(#clip162)\" style=\"stroke:#000000; stroke-linecap:butt; stroke-linejoin:round; stroke-width:2; stroke-opacity:0.1; fill:none\" points=\"\n",
       "  232.389,799.531 2352.76,799.531 \n",
       "  \"/>\n",
       "<polyline clip-path=\"url(#clip162)\" style=\"stroke:#000000; stroke-linecap:butt; stroke-linejoin:round; stroke-width:2; stroke-opacity:0.1; fill:none\" points=\"\n",
       "  232.389,603.91 2352.76,603.91 \n",
       "  \"/>\n",
       "<polyline clip-path=\"url(#clip162)\" style=\"stroke:#000000; stroke-linecap:butt; stroke-linejoin:round; stroke-width:2; stroke-opacity:0.1; fill:none\" points=\"\n",
       "  232.389,408.289 2352.76,408.289 \n",
       "  \"/>\n",
       "<polyline clip-path=\"url(#clip162)\" style=\"stroke:#000000; stroke-linecap:butt; stroke-linejoin:round; stroke-width:2; stroke-opacity:0.1; fill:none\" points=\"\n",
       "  232.389,212.667 2352.76,212.667 \n",
       "  \"/>\n",
       "<polyline clip-path=\"url(#clip160)\" style=\"stroke:#000000; stroke-linecap:butt; stroke-linejoin:round; stroke-width:4; stroke-opacity:1; fill:none\" points=\"\n",
       "  232.389,1423.18 232.389,123.472 \n",
       "  \"/>\n",
       "<polyline clip-path=\"url(#clip160)\" style=\"stroke:#000000; stroke-linecap:butt; stroke-linejoin:round; stroke-width:4; stroke-opacity:1; fill:none\" points=\"\n",
       "  232.389,1386.4 251.287,1386.4 \n",
       "  \"/>\n",
       "<polyline clip-path=\"url(#clip160)\" style=\"stroke:#000000; stroke-linecap:butt; stroke-linejoin:round; stroke-width:4; stroke-opacity:1; fill:none\" points=\"\n",
       "  232.389,1190.77 251.287,1190.77 \n",
       "  \"/>\n",
       "<polyline clip-path=\"url(#clip160)\" style=\"stroke:#000000; stroke-linecap:butt; stroke-linejoin:round; stroke-width:4; stroke-opacity:1; fill:none\" points=\"\n",
       "  232.389,995.153 251.287,995.153 \n",
       "  \"/>\n",
       "<polyline clip-path=\"url(#clip160)\" style=\"stroke:#000000; stroke-linecap:butt; stroke-linejoin:round; stroke-width:4; stroke-opacity:1; fill:none\" points=\"\n",
       "  232.389,799.531 251.287,799.531 \n",
       "  \"/>\n",
       "<polyline clip-path=\"url(#clip160)\" style=\"stroke:#000000; stroke-linecap:butt; stroke-linejoin:round; stroke-width:4; stroke-opacity:1; fill:none\" points=\"\n",
       "  232.389,603.91 251.287,603.91 \n",
       "  \"/>\n",
       "<polyline clip-path=\"url(#clip160)\" style=\"stroke:#000000; stroke-linecap:butt; stroke-linejoin:round; stroke-width:4; stroke-opacity:1; fill:none\" points=\"\n",
       "  232.389,408.289 251.287,408.289 \n",
       "  \"/>\n",
       "<polyline clip-path=\"url(#clip160)\" style=\"stroke:#000000; stroke-linecap:butt; stroke-linejoin:round; stroke-width:4; stroke-opacity:1; fill:none\" points=\"\n",
       "  232.389,212.667 251.287,212.667 \n",
       "  \"/>\n",
       "<path clip-path=\"url(#clip160)\" d=\"M184.445 1372.19 Q180.834 1372.19 179.005 1375.76 Q177.2 1379.3 177.2 1386.43 Q177.2 1393.54 179.005 1397.1 Q180.834 1400.64 184.445 1400.64 Q188.079 1400.64 189.885 1397.1 Q191.713 1393.54 191.713 1386.43 Q191.713 1379.3 189.885 1375.76 Q188.079 1372.19 184.445 1372.19 M184.445 1368.49 Q190.255 1368.49 193.311 1373.1 Q196.389 1377.68 196.389 1386.43 Q196.389 1395.16 193.311 1399.76 Q190.255 1404.35 184.445 1404.35 Q178.635 1404.35 175.556 1399.76 Q172.501 1395.16 172.501 1386.43 Q172.501 1377.68 175.556 1373.1 Q178.635 1368.49 184.445 1368.49 Z\" fill=\"#000000\" fill-rule=\"evenodd\" fill-opacity=\"1\" /><path clip-path=\"url(#clip160)\" d=\"M148.311 1204.12 L164.63 1204.12 L164.63 1208.05 L142.686 1208.05 L142.686 1204.12 Q145.348 1201.36 149.931 1196.73 Q154.538 1192.08 155.718 1190.74 Q157.964 1188.22 158.843 1186.48 Q159.746 1184.72 159.746 1183.03 Q159.746 1180.28 157.802 1178.54 Q155.88 1176.8 152.778 1176.8 Q150.579 1176.8 148.126 1177.57 Q145.695 1178.33 142.917 1179.88 L142.917 1175.16 Q145.741 1174.03 148.195 1173.45 Q150.649 1172.87 152.686 1172.87 Q158.056 1172.87 161.251 1175.55 Q164.445 1178.24 164.445 1182.73 Q164.445 1184.86 163.635 1186.78 Q162.848 1188.68 160.741 1191.27 Q160.163 1191.94 157.061 1195.16 Q153.959 1198.36 148.311 1204.12 Z\" fill=\"#000000\" fill-rule=\"evenodd\" fill-opacity=\"1\" /><path clip-path=\"url(#clip160)\" d=\"M184.445 1176.57 Q180.834 1176.57 179.005 1180.14 Q177.2 1183.68 177.2 1190.81 Q177.2 1197.92 179.005 1201.48 Q180.834 1205.02 184.445 1205.02 Q188.079 1205.02 189.885 1201.48 Q191.713 1197.92 191.713 1190.81 Q191.713 1183.68 189.885 1180.14 Q188.079 1176.57 184.445 1176.57 M184.445 1172.87 Q190.255 1172.87 193.311 1177.48 Q196.389 1182.06 196.389 1190.81 Q196.389 1199.54 193.311 1204.14 Q190.255 1208.73 184.445 1208.73 Q178.635 1208.73 175.556 1204.14 Q172.501 1199.54 172.501 1190.81 Q172.501 1182.06 175.556 1177.48 Q178.635 1172.87 184.445 1172.87 Z\" fill=\"#000000\" fill-rule=\"evenodd\" fill-opacity=\"1\" /><path clip-path=\"url(#clip160)\" d=\"M157.13 981.947 L145.325 1000.4 L157.13 1000.4 L157.13 981.947 M155.903 977.873 L161.783 977.873 L161.783 1000.4 L166.714 1000.4 L166.714 1004.28 L161.783 1004.28 L161.783 1012.43 L157.13 1012.43 L157.13 1004.28 L141.529 1004.28 L141.529 999.771 L155.903 977.873 Z\" fill=\"#000000\" fill-rule=\"evenodd\" fill-opacity=\"1\" /><path clip-path=\"url(#clip160)\" d=\"M184.445 980.951 Q180.834 980.951 179.005 984.516 Q177.2 988.058 177.2 995.188 Q177.2 1002.29 179.005 1005.86 Q180.834 1009.4 184.445 1009.4 Q188.079 1009.4 189.885 1005.86 Q191.713 1002.29 191.713 995.188 Q191.713 988.058 189.885 984.516 Q188.079 980.951 184.445 980.951 M184.445 977.248 Q190.255 977.248 193.311 981.854 Q196.389 986.438 196.389 995.188 Q196.389 1003.91 193.311 1008.52 Q190.255 1013.1 184.445 1013.1 Q178.635 1013.1 175.556 1008.52 Q172.501 1003.91 172.501 995.188 Q172.501 986.438 175.556 981.854 Q178.635 977.248 184.445 977.248 Z\" fill=\"#000000\" fill-rule=\"evenodd\" fill-opacity=\"1\" /><path clip-path=\"url(#clip160)\" d=\"M154.862 797.668 Q151.714 797.668 149.862 799.821 Q148.033 801.973 148.033 805.723 Q148.033 809.45 149.862 811.626 Q151.714 813.779 154.862 813.779 Q158.01 813.779 159.839 811.626 Q161.69 809.45 161.69 805.723 Q161.69 801.973 159.839 799.821 Q158.01 797.668 154.862 797.668 M164.144 783.015 L164.144 787.274 Q162.385 786.441 160.579 786.001 Q158.797 785.562 157.038 785.562 Q152.408 785.562 149.954 788.687 Q147.524 791.812 147.177 798.131 Q148.542 796.117 150.603 795.052 Q152.663 793.964 155.14 793.964 Q160.348 793.964 163.357 797.136 Q166.39 800.284 166.39 805.723 Q166.39 811.048 163.241 814.265 Q160.093 817.483 154.862 817.483 Q148.866 817.483 145.695 812.899 Q142.524 808.293 142.524 799.566 Q142.524 791.372 146.413 786.511 Q150.302 781.626 156.853 781.626 Q158.612 781.626 160.394 781.974 Q162.2 782.321 164.144 783.015 Z\" fill=\"#000000\" fill-rule=\"evenodd\" fill-opacity=\"1\" /><path clip-path=\"url(#clip160)\" d=\"M184.445 785.33 Q180.834 785.33 179.005 788.895 Q177.2 792.436 177.2 799.566 Q177.2 806.673 179.005 810.237 Q180.834 813.779 184.445 813.779 Q188.079 813.779 189.885 810.237 Q191.713 806.673 191.713 799.566 Q191.713 792.436 189.885 788.895 Q188.079 785.33 184.445 785.33 M184.445 781.626 Q190.255 781.626 193.311 786.233 Q196.389 790.816 196.389 799.566 Q196.389 808.293 193.311 812.899 Q190.255 817.483 184.445 817.483 Q178.635 817.483 175.556 812.899 Q172.501 808.293 172.501 799.566 Q172.501 790.816 175.556 786.233 Q178.635 781.626 184.445 781.626 Z\" fill=\"#000000\" fill-rule=\"evenodd\" fill-opacity=\"1\" /><path clip-path=\"url(#clip160)\" d=\"M154.283 604.778 Q150.95 604.778 149.028 606.56 Q147.13 608.343 147.13 611.468 Q147.13 614.593 149.028 616.375 Q150.95 618.158 154.283 618.158 Q157.616 618.158 159.538 616.375 Q161.459 614.57 161.459 611.468 Q161.459 608.343 159.538 606.56 Q157.64 604.778 154.283 604.778 M149.607 602.787 Q146.598 602.047 144.908 599.986 Q143.241 597.926 143.241 594.963 Q143.241 590.82 146.181 588.412 Q149.144 586.005 154.283 586.005 Q159.445 586.005 162.385 588.412 Q165.325 590.82 165.325 594.963 Q165.325 597.926 163.635 599.986 Q161.968 602.047 158.982 602.787 Q162.362 603.574 164.237 605.866 Q166.135 608.158 166.135 611.468 Q166.135 616.491 163.056 619.176 Q160.001 621.861 154.283 621.861 Q148.566 621.861 145.487 619.176 Q142.431 616.491 142.431 611.468 Q142.431 608.158 144.329 605.866 Q146.228 603.574 149.607 602.787 M147.894 595.403 Q147.894 598.088 149.561 599.593 Q151.251 601.097 154.283 601.097 Q157.292 601.097 158.982 599.593 Q160.695 598.088 160.695 595.403 Q160.695 592.718 158.982 591.213 Q157.292 589.709 154.283 589.709 Q151.251 589.709 149.561 591.213 Q147.894 592.718 147.894 595.403 Z\" fill=\"#000000\" fill-rule=\"evenodd\" fill-opacity=\"1\" /><path clip-path=\"url(#clip160)\" d=\"M184.445 589.709 Q180.834 589.709 179.005 593.273 Q177.2 596.815 177.2 603.945 Q177.2 611.051 179.005 614.616 Q180.834 618.158 184.445 618.158 Q188.079 618.158 189.885 614.616 Q191.713 611.051 191.713 603.945 Q191.713 596.815 189.885 593.273 Q188.079 589.709 184.445 589.709 M184.445 586.005 Q190.255 586.005 193.311 590.611 Q196.389 595.195 196.389 603.945 Q196.389 612.671 193.311 617.278 Q190.255 621.861 184.445 621.861 Q178.635 621.861 175.556 617.278 Q172.501 612.671 172.501 603.945 Q172.501 595.195 175.556 590.611 Q178.635 586.005 184.445 586.005 Z\" fill=\"#000000\" fill-rule=\"evenodd\" fill-opacity=\"1\" /><path clip-path=\"url(#clip160)\" d=\"M114.931 421.633 L122.57 421.633 L122.57 395.268 L114.26 396.934 L114.26 392.675 L122.524 391.009 L127.2 391.009 L127.2 421.633 L134.839 421.633 L134.839 425.569 L114.931 425.569 L114.931 421.633 Z\" fill=\"#000000\" fill-rule=\"evenodd\" fill-opacity=\"1\" /><path clip-path=\"url(#clip160)\" d=\"M154.283 394.087 Q150.672 394.087 148.843 397.652 Q147.038 401.194 147.038 408.323 Q147.038 415.43 148.843 418.994 Q150.672 422.536 154.283 422.536 Q157.917 422.536 159.723 418.994 Q161.552 415.43 161.552 408.323 Q161.552 401.194 159.723 397.652 Q157.917 394.087 154.283 394.087 M154.283 390.384 Q160.093 390.384 163.149 394.99 Q166.227 399.573 166.227 408.323 Q166.227 417.05 163.149 421.656 Q160.093 426.24 154.283 426.24 Q148.473 426.24 145.394 421.656 Q142.339 417.05 142.339 408.323 Q142.339 399.573 145.394 394.99 Q148.473 390.384 154.283 390.384 Z\" fill=\"#000000\" fill-rule=\"evenodd\" fill-opacity=\"1\" /><path clip-path=\"url(#clip160)\" d=\"M184.445 394.087 Q180.834 394.087 179.005 397.652 Q177.2 401.194 177.2 408.323 Q177.2 415.43 179.005 418.994 Q180.834 422.536 184.445 422.536 Q188.079 422.536 189.885 418.994 Q191.713 415.43 191.713 408.323 Q191.713 401.194 189.885 397.652 Q188.079 394.087 184.445 394.087 M184.445 390.384 Q190.255 390.384 193.311 394.99 Q196.389 399.573 196.389 408.323 Q196.389 417.05 193.311 421.656 Q190.255 426.24 184.445 426.24 Q178.635 426.24 175.556 421.656 Q172.501 417.05 172.501 408.323 Q172.501 399.573 175.556 394.99 Q178.635 390.384 184.445 390.384 Z\" fill=\"#000000\" fill-rule=\"evenodd\" fill-opacity=\"1\" /><path clip-path=\"url(#clip160)\" d=\"M114.931 226.012 L122.57 226.012 L122.57 199.646 L114.26 201.313 L114.26 197.054 L122.524 195.387 L127.2 195.387 L127.2 226.012 L134.839 226.012 L134.839 229.947 L114.931 229.947 L114.931 226.012 Z\" fill=\"#000000\" fill-rule=\"evenodd\" fill-opacity=\"1\" /><path clip-path=\"url(#clip160)\" d=\"M148.311 226.012 L164.63 226.012 L164.63 229.947 L142.686 229.947 L142.686 226.012 Q145.348 223.257 149.931 218.628 Q154.538 213.975 155.718 212.632 Q157.964 210.109 158.843 208.373 Q159.746 206.614 159.746 204.924 Q159.746 202.169 157.802 200.433 Q155.88 198.697 152.778 198.697 Q150.579 198.697 148.126 199.461 Q145.695 200.225 142.917 201.776 L142.917 197.054 Q145.741 195.919 148.195 195.341 Q150.649 194.762 152.686 194.762 Q158.056 194.762 161.251 197.447 Q164.445 200.132 164.445 204.623 Q164.445 206.753 163.635 208.674 Q162.848 210.572 160.741 213.165 Q160.163 213.836 157.061 217.054 Q153.959 220.248 148.311 226.012 Z\" fill=\"#000000\" fill-rule=\"evenodd\" fill-opacity=\"1\" /><path clip-path=\"url(#clip160)\" d=\"M184.445 198.466 Q180.834 198.466 179.005 202.031 Q177.2 205.572 177.2 212.702 Q177.2 219.808 179.005 223.373 Q180.834 226.915 184.445 226.915 Q188.079 226.915 189.885 223.373 Q191.713 219.808 191.713 212.702 Q191.713 205.572 189.885 202.031 Q188.079 198.466 184.445 198.466 M184.445 194.762 Q190.255 194.762 193.311 199.369 Q196.389 203.952 196.389 212.702 Q196.389 221.429 193.311 226.035 Q190.255 230.618 184.445 230.618 Q178.635 230.618 175.556 226.035 Q172.501 221.429 172.501 212.702 Q172.501 203.952 175.556 199.369 Q178.635 194.762 184.445 194.762 Z\" fill=\"#000000\" fill-rule=\"evenodd\" fill-opacity=\"1\" /><path clip-path=\"url(#clip160)\" d=\"M16.4842 937.529 L16.4842 910.221 L21.895 910.221 L21.895 931.1 L35.8996 931.1 L35.8996 912.258 L41.3104 912.258 L41.3104 931.1 L64.0042 931.1 L64.0042 937.529 L16.4842 937.529 Z\" fill=\"#000000\" fill-rule=\"evenodd\" fill-opacity=\"1\" /><path clip-path=\"url(#clip160)\" d=\"M33.8307 884.376 Q33.2578 885.362 33.0032 886.54 Q32.7167 887.686 32.7167 889.086 Q32.7167 894.052 35.9632 896.725 Q39.1779 899.367 45.2253 899.367 L64.0042 899.367 L64.0042 905.255 L28.3562 905.255 L28.3562 899.367 L33.8944 899.367 Q30.6479 897.521 29.0883 894.561 Q27.4968 891.601 27.4968 887.368 Q27.4968 886.763 27.5923 886.031 Q27.656 885.299 27.8151 884.408 L33.8307 884.376 Z\" fill=\"#000000\" fill-rule=\"evenodd\" fill-opacity=\"1\" /><path clip-path=\"url(#clip160)\" d=\"M44.7161 849.173 L47.5806 849.173 L47.5806 876.1 Q53.6281 875.718 56.8109 872.472 Q59.9619 869.194 59.9619 863.369 Q59.9619 859.995 59.1344 856.844 Q58.3069 853.661 56.6518 850.542 L62.1899 850.542 Q63.5267 853.693 64.227 857.003 Q64.9272 860.313 64.9272 863.719 Q64.9272 872.249 59.9619 877.246 Q54.9967 882.211 46.5303 882.211 Q37.7774 882.211 32.6531 877.501 Q27.4968 872.758 27.4968 864.738 Q27.4968 857.544 32.1438 853.375 Q36.7589 849.173 44.7161 849.173 M42.9973 855.03 Q38.1912 855.093 35.3266 857.735 Q32.4621 860.345 32.4621 864.674 Q32.4621 869.575 35.2312 872.536 Q38.0002 875.464 43.0292 875.909 L42.9973 855.03 Z\" fill=\"#000000\" fill-rule=\"evenodd\" fill-opacity=\"1\" /><path clip-path=\"url(#clip160)\" d=\"M46.212 836.06 Q52.6732 836.06 56.3653 833.418 Q60.0256 830.745 60.0256 826.098 Q60.0256 821.451 56.3653 818.777 Q52.6732 816.104 46.212 816.104 Q39.7508 816.104 36.0905 818.777 Q32.3984 821.451 32.3984 826.098 Q32.3984 830.745 36.0905 833.418 Q39.7508 836.06 46.212 836.06 M58.657 816.104 Q61.8398 817.95 63.3994 820.782 Q64.9272 823.583 64.9272 827.53 Q64.9272 833.991 59.771 838.065 Q54.6147 842.107 46.212 842.107 Q37.8093 842.107 32.6531 838.065 Q27.4968 833.991 27.4968 827.53 Q27.4968 823.583 29.0564 820.782 Q30.5842 817.95 33.7671 816.104 L28.3562 816.104 L28.3562 810.247 L77.5631 810.247 L77.5631 816.104 L58.657 816.104 Z\" fill=\"#000000\" fill-rule=\"evenodd\" fill-opacity=\"1\" /><path clip-path=\"url(#clip160)\" d=\"M49.9359 798.789 L28.3562 798.789 L28.3562 792.932 L49.7131 792.932 Q54.7739 792.932 57.3202 790.959 Q59.8346 788.986 59.8346 785.039 Q59.8346 780.296 56.8109 777.559 Q53.7872 774.79 48.5673 774.79 L28.3562 774.79 L28.3562 768.934 L64.0042 768.934 L64.0042 774.79 L58.5296 774.79 Q61.7762 776.923 63.3676 779.755 Q64.9272 782.556 64.9272 786.28 Q64.9272 792.423 61.1078 795.606 Q57.2883 798.789 49.9359 798.789 M27.4968 784.052 L27.4968 784.052 Z\" fill=\"#000000\" fill-rule=\"evenodd\" fill-opacity=\"1\" /><path clip-path=\"url(#clip160)\" d=\"M44.7161 726.379 L47.5806 726.379 L47.5806 753.306 Q53.6281 752.924 56.8109 749.677 Q59.9619 746.399 59.9619 740.574 Q59.9619 737.201 59.1344 734.05 Q58.3069 730.867 56.6518 727.748 L62.1899 727.748 Q63.5267 730.899 64.227 734.209 Q64.9272 737.519 64.9272 740.925 Q64.9272 749.455 59.9619 754.452 Q54.9967 759.417 46.5303 759.417 Q37.7774 759.417 32.6531 754.706 Q27.4968 749.964 27.4968 741.943 Q27.4968 734.75 32.1438 730.58 Q36.7589 726.379 44.7161 726.379 M42.9973 732.235 Q38.1912 732.299 35.3266 734.941 Q32.4621 737.551 32.4621 741.879 Q32.4621 746.781 35.2312 749.741 Q38.0002 752.669 43.0292 753.115 L42.9973 732.235 Z\" fill=\"#000000\" fill-rule=\"evenodd\" fill-opacity=\"1\" /><path clip-path=\"url(#clip160)\" d=\"M42.4881 687.134 L64.0042 687.134 L64.0042 692.991 L42.679 692.991 Q37.6183 692.991 35.1038 694.964 Q32.5894 696.938 32.5894 700.884 Q32.5894 705.627 35.6131 708.364 Q38.6368 711.101 43.8567 711.101 L64.0042 711.101 L64.0042 716.989 L28.3562 716.989 L28.3562 711.101 L33.8944 711.101 Q30.6797 709.001 29.0883 706.168 Q27.4968 703.303 27.4968 699.579 Q27.4968 693.436 31.3163 690.285 Q35.1038 687.134 42.4881 687.134 Z\" fill=\"#000000\" fill-rule=\"evenodd\" fill-opacity=\"1\" /><path clip-path=\"url(#clip160)\" d=\"M29.7248 649.799 L35.1993 649.799 Q33.8307 652.282 33.1623 654.797 Q32.4621 657.279 32.4621 659.825 Q32.4621 665.523 36.0905 668.674 Q39.6872 671.825 46.212 671.825 Q52.7369 671.825 56.3653 668.674 Q59.9619 665.523 59.9619 659.825 Q59.9619 657.279 59.2935 654.797 Q58.5933 652.282 57.2247 649.799 L62.6355 649.799 Q63.7814 652.25 64.3543 654.892 Q64.9272 657.502 64.9272 660.462 Q64.9272 668.515 59.8664 673.257 Q54.8057 678 46.212 678 Q37.491 678 32.4939 673.225 Q27.4968 668.419 27.4968 660.08 Q27.4968 657.375 28.0697 654.797 Q28.6108 652.218 29.7248 649.799 Z\" fill=\"#000000\" fill-rule=\"evenodd\" fill-opacity=\"1\" /><path clip-path=\"url(#clip160)\" d=\"M67.3143 624.782 Q73.68 627.265 75.6216 629.62 Q77.5631 631.975 77.5631 635.922 L77.5631 640.601 L72.6615 640.601 L72.6615 637.164 Q72.6615 634.745 71.5157 633.408 Q70.3699 632.071 66.1048 630.448 L63.4312 629.397 L28.3562 643.816 L28.3562 637.609 L56.238 626.469 L28.3562 615.329 L28.3562 609.123 L67.3143 624.782 Z\" fill=\"#000000\" fill-rule=\"evenodd\" fill-opacity=\"1\" /><path clip-path=\"url(#clip160)\" d=\"M819.65 18.8205 L819.65 65.8515 L829.534 65.8515 Q842.051 65.8515 847.844 60.1802 Q853.677 54.509 853.677 42.2752 Q853.677 30.1225 847.844 24.4918 Q842.051 18.8205 829.534 18.8205 L819.65 18.8205 M811.467 12.096 L828.278 12.096 Q845.859 12.096 854.082 19.4281 Q862.306 26.7198 862.306 42.2752 Q862.306 57.9117 854.042 65.2439 Q845.778 72.576 828.278 72.576 L811.467 72.576 L811.467 12.096 Z\" fill=\"#000000\" fill-rule=\"evenodd\" fill-opacity=\"1\" /><path clip-path=\"url(#clip160)\" d=\"M913.833 48.0275 L913.833 51.6733 L879.563 51.6733 Q880.049 59.3701 884.181 63.421 Q888.353 67.4314 895.766 67.4314 Q900.06 67.4314 904.071 66.3781 Q908.122 65.3249 912.091 63.2184 L912.091 70.267 Q908.081 71.9684 903.868 72.8596 Q899.655 73.7508 895.321 73.7508 Q884.464 73.7508 878.104 67.4314 Q871.785 61.1119 871.785 50.3365 Q871.785 39.1965 877.78 32.6746 Q883.816 26.1121 894.024 26.1121 Q903.179 26.1121 908.486 32.0264 Q913.833 37.9003 913.833 48.0275 M906.38 45.84 Q906.299 39.7232 902.936 36.0774 Q899.615 32.4315 894.105 32.4315 Q887.867 32.4315 884.1 35.9558 Q880.373 39.4801 879.806 45.8805 L906.38 45.84 Z\" fill=\"#000000\" fill-rule=\"evenodd\" fill-opacity=\"1\" /><path clip-path=\"url(#clip160)\" d=\"M963.781 45.1919 L963.781 72.576 L956.327 72.576 L956.327 45.4349 Q956.327 38.994 953.816 35.7938 Q951.304 32.5936 946.281 32.5936 Q940.245 32.5936 936.761 36.4419 Q933.278 40.2903 933.278 46.9338 L933.278 72.576 L925.784 72.576 L925.784 27.2059 L933.278 27.2059 L933.278 34.2544 Q935.951 30.163 939.557 28.1376 Q943.202 26.1121 947.942 26.1121 Q955.76 26.1121 959.771 30.9732 Q963.781 35.7938 963.781 45.1919 Z\" fill=\"#000000\" fill-rule=\"evenodd\" fill-opacity=\"1\" /><path clip-path=\"url(#clip160)\" d=\"M1007.57 28.5427 L1007.57 35.5912 Q1004.41 33.9709 1001.01 33.1607 Q997.606 32.3505 993.96 32.3505 Q988.41 32.3505 985.615 34.0519 Q982.861 35.7533 982.861 39.156 Q982.861 41.7486 984.846 43.2475 Q986.831 44.7058 992.826 46.0426 L995.378 46.6097 Q1003.32 48.3111 1006.64 51.4303 Q1010 54.509 1010 60.0587 Q1010 66.3781 1004.98 70.0644 Q999.996 73.7508 991.246 73.7508 Q987.6 73.7508 983.63 73.0216 Q979.701 72.3329 975.326 70.9151 L975.326 63.2184 Q979.458 65.3654 983.468 66.4591 Q987.479 67.5124 991.408 67.5124 Q996.674 67.5124 999.51 65.73 Q1002.35 63.9071 1002.35 60.6258 Q1002.35 57.5877 1000.28 55.9673 Q998.254 54.3469 991.327 52.8481 L988.735 52.2405 Q981.808 50.7821 978.729 47.7845 Q975.65 44.7463 975.65 39.4801 Q975.65 33.0797 980.187 29.5959 Q984.724 26.1121 993.069 26.1121 Q997.201 26.1121 1000.85 26.7198 Q1004.49 27.3274 1007.57 28.5427 Z\" fill=\"#000000\" fill-rule=\"evenodd\" fill-opacity=\"1\" /><path clip-path=\"url(#clip160)\" d=\"M1021.87 27.2059 L1029.32 27.2059 L1029.32 72.576 L1021.87 72.576 L1021.87 27.2059 M1021.87 9.54393 L1029.32 9.54393 L1029.32 18.9825 L1021.87 18.9825 L1021.87 9.54393 Z\" fill=\"#000000\" fill-rule=\"evenodd\" fill-opacity=\"1\" /><path clip-path=\"url(#clip160)\" d=\"M1052.29 14.324 L1052.29 27.2059 L1067.65 27.2059 L1067.65 32.9987 L1052.29 32.9987 L1052.29 57.6282 Q1052.29 63.1779 1053.79 64.7578 Q1055.33 66.3376 1059.99 66.3376 L1067.65 66.3376 L1067.65 72.576 L1059.99 72.576 Q1051.36 72.576 1048.08 69.3758 Q1044.8 66.1351 1044.8 57.6282 L1044.8 32.9987 L1039.33 32.9987 L1039.33 27.2059 L1044.8 27.2059 L1044.8 14.324 L1052.29 14.324 Z\" fill=\"#000000\" fill-rule=\"evenodd\" fill-opacity=\"1\" /><path clip-path=\"url(#clip160)\" d=\"M1096.33 76.7889 Q1093.17 84.8907 1090.17 87.3618 Q1087.17 89.8329 1082.15 89.8329 L1076.19 89.8329 L1076.19 83.5945 L1080.57 83.5945 Q1083.65 83.5945 1085.35 82.1361 Q1087.05 80.6778 1089.12 75.2496 L1090.45 71.8468 L1072.1 27.2059 L1080 27.2059 L1094.18 62.6918 L1108.36 27.2059 L1116.26 27.2059 L1096.33 76.7889 Z\" fill=\"#000000\" fill-rule=\"evenodd\" fill-opacity=\"1\" /><path clip-path=\"url(#clip160)\" d=\"M1161.42 18.8205 L1161.42 41.5461 L1171.71 41.5461 Q1177.43 41.5461 1180.54 38.5889 Q1183.66 35.6318 1183.66 30.163 Q1183.66 24.7348 1180.54 21.7777 Q1177.43 18.8205 1171.71 18.8205 L1161.42 18.8205 M1153.24 12.096 L1171.71 12.096 Q1181.88 12.096 1187.07 16.714 Q1192.29 21.2916 1192.29 30.163 Q1192.29 39.1155 1187.07 43.6931 Q1181.88 48.2706 1171.71 48.2706 L1161.42 48.2706 L1161.42 72.576 L1153.24 72.576 L1153.24 12.096 Z\" fill=\"#000000\" fill-rule=\"evenodd\" fill-opacity=\"1\" /><path clip-path=\"url(#clip160)\" d=\"M1202.95 9.54393 L1210.4 9.54393 L1210.4 72.576 L1202.95 72.576 L1202.95 9.54393 Z\" fill=\"#000000\" fill-rule=\"evenodd\" fill-opacity=\"1\" /><path clip-path=\"url(#clip160)\" d=\"M1243.58 32.4315 Q1237.58 32.4315 1234.1 37.1306 Q1230.61 41.7891 1230.61 49.9314 Q1230.61 58.0738 1234.06 62.7728 Q1237.54 67.4314 1243.58 67.4314 Q1249.53 67.4314 1253.02 62.7323 Q1256.5 58.0333 1256.5 49.9314 Q1256.5 41.8701 1253.02 37.1711 Q1249.53 32.4315 1243.58 32.4315 M1243.58 26.1121 Q1253.3 26.1121 1258.85 32.4315 Q1264.4 38.7509 1264.4 49.9314 Q1264.4 61.0714 1258.85 67.4314 Q1253.3 73.7508 1243.58 73.7508 Q1233.81 73.7508 1228.26 67.4314 Q1222.76 61.0714 1222.76 49.9314 Q1222.76 38.7509 1228.26 32.4315 Q1233.81 26.1121 1243.58 26.1121 Z\" fill=\"#000000\" fill-rule=\"evenodd\" fill-opacity=\"1\" /><path clip-path=\"url(#clip160)\" d=\"M1284.13 14.324 L1284.13 27.2059 L1299.48 27.2059 L1299.48 32.9987 L1284.13 32.9987 L1284.13 57.6282 Q1284.13 63.1779 1285.63 64.7578 Q1287.16 66.3376 1291.82 66.3376 L1299.48 66.3376 L1299.48 72.576 L1291.82 72.576 Q1283.19 72.576 1279.91 69.3758 Q1276.63 66.1351 1276.63 57.6282 L1276.63 32.9987 L1271.16 32.9987 L1271.16 27.2059 L1276.63 27.2059 L1276.63 14.324 L1284.13 14.324 Z\" fill=\"#000000\" fill-rule=\"evenodd\" fill-opacity=\"1\" /><path clip-path=\"url(#clip160)\" d=\"M1331.89 46.5287 L1353.72 46.5287 L1353.72 53.1722 L1331.89 53.1722 L1331.89 46.5287 Z\" fill=\"#000000\" fill-rule=\"evenodd\" fill-opacity=\"1\" /><path clip-path=\"url(#clip160)\" d=\"M1420.97 44.2197 Q1423.6 45.1109 1426.07 48.0275 Q1428.58 50.9442 1431.09 56.0483 L1439.4 72.576 L1430.61 72.576 L1422.87 57.061 Q1419.87 50.9847 1417.04 48.9997 Q1414.24 47.0148 1409.38 47.0148 L1400.47 47.0148 L1400.47 72.576 L1392.29 72.576 L1392.29 12.096 L1410.76 12.096 Q1421.13 12.096 1426.23 16.4305 Q1431.34 20.7649 1431.34 29.5149 Q1431.34 35.2267 1428.66 38.994 Q1426.03 42.7613 1420.97 44.2197 M1400.47 18.8205 L1400.47 40.2903 L1410.76 40.2903 Q1416.67 40.2903 1419.67 37.5762 Q1422.71 34.8216 1422.71 29.5149 Q1422.71 24.2082 1419.67 21.5346 Q1416.67 18.8205 1410.76 18.8205 L1400.47 18.8205 Z\" fill=\"#000000\" fill-rule=\"evenodd\" fill-opacity=\"1\" /><path clip-path=\"url(#clip160)\" d=\"M1484.69 48.0275 L1484.69 51.6733 L1450.42 51.6733 Q1450.9 59.3701 1455.03 63.421 Q1459.21 67.4314 1466.62 67.4314 Q1470.91 67.4314 1474.92 66.3781 Q1478.97 65.3249 1482.94 63.2184 L1482.94 70.267 Q1478.93 71.9684 1474.72 72.8596 Q1470.51 73.7508 1466.17 73.7508 Q1455.32 73.7508 1448.96 67.4314 Q1442.64 61.1119 1442.64 50.3365 Q1442.64 39.1965 1448.63 32.6746 Q1454.67 26.1121 1464.88 26.1121 Q1474.03 26.1121 1479.34 32.0264 Q1484.69 37.9003 1484.69 48.0275 M1477.23 45.84 Q1477.15 39.7232 1473.79 36.0774 Q1470.47 32.4315 1464.96 32.4315 Q1458.72 32.4315 1454.95 35.9558 Q1451.23 39.4801 1450.66 45.8805 L1477.23 45.84 Z\" fill=\"#000000\" fill-rule=\"evenodd\" fill-opacity=\"1\" /><path clip-path=\"url(#clip160)\" d=\"M1525.84 28.5427 L1525.84 35.5912 Q1522.68 33.9709 1519.28 33.1607 Q1515.88 32.3505 1512.23 32.3505 Q1506.68 32.3505 1503.89 34.0519 Q1501.13 35.7533 1501.13 39.156 Q1501.13 41.7486 1503.12 43.2475 Q1505.1 44.7058 1511.1 46.0426 L1513.65 46.6097 Q1521.59 48.3111 1524.91 51.4303 Q1528.27 54.509 1528.27 60.0587 Q1528.27 66.3781 1523.25 70.0644 Q1518.27 73.7508 1509.52 73.7508 Q1505.87 73.7508 1501.9 73.0216 Q1497.97 72.3329 1493.6 70.9151 L1493.6 63.2184 Q1497.73 65.3654 1501.74 66.4591 Q1505.75 67.5124 1509.68 67.5124 Q1514.95 67.5124 1517.78 65.73 Q1520.62 63.9071 1520.62 60.6258 Q1520.62 57.5877 1518.55 55.9673 Q1516.53 54.3469 1509.6 52.8481 L1507.01 52.2405 Q1500.08 50.7821 1497 47.7845 Q1493.92 44.7463 1493.92 39.4801 Q1493.92 33.0797 1498.46 29.5959 Q1503 26.1121 1511.34 26.1121 Q1515.47 26.1121 1519.12 26.7198 Q1522.77 27.3274 1525.84 28.5427 Z\" fill=\"#000000\" fill-rule=\"evenodd\" fill-opacity=\"1\" /><path clip-path=\"url(#clip160)\" d=\"M1540.14 27.2059 L1547.6 27.2059 L1547.6 72.576 L1540.14 72.576 L1540.14 27.2059 M1540.14 9.54393 L1547.6 9.54393 L1547.6 18.9825 L1540.14 18.9825 L1540.14 9.54393 Z\" fill=\"#000000\" fill-rule=\"evenodd\" fill-opacity=\"1\" /><path clip-path=\"url(#clip160)\" d=\"M1593.05 34.0924 L1593.05 9.54393 L1600.5 9.54393 L1600.5 72.576 L1593.05 72.576 L1593.05 65.7705 Q1590.7 69.8214 1587.09 71.8063 Q1583.53 73.7508 1578.51 73.7508 Q1570.28 73.7508 1565.1 67.1883 Q1559.95 60.6258 1559.95 49.9314 Q1559.95 39.2371 1565.1 32.6746 Q1570.28 26.1121 1578.51 26.1121 Q1583.53 26.1121 1587.09 28.0971 Q1590.7 30.0415 1593.05 34.0924 M1567.65 49.9314 Q1567.65 58.1548 1571.01 62.8538 Q1574.41 67.5124 1580.33 67.5124 Q1586.24 67.5124 1589.65 62.8538 Q1593.05 58.1548 1593.05 49.9314 Q1593.05 41.7081 1589.65 37.0496 Q1586.24 32.3505 1580.33 32.3505 Q1574.41 32.3505 1571.01 37.0496 Q1567.65 41.7081 1567.65 49.9314 Z\" fill=\"#000000\" fill-rule=\"evenodd\" fill-opacity=\"1\" /><path clip-path=\"url(#clip160)\" d=\"M1615.09 54.671 L1615.09 27.2059 L1622.54 27.2059 L1622.54 54.3874 Q1622.54 60.8284 1625.05 64.0691 Q1627.56 67.2693 1632.59 67.2693 Q1638.62 67.2693 1642.1 63.421 Q1645.63 59.5726 1645.63 52.9291 L1645.63 27.2059 L1653.08 27.2059 L1653.08 72.576 L1645.63 72.576 L1645.63 65.6084 Q1642.92 69.7404 1639.31 71.7658 Q1635.74 73.7508 1631.01 73.7508 Q1623.19 73.7508 1619.14 68.8897 Q1615.09 64.0286 1615.09 54.671 M1633.84 26.1121 L1633.84 26.1121 Z\" fill=\"#000000\" fill-rule=\"evenodd\" fill-opacity=\"1\" /><path clip-path=\"url(#clip160)\" d=\"M1689.05 49.7694 Q1680.02 49.7694 1676.54 51.8354 Q1673.05 53.9013 1673.05 58.8839 Q1673.05 62.8538 1675.65 65.2034 Q1678.28 67.5124 1682.78 67.5124 Q1688.97 67.5124 1692.7 63.1374 Q1696.47 58.7219 1696.47 51.4303 L1696.47 49.7694 L1689.05 49.7694 M1703.92 46.6907 L1703.92 72.576 L1696.47 72.576 L1696.47 65.6895 Q1693.92 69.8214 1690.11 71.8063 Q1686.3 73.7508 1680.79 73.7508 Q1673.82 73.7508 1669.69 69.8619 Q1665.6 65.9325 1665.6 59.3701 Q1665.6 51.7138 1670.7 47.825 Q1675.85 43.9361 1686.02 43.9361 L1696.47 43.9361 L1696.47 43.2069 Q1696.47 38.0623 1693.07 35.2672 Q1689.7 32.4315 1683.59 32.4315 Q1679.7 32.4315 1676.01 33.3632 Q1672.32 34.295 1668.92 36.1584 L1668.92 29.2718 Q1673.01 27.692 1676.86 26.9223 Q1680.71 26.1121 1684.36 26.1121 Q1694.2 26.1121 1699.06 31.2163 Q1703.92 36.3204 1703.92 46.6907 Z\" fill=\"#000000\" fill-rule=\"evenodd\" fill-opacity=\"1\" /><path clip-path=\"url(#clip160)\" d=\"M1719.27 9.54393 L1726.73 9.54393 L1726.73 72.576 L1719.27 72.576 L1719.27 9.54393 Z\" fill=\"#000000\" fill-rule=\"evenodd\" fill-opacity=\"1\" /><path clip-path=\"url(#clip160)\" d=\"M1771.25 28.5427 L1771.25 35.5912 Q1768.09 33.9709 1764.69 33.1607 Q1761.28 32.3505 1757.64 32.3505 Q1752.09 32.3505 1749.29 34.0519 Q1746.54 35.7533 1746.54 39.156 Q1746.54 41.7486 1748.52 43.2475 Q1750.51 44.7058 1756.5 46.0426 L1759.05 46.6097 Q1766.99 48.3111 1770.32 51.4303 Q1773.68 54.509 1773.68 60.0587 Q1773.68 66.3781 1768.66 70.0644 Q1763.67 73.7508 1754.92 73.7508 Q1751.28 73.7508 1747.31 73.0216 Q1743.38 72.3329 1739 70.9151 L1739 63.2184 Q1743.13 65.3654 1747.14 66.4591 Q1751.16 67.5124 1755.08 67.5124 Q1760.35 67.5124 1763.19 65.73 Q1766.02 63.9071 1766.02 60.6258 Q1766.02 57.5877 1763.96 55.9673 Q1761.93 54.3469 1755 52.8481 L1752.41 52.2405 Q1745.48 50.7821 1742.41 47.7845 Q1739.33 44.7463 1739.33 39.4801 Q1739.33 33.0797 1743.86 29.5959 Q1748.4 26.1121 1756.75 26.1121 Q1760.88 26.1121 1764.52 26.7198 Q1768.17 27.3274 1771.25 28.5427 Z\" fill=\"#000000\" fill-rule=\"evenodd\" fill-opacity=\"1\" /><polyline clip-path=\"url(#clip162)\" style=\"stroke:#009af9; stroke-linecap:butt; stroke-linejoin:round; stroke-width:4; stroke-opacity:1; fill:none\" points=\"\n",
       "  292.4,1386.4 302.452,1386.2 312.504,1385.57 322.556,1385.39 332.608,1386.13 342.66,1386.39 352.712,1386.4 362.764,1386.02 372.816,1385.21 382.868,1385.74 \n",
       "  392.92,1386.31 402.972,1386.39 413.024,1386.4 423.076,1386.39 433.128,1386.4 443.18,1386.39 453.232,1386.4 463.284,1386.39 473.336,1386.4 483.388,1386.39 \n",
       "  493.44,1386.4 503.491,1386.39 513.543,1386.4 523.595,1386.39 533.647,1386.4 543.699,1386.39 553.751,1386.4 563.803,1386.39 573.855,1386.4 583.907,1386.39 \n",
       "  593.959,1386.4 604.011,1386.39 614.063,1386.4 624.115,1386.39 634.167,1386.4 644.219,1386.39 654.271,1386.4 664.323,1386.39 674.375,1386.4 684.427,1386.39 \n",
       "  694.479,1386.4 704.531,1386.39 714.583,1386.4 724.635,1386.39 734.687,1386.4 744.739,1386.39 754.791,1386.4 764.843,1386.39 774.895,1386.4 784.947,1386.39 \n",
       "  794.999,1386.4 805.051,1386.39 815.103,1386.4 825.155,1386.2 835.207,1385.55 845.259,1385.41 855.311,1385.7 865.363,1385.1 875.415,1385.85 885.467,1386.12 \n",
       "  895.519,1385.44 905.571,1385.5 915.623,1385.46 925.675,1384.16 935.727,1385 945.779,1386.16 955.831,1385.88 965.883,1384.24 975.935,1382.98 985.987,1382.37 \n",
       "  996.039,1381.68 1006.09,1379.65 1016.14,1378.64 1026.19,1374.8 1036.25,1369.12 1046.3,1363.62 1056.35,1366.75 1066.4,1366.13 1076.45,1356.28 1086.51,1344.61 \n",
       "  1096.56,1327.42 1106.61,1306.76 1116.66,1280.45 1126.71,1255.81 1136.77,1192.4 1146.82,1118.73 1156.87,1025.18 1166.92,875.658 1176.97,713.746 1187.03,518.864 \n",
       "  1197.08,335.263 1207.13,244.851 1217.18,160.256 1227.23,224.72 1237.29,432.666 1247.34,649.673 1257.39,850.191 1267.44,990.152 1277.49,1073.41 1287.55,1146.39 \n",
       "  1297.6,1196.87 1307.65,1246.53 1317.7,1279.55 1327.75,1309.78 1337.81,1334.78 1347.86,1353.09 1357.91,1364.39 1367.96,1364 1378.01,1362.09 1388.07,1370.37 \n",
       "  1398.12,1377.04 1408.17,1376.88 1418.22,1377.84 1428.27,1380.66 1438.33,1382.25 1448.38,1383.79 1458.43,1385.05 1468.48,1384.18 1478.53,1385.1 1488.59,1385.77 \n",
       "  1498.64,1385.19 1508.69,1385.57 1518.74,1385.5 1528.79,1385.39 1538.85,1386.14 1548.9,1386.38 1558.95,1386.4 1569,1386.39 1579.05,1386.4 1589.11,1386.39 \n",
       "  1599.16,1386.4 1609.21,1386.39 1619.26,1386.4 1629.31,1386.39 1639.37,1386.4 1649.42,1386.39 1659.47,1386.4 1669.52,1386.39 1679.57,1386.4 1689.63,1386.39 \n",
       "  1699.68,1386.4 1709.73,1386.39 1719.78,1386.4 1729.83,1386.39 1739.89,1386.4 1749.94,1386.39 1759.99,1386.4 1770.04,1386.39 1780.09,1386.4 1790.15,1386.39 \n",
       "  1800.2,1386.4 1810.25,1386.39 1820.3,1386.4 1830.35,1386.39 1840.41,1386.4 1850.46,1386.39 1860.51,1386.4 1870.56,1386.39 1880.61,1386.4 1890.67,1386.39 \n",
       "  1900.72,1386.4 1910.77,1386.39 1920.82,1386.4 1930.87,1386.39 1940.93,1386.4 1950.98,1386.39 1961.03,1386.4 1971.08,1386.39 1981.13,1386.4 1991.19,1386.39 \n",
       "  2001.24,1386.4 2011.29,1386.39 2021.34,1386.4 2031.39,1386.39 2041.45,1386.4 2051.5,1386.39 2061.55,1386.4 2071.6,1386.39 2081.65,1386.4 2091.71,1386.39 \n",
       "  2101.76,1386.4 2111.81,1386.39 2121.86,1386.4 2131.91,1386.39 2141.97,1386.4 2152.02,1386.39 2162.07,1386.4 2172.12,1386.39 2182.17,1386.4 2192.23,1386.38 \n",
       "  2202.28,1386.33 2212.33,1385.77 2222.38,1385.19 2232.43,1386 2242.49,1386.4 2252.54,1386.11 2262.59,1385.41 2272.64,1385.55 2282.69,1386.21 2292.75,1386.39 \n",
       "  \n",
       "  \"/>\n",
       "</svg>\n"
      ]
     },
     "execution_count": 27,
     "metadata": {},
     "output_type": "execute_result"
    }
   ],
   "source": [
    "density(ehat2, title = \"Density Plot - Residuals\", ylabel = \"Frequency\", xlabel = \"Residuals\", legend = false)"
   ]
  },
  {
   "cell_type": "code",
   "execution_count": 28,
   "metadata": {},
   "outputs": [
    {
     "data": {
      "text/plain": [
       "Jarque-Bera normality test\n",
       "--------------------------\n",
       "Population details:\n",
       "    parameter of interest:   skewness and kurtosis\n",
       "    value under h_0:         \"0 and 3\"\n",
       "    point estimate:          \"0.7246054179873777 and 59.33555643268921\"\n",
       "\n",
       "Test summary:\n",
       "    outcome with 95% confidence: reject h_0\n",
       "    one-sided p-value:           <1e-99\n",
       "\n",
       "Details:\n",
       "    number of observations:         5196\n",
       "    JB statistic:                   6.8756e5\n"
      ]
     },
     "execution_count": 28,
     "metadata": {},
     "output_type": "execute_result"
    }
   ],
   "source": [
    "jbstat = JarqueBeraTest(ehat2);\n",
    "jbstat"
   ]
  },
  {
   "cell_type": "code",
   "execution_count": null,
   "metadata": {},
   "outputs": [],
   "source": []
  },
  {
   "cell_type": "code",
   "execution_count": null,
   "metadata": {},
   "outputs": [],
   "source": []
  }
 ],
 "metadata": {
  "kernelspec": {
   "display_name": "Julia 1.7.3",
   "language": "julia",
   "name": "julia-1.7"
  },
  "language_info": {
   "file_extension": ".jl",
   "mimetype": "application/julia",
   "name": "julia",
   "version": "1.7.3"
  }
 },
 "nbformat": 4,
 "nbformat_minor": 4
}
